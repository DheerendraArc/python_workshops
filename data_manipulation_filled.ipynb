{
 "cells": [
  {
   "cell_type": "markdown",
   "metadata": {},
   "source": [
    "<h1 align=\"center\"> Python for the Humanities and Social Sciences <br> *Data Manipulation* </h1>\n",
    "\n",
    "## Info\n",
    "- Scott Bailey (CIDR), *scottbailey@stanford.edu*\n",
    "- Javier de la Rosa (CIDR), *versae@stanford.edu*\n",
    "- Ashley Jester (CIDR/SSDS), *ajester@stanford.edu*\n",
    "- Green Library 121A, 2pm-4pm\n",
    "\n",
    "## Topics\n",
    "- Pandas Series and DataFrame (numpy, scipy)\n",
    "- Loading data in, null and missing data\n",
    "- Describing data\n",
    "- Column manipulation\n",
    "- String manipulation (super basic regex)\n",
    "- Split-Apply-Combine\n",
    "- Plotting (matplotlib, seaborn):\n",
    "  - Basic charts (line, bar, pie)\n",
    "  - Histograms\n",
    "  - Scatter plots\n",
    "  - Boxplots, violinplots\n",
    "\n",
    "### Virtual environments (venvs) and Anaconda\n",
    "- Isolated environment so each project can have its own dependencies without conflicts with other projects\n",
    "- Anaconda has its own environment manager and package manager, let's you easily set Python versions, and comes with many of the standard packages used in scientific computing\n",
    "\n",
    "To set up the environment for this project, in your BASH shell, run (`$` means a shell command):\n",
    "\n",
    "```\n",
    "$ conda create -n data python=3.5 anaconda\n",
    "```\n",
    "\n",
    "Or installing the specific packages we'll be using:\n",
    "\n",
    "```\n",
    "$ conda create -n data python=3.5\n",
    "$ conda install -n data jupyter pandas numpy scipy matplotlib seaborn requests\n",
    "```\n",
    "\n",
    "This creates an environment named `data`, where the python version is specified to 3.5, and installs the necessary packages for data exploration and manipulation in the environment.\n",
    "\n",
    "After you create the environment, run `source activate data` or `activate data` depending on whether you are on OSX or Windows to activate the environment.\n",
    "\n",
    "### Jupyter Notebooks\n",
    "- Used to be IPython Notebooks\n",
    "- Write and evaluate code at a granular level without rerunning scripts constantly and using a lot of print debugging\n",
    "- Mix in Markdown and HTML within your notebook, and so is a great way of presenting code and data analysis\n",
    "\n",
    "Once you have a virtual environment running, just run `jupyter notebook` from the location where you want to store your notebook.\n",
    "\n",
    "```\n",
    "$ jupyter notebook\n",
    "```\n",
    "\n",
    "And go to http://localhost:8888/ in your browser."
   ]
  },
  {
   "cell_type": "markdown",
   "metadata": {},
   "source": [
    "## Pandas\n",
    "\n",
    "From Jake Vanderplas' book [**Python Data Science Handbook**](http://shop.oreilly.com/product/0636920034919.do) (from which some code excerpts are used in this workshop):\n",
    "\n",
    "> Pandas is a newer package built on top of NumPy, and provides an efficient implementation of a `DataFrame`. `DataFrame`s are essentially multidimensional arrays with attached row and column labels, and often with heterogeneous types and/or missing data. As well as offering a convenient storage interface for labeled data, Pandas implements a number of powerful data operations familiar to users of both database frameworks and spreadsheet programs."
   ]
  },
  {
   "cell_type": "code",
   "execution_count": 1,
   "metadata": {
    "collapsed": false
   },
   "outputs": [],
   "source": [
    "import numpy as np\n",
    "import pandas as pd\n",
    "import requests\n",
    "\n",
    "# Set some options\n",
    "pd.set_option('display.max_columns', 20)\n",
    "pd.set_option('display.max_rows', 10)"
   ]
  },
  {
   "cell_type": "markdown",
   "metadata": {},
   "source": [
    "There are three main data structures in Pandas: `Series`, `DataFrame`, and `Index`. Pandas has a very decent [documentation](http://pandas.pydata.org/pandas-docs/stable/), and using Jupyter, any method help can be shown by appending the a `?` to the end and running the cell."
   ]
  },
  {
   "cell_type": "code",
   "execution_count": 2,
   "metadata": {
    "collapsed": true
   },
   "outputs": [],
   "source": [
    "# For example\n",
    "pd.isnull?"
   ]
  },
  {
   "cell_type": "markdown",
   "metadata": {},
   "source": [
    "### `Series`\n",
    "A `Series` is a one-dimensional array of indexed data. It can be seens as a specialized dictionary or a generalized NumPy array."
   ]
  },
  {
   "cell_type": "code",
   "execution_count": 3,
   "metadata": {
    "collapsed": false
   },
   "outputs": [
    {
     "data": {
      "text/plain": [
       "0    1\n",
       "1    2\n",
       "2    3\n",
       "3    4\n",
       "dtype: int64"
      ]
     },
     "execution_count": 3,
     "metadata": {},
     "output_type": "execute_result"
    }
   ],
   "source": [
    "pd.Series([1, 2, 3, 4])"
   ]
  },
  {
   "cell_type": "code",
   "execution_count": 4,
   "metadata": {
    "collapsed": false
   },
   "outputs": [
    {
     "data": {
      "text/plain": [
       "a    1\n",
       "b    2\n",
       "c    3\n",
       "d    4\n",
       "dtype: int64"
      ]
     },
     "execution_count": 4,
     "metadata": {},
     "output_type": "execute_result"
    }
   ],
   "source": [
    "pd.Series([1, 2, 3, 4], index=[\"a\", \"b\", \"c\", \"d\"])"
   ]
  },
  {
   "cell_type": "code",
   "execution_count": 5,
   "metadata": {
    "collapsed": false
   },
   "outputs": [
    {
     "data": {
      "text/plain": [
       "a    1\n",
       "b    2\n",
       "c    3\n",
       "d    4\n",
       "dtype: int64"
      ]
     },
     "execution_count": 5,
     "metadata": {},
     "output_type": "execute_result"
    }
   ],
   "source": [
    "pd.Series({\"a\": 1, \"b\": 2, \"c\": 3, \"d\": 4})"
   ]
  },
  {
   "cell_type": "code",
   "execution_count": 6,
   "metadata": {
    "collapsed": false
   },
   "outputs": [
    {
     "data": {
      "text/plain": [
       "a    True\n",
       "b    True\n",
       "c    True\n",
       "d    True\n",
       "dtype: bool"
      ]
     },
     "execution_count": 6,
     "metadata": {},
     "output_type": "execute_result"
    }
   ],
   "source": [
    "pd.Series([1, 2, 3, 4], index=[\"a\", \"b\", \"c\", \"d\"]) == pd.Series({\"a\": 1, \"b\": 2, \"c\": 3, \"d\": 4})"
   ]
  },
  {
   "cell_type": "code",
   "execution_count": 7,
   "metadata": {
    "collapsed": false
   },
   "outputs": [
    {
     "data": {
      "text/plain": [
       "1"
      ]
     },
     "execution_count": 7,
     "metadata": {},
     "output_type": "execute_result"
    }
   ],
   "source": [
    "# Accessing elements\n",
    "s = pd.Series([1, 2, 3, 4], index=[\"a\", \"b\", \"c\", \"d\"])\n",
    "s[\"a\"]"
   ]
  },
  {
   "cell_type": "code",
   "execution_count": 8,
   "metadata": {
    "collapsed": false
   },
   "outputs": [
    {
     "data": {
      "text/plain": [
       "b    2\n",
       "c    3\n",
       "d    4\n",
       "dtype: int64"
      ]
     },
     "execution_count": 8,
     "metadata": {},
     "output_type": "execute_result"
    }
   ],
   "source": [
    "s[\"b\":\"d\"]"
   ]
  },
  {
   "cell_type": "code",
   "execution_count": 9,
   "metadata": {
    "collapsed": false
   },
   "outputs": [
    {
     "data": {
      "text/plain": [
       "array([1, 2, 3, 4])"
      ]
     },
     "execution_count": 9,
     "metadata": {},
     "output_type": "execute_result"
    }
   ],
   "source": [
    "# NumPy array underneath\n",
    "s.values"
   ]
  },
  {
   "cell_type": "code",
   "execution_count": 10,
   "metadata": {
    "collapsed": false
   },
   "outputs": [
    {
     "data": {
      "text/plain": [
       "10"
      ]
     },
     "execution_count": 10,
     "metadata": {},
     "output_type": "execute_result"
    }
   ],
   "source": [
    "s.sum()"
   ]
  },
  {
   "cell_type": "code",
   "execution_count": 11,
   "metadata": {
    "collapsed": false
   },
   "outputs": [
    {
     "data": {
      "text/plain": [
       "24"
      ]
     },
     "execution_count": 11,
     "metadata": {},
     "output_type": "execute_result"
    }
   ],
   "source": [
    "s.prod()"
   ]
  },
  {
   "cell_type": "code",
   "execution_count": 12,
   "metadata": {
    "collapsed": false
   },
   "outputs": [
    {
     "data": {
      "text/plain": [
       "Index(['a', 'b', 'c', 'd'], dtype='object')"
      ]
     },
     "execution_count": 12,
     "metadata": {},
     "output_type": "execute_result"
    }
   ],
   "source": [
    "# With an index\n",
    "s.index"
   ]
  },
  {
   "cell_type": "markdown",
   "metadata": {},
   "source": [
    "### `DataFrame`\n",
    "\n",
    "A `DataFrame` is a two-dimensional array with both flexible row indices and flexible column names. It can be seen as \n",
    "as a generalization of a two-dimensional NumPy array, or a specialization of a dictionary in which each column name maps to a `Series` of column data."
   ]
  },
  {
   "cell_type": "code",
   "execution_count": 13,
   "metadata": {
    "collapsed": false
   },
   "outputs": [
    {
     "data": {
      "text/html": [
       "<div>\n",
       "<table border=\"1\" class=\"dataframe\">\n",
       "  <thead>\n",
       "    <tr style=\"text-align: right;\">\n",
       "      <th></th>\n",
       "      <th>area</th>\n",
       "      <th>population</th>\n",
       "    </tr>\n",
       "  </thead>\n",
       "  <tbody>\n",
       "    <tr>\n",
       "      <th>California</th>\n",
       "      <td>423967</td>\n",
       "      <td>38332521</td>\n",
       "    </tr>\n",
       "    <tr>\n",
       "      <th>Florida</th>\n",
       "      <td>170312</td>\n",
       "      <td>19552860</td>\n",
       "    </tr>\n",
       "    <tr>\n",
       "      <th>Illinois</th>\n",
       "      <td>149995</td>\n",
       "      <td>12882135</td>\n",
       "    </tr>\n",
       "    <tr>\n",
       "      <th>New York</th>\n",
       "      <td>141297</td>\n",
       "      <td>19651127</td>\n",
       "    </tr>\n",
       "    <tr>\n",
       "      <th>Texas</th>\n",
       "      <td>695662</td>\n",
       "      <td>26448193</td>\n",
       "    </tr>\n",
       "  </tbody>\n",
       "</table>\n",
       "</div>"
      ],
      "text/plain": [
       "              area  population\n",
       "California  423967    38332521\n",
       "Florida     170312    19552860\n",
       "Illinois    149995    12882135\n",
       "New York    141297    19651127\n",
       "Texas       695662    26448193"
      ]
     },
     "execution_count": 13,
     "metadata": {},
     "output_type": "execute_result"
    }
   ],
   "source": [
    "population_dict = {'California': 38332521, 'Texas': 26448193, 'New York': 19651127,\n",
    "                   'Florida': 19552860, 'Illinois': 12882135}\n",
    "area_dict = {'California': 423967, 'Texas': 695662, 'New York': 141297,\n",
    "             'Florida': 170312, 'Illinois': 149995}\n",
    "states = pd.DataFrame({'population': population_dict, 'area': area_dict})\n",
    "states"
   ]
  },
  {
   "cell_type": "code",
   "execution_count": 14,
   "metadata": {
    "collapsed": false
   },
   "outputs": [
    {
     "data": {
      "text/html": [
       "<div>\n",
       "<table border=\"1\" class=\"dataframe\">\n",
       "  <thead>\n",
       "    <tr style=\"text-align: right;\">\n",
       "      <th></th>\n",
       "      <th>area</th>\n",
       "      <th>population</th>\n",
       "    </tr>\n",
       "  </thead>\n",
       "  <tbody>\n",
       "    <tr>\n",
       "      <th>California</th>\n",
       "      <td>423967</td>\n",
       "      <td>38332521</td>\n",
       "    </tr>\n",
       "    <tr>\n",
       "      <th>Florida</th>\n",
       "      <td>170312</td>\n",
       "      <td>19552860</td>\n",
       "    </tr>\n",
       "    <tr>\n",
       "      <th>Illinois</th>\n",
       "      <td>149995</td>\n",
       "      <td>12882135</td>\n",
       "    </tr>\n",
       "    <tr>\n",
       "      <th>New York</th>\n",
       "      <td>141297</td>\n",
       "      <td>19651127</td>\n",
       "    </tr>\n",
       "    <tr>\n",
       "      <th>Texas</th>\n",
       "      <td>695662</td>\n",
       "      <td>26448193</td>\n",
       "    </tr>\n",
       "  </tbody>\n",
       "</table>\n",
       "</div>"
      ],
      "text/plain": [
       "              area  population\n",
       "California  423967    38332521\n",
       "Florida     170312    19552860\n",
       "Illinois    149995    12882135\n",
       "New York    141297    19651127\n",
       "Texas       695662    26448193"
      ]
     },
     "execution_count": 14,
     "metadata": {},
     "output_type": "execute_result"
    }
   ],
   "source": [
    "population = pd.Series(population_dict)\n",
    "area = pd.Series(area_dict)\n",
    "pd.DataFrame({'population': population, 'area': area})"
   ]
  },
  {
   "cell_type": "code",
   "execution_count": 15,
   "metadata": {
    "collapsed": false
   },
   "outputs": [
    {
     "data": {
      "text/plain": [
       "Index(['California', 'Florida', 'Illinois', 'New York', 'Texas'], dtype='object')"
      ]
     },
     "execution_count": 15,
     "metadata": {},
     "output_type": "execute_result"
    }
   ],
   "source": [
    "# Index\n",
    "states.index"
   ]
  },
  {
   "cell_type": "code",
   "execution_count": 16,
   "metadata": {
    "collapsed": false
   },
   "outputs": [
    {
     "data": {
      "text/plain": [
       "array([[  423967, 38332521],\n",
       "       [  170312, 19552860],\n",
       "       [  149995, 12882135],\n",
       "       [  141297, 19651127],\n",
       "       [  695662, 26448193]])"
      ]
     },
     "execution_count": 16,
     "metadata": {},
     "output_type": "execute_result"
    }
   ],
   "source": [
    "# Values\n",
    "states.values"
   ]
  },
  {
   "cell_type": "code",
   "execution_count": 17,
   "metadata": {
    "collapsed": false
   },
   "outputs": [
    {
     "data": {
      "text/plain": [
       "Index(['area', 'population'], dtype='object')"
      ]
     },
     "execution_count": 17,
     "metadata": {},
     "output_type": "execute_result"
    }
   ],
   "source": [
    "# Columns\n",
    "states.columns"
   ]
  },
  {
   "cell_type": "markdown",
   "metadata": {},
   "source": [
    "`DataFrames` can be created in different ways"
   ]
  },
  {
   "cell_type": "code",
   "execution_count": 18,
   "metadata": {
    "collapsed": false
   },
   "outputs": [
    {
     "data": {
      "text/html": [
       "<div>\n",
       "<table border=\"1\" class=\"dataframe\">\n",
       "  <thead>\n",
       "    <tr style=\"text-align: right;\">\n",
       "      <th></th>\n",
       "      <th>column A</th>\n",
       "      <th>column B</th>\n",
       "    </tr>\n",
       "  </thead>\n",
       "  <tbody>\n",
       "    <tr>\n",
       "      <th>0</th>\n",
       "      <td>1</td>\n",
       "      <td>a</td>\n",
       "    </tr>\n",
       "    <tr>\n",
       "      <th>1</th>\n",
       "      <td>2</td>\n",
       "      <td>b</td>\n",
       "    </tr>\n",
       "    <tr>\n",
       "      <th>2</th>\n",
       "      <td>3</td>\n",
       "      <td>c</td>\n",
       "    </tr>\n",
       "    <tr>\n",
       "      <th>3</th>\n",
       "      <td>4</td>\n",
       "      <td>d</td>\n",
       "    </tr>\n",
       "  </tbody>\n",
       "</table>\n",
       "</div>"
      ],
      "text/plain": [
       "   column A column B\n",
       "0         1        a\n",
       "1         2        b\n",
       "2         3        c\n",
       "3         4        d"
      ]
     },
     "execution_count": 18,
     "metadata": {},
     "output_type": "execute_result"
    }
   ],
   "source": [
    "# From regular dictionaries\n",
    "data = {'column A': [1,2,3,4], 'column B': list('abcd')}\n",
    "pd.DataFrame(data)"
   ]
  },
  {
   "cell_type": "code",
   "execution_count": 19,
   "metadata": {
    "collapsed": false
   },
   "outputs": [
    {
     "data": {
      "text/html": [
       "<div>\n",
       "<table border=\"1\" class=\"dataframe\">\n",
       "  <thead>\n",
       "    <tr style=\"text-align: right;\">\n",
       "      <th></th>\n",
       "      <th>column A</th>\n",
       "      <th>column B</th>\n",
       "    </tr>\n",
       "  </thead>\n",
       "  <tbody>\n",
       "    <tr>\n",
       "      <th>0</th>\n",
       "      <td>1</td>\n",
       "      <td>a</td>\n",
       "    </tr>\n",
       "    <tr>\n",
       "      <th>1</th>\n",
       "      <td>2</td>\n",
       "      <td>b</td>\n",
       "    </tr>\n",
       "    <tr>\n",
       "      <th>2</th>\n",
       "      <td>3</td>\n",
       "      <td>c</td>\n",
       "    </tr>\n",
       "    <tr>\n",
       "      <th>3</th>\n",
       "      <td>4</td>\n",
       "      <td>d</td>\n",
       "    </tr>\n",
       "  </tbody>\n",
       "</table>\n",
       "</div>"
      ],
      "text/plain": [
       "   column A column B\n",
       "0         1        a\n",
       "1         2        b\n",
       "2         3        c\n",
       "3         4        d"
      ]
     },
     "execution_count": 19,
     "metadata": {},
     "output_type": "execute_result"
    }
   ],
   "source": [
    "pd.DataFrame.from_dict(data)"
   ]
  },
  {
   "cell_type": "code",
   "execution_count": 20,
   "metadata": {
    "collapsed": false
   },
   "outputs": [
    {
     "data": {
      "text/html": [
       "<div>\n",
       "<table border=\"1\" class=\"dataframe\">\n",
       "  <thead>\n",
       "    <tr style=\"text-align: right;\">\n",
       "      <th></th>\n",
       "      <th>ColumnA</th>\n",
       "      <th>ColumnB</th>\n",
       "    </tr>\n",
       "  </thead>\n",
       "  <tbody>\n",
       "    <tr>\n",
       "      <th>0</th>\n",
       "      <td>1</td>\n",
       "      <td>a</td>\n",
       "    </tr>\n",
       "    <tr>\n",
       "      <th>1</th>\n",
       "      <td>2</td>\n",
       "      <td>b</td>\n",
       "    </tr>\n",
       "    <tr>\n",
       "      <th>2</th>\n",
       "      <td>3</td>\n",
       "      <td>c</td>\n",
       "    </tr>\n",
       "    <tr>\n",
       "      <th>3</th>\n",
       "      <td>4</td>\n",
       "      <td>d</td>\n",
       "    </tr>\n",
       "  </tbody>\n",
       "</table>\n",
       "</div>"
      ],
      "text/plain": [
       "   ColumnA ColumnB\n",
       "0        1       a\n",
       "1        2       b\n",
       "2        3       c\n",
       "3        4       d"
      ]
     },
     "execution_count": 20,
     "metadata": {},
     "output_type": "execute_result"
    }
   ],
   "source": [
    "# From lists\n",
    "data = [(1,'a'),(2,'b'),(3,'c'),(4,'d')]\n",
    "labels = ['ColumnA','ColumnB']\n",
    "pd.DataFrame.from_records(data, columns=labels)"
   ]
  },
  {
   "cell_type": "markdown",
   "metadata": {},
   "source": [
    "### Index"
   ]
  },
  {
   "cell_type": "code",
   "execution_count": 21,
   "metadata": {
    "collapsed": false
   },
   "outputs": [
    {
     "data": {
      "text/plain": [
       "Index(['California', 'Florida', 'Illinois', 'New York', 'Texas'], dtype='object')"
      ]
     },
     "execution_count": 21,
     "metadata": {},
     "output_type": "execute_result"
    }
   ],
   "source": [
    "states.index"
   ]
  },
  {
   "cell_type": "code",
   "execution_count": 22,
   "metadata": {
    "collapsed": false
   },
   "outputs": [
    {
     "data": {
      "text/plain": [
       "True"
      ]
     },
     "execution_count": 22,
     "metadata": {},
     "output_type": "execute_result"
    }
   ],
   "source": [
    "# Acts like a Python set() that supports duplicated items\n",
    "\"California\" in states.index"
   ]
  },
  {
   "cell_type": "markdown",
   "metadata": {},
   "source": [
    "## Data I/O"
   ]
  },
  {
   "cell_type": "markdown",
   "metadata": {},
   "source": [
    "Pandas provides a few methods to load in and out data in CSVs, Excel spreadsheets, HDF, or even JSON format.\n",
    "\n",
    "For example, click in the next URL of a CSV file containing twitter data during the release of the Apple Watch: http://bit.ly/python_workshop_data"
   ]
  },
  {
   "cell_type": "code",
   "execution_count": 23,
   "metadata": {
    "collapsed": false
   },
   "outputs": [
    {
     "data": {
      "text/html": [
       "<div>\n",
       "<table border=\"1\" class=\"dataframe\">\n",
       "  <thead>\n",
       "    <tr style=\"text-align: right;\">\n",
       "      <th></th>\n",
       "      <th>contributors</th>\n",
       "      <th>created_at</th>\n",
       "      <th>favorite_count</th>\n",
       "      <th>favorited</th>\n",
       "      <th>filter_level</th>\n",
       "      <th>id</th>\n",
       "      <th>id_str</th>\n",
       "      <th>in_reply_to_screen_name</th>\n",
       "      <th>in_reply_to_status_id</th>\n",
       "      <th>in_reply_to_status_id_str</th>\n",
       "      <th>...</th>\n",
       "      <th>hashtags</th>\n",
       "      <th>media</th>\n",
       "      <th>symbols</th>\n",
       "      <th>trends</th>\n",
       "      <th>urls</th>\n",
       "      <th>user_mentions</th>\n",
       "      <th>lat</th>\n",
       "      <th>lon</th>\n",
       "      <th>country</th>\n",
       "      <th>conuntry_code</th>\n",
       "    </tr>\n",
       "  </thead>\n",
       "  <tbody>\n",
       "    <tr>\n",
       "      <th>0</th>\n",
       "      <td>NaN</td>\n",
       "      <td>2015-03-09 21:01:01.000</td>\n",
       "      <td>0.0</td>\n",
       "      <td>0.0</td>\n",
       "      <td>low</td>\n",
       "      <td>575038603887251456</td>\n",
       "      <td>5.750386e+17</td>\n",
       "      <td>NaN</td>\n",
       "      <td>NaN</td>\n",
       "      <td>NaN</td>\n",
       "      <td>...</td>\n",
       "      <td>NaN</td>\n",
       "      <td>NaN</td>\n",
       "      <td>NaN</td>\n",
       "      <td>NaN</td>\n",
       "      <td>http://ift.tt/1AXDXIR</td>\n",
       "      <td>NaN</td>\n",
       "      <td>NaN</td>\n",
       "      <td>NaN</td>\n",
       "      <td>NaN</td>\n",
       "      <td>NaN</td>\n",
       "    </tr>\n",
       "    <tr>\n",
       "      <th>1</th>\n",
       "      <td>NaN</td>\n",
       "      <td>2015-03-09 21:08:06.000</td>\n",
       "      <td>0.0</td>\n",
       "      <td>0.0</td>\n",
       "      <td>low</td>\n",
       "      <td>575040384482590720</td>\n",
       "      <td>5.750404e+17</td>\n",
       "      <td>NaN</td>\n",
       "      <td>NaN</td>\n",
       "      <td>NaN</td>\n",
       "      <td>...</td>\n",
       "      <td>NaN</td>\n",
       "      <td>http://twitter.com/MisterC00l/status/575013358...</td>\n",
       "      <td>NaN</td>\n",
       "      <td>NaN</td>\n",
       "      <td>NaN</td>\n",
       "      <td>MisterC00l</td>\n",
       "      <td>NaN</td>\n",
       "      <td>NaN</td>\n",
       "      <td>NaN</td>\n",
       "      <td>NaN</td>\n",
       "    </tr>\n",
       "    <tr>\n",
       "      <th>2</th>\n",
       "      <td>NaN</td>\n",
       "      <td>2015-03-09 21:21:47.000</td>\n",
       "      <td>0.0</td>\n",
       "      <td>0.0</td>\n",
       "      <td>low</td>\n",
       "      <td>575043831525146624</td>\n",
       "      <td>5.750438e+17</td>\n",
       "      <td>NaN</td>\n",
       "      <td>NaN</td>\n",
       "      <td>NaN</td>\n",
       "      <td>...</td>\n",
       "      <td>android</td>\n",
       "      <td>http://twitter.com/androidcentral/status/57502...</td>\n",
       "      <td>NaN</td>\n",
       "      <td>NaN</td>\n",
       "      <td>http://phon.es/yljt</td>\n",
       "      <td>androidcentral</td>\n",
       "      <td>NaN</td>\n",
       "      <td>NaN</td>\n",
       "      <td>NaN</td>\n",
       "      <td>NaN</td>\n",
       "    </tr>\n",
       "    <tr>\n",
       "      <th>3</th>\n",
       "      <td>NaN</td>\n",
       "      <td>2015-03-09 21:27:31.000</td>\n",
       "      <td>0.0</td>\n",
       "      <td>0.0</td>\n",
       "      <td>low</td>\n",
       "      <td>575045273384263680</td>\n",
       "      <td>5.750453e+17</td>\n",
       "      <td>NaN</td>\n",
       "      <td>NaN</td>\n",
       "      <td>NaN</td>\n",
       "      <td>...</td>\n",
       "      <td>NaN</td>\n",
       "      <td>NaN</td>\n",
       "      <td>NaN</td>\n",
       "      <td>NaN</td>\n",
       "      <td>http://huff.to/1KMYiMd</td>\n",
       "      <td>LeHuffPost</td>\n",
       "      <td>NaN</td>\n",
       "      <td>NaN</td>\n",
       "      <td>NaN</td>\n",
       "      <td>NaN</td>\n",
       "    </tr>\n",
       "    <tr>\n",
       "      <th>4</th>\n",
       "      <td>NaN</td>\n",
       "      <td>2015-03-09 21:01:23.000</td>\n",
       "      <td>0.0</td>\n",
       "      <td>0.0</td>\n",
       "      <td>low</td>\n",
       "      <td>575038696988131328</td>\n",
       "      <td>5.750387e+17</td>\n",
       "      <td>NaN</td>\n",
       "      <td>NaN</td>\n",
       "      <td>NaN</td>\n",
       "      <td>...</td>\n",
       "      <td>NaN</td>\n",
       "      <td>NaN</td>\n",
       "      <td>NaN</td>\n",
       "      <td>NaN</td>\n",
       "      <td>http://japan.cnet.com/sp/apple_watch/35061515/...</td>\n",
       "      <td>NaN</td>\n",
       "      <td>NaN</td>\n",
       "      <td>NaN</td>\n",
       "      <td>NaN</td>\n",
       "      <td>NaN</td>\n",
       "    </tr>\n",
       "    <tr>\n",
       "      <th>...</th>\n",
       "      <td>...</td>\n",
       "      <td>...</td>\n",
       "      <td>...</td>\n",
       "      <td>...</td>\n",
       "      <td>...</td>\n",
       "      <td>...</td>\n",
       "      <td>...</td>\n",
       "      <td>...</td>\n",
       "      <td>...</td>\n",
       "      <td>...</td>\n",
       "      <td>...</td>\n",
       "      <td>...</td>\n",
       "      <td>...</td>\n",
       "      <td>...</td>\n",
       "      <td>...</td>\n",
       "      <td>...</td>\n",
       "      <td>...</td>\n",
       "      <td>...</td>\n",
       "      <td>...</td>\n",
       "      <td>...</td>\n",
       "      <td>...</td>\n",
       "    </tr>\n",
       "    <tr>\n",
       "      <th>9980</th>\n",
       "      <td>NaN</td>\n",
       "      <td>2015-03-09 21:21:24.000</td>\n",
       "      <td>0.0</td>\n",
       "      <td>0.0</td>\n",
       "      <td>low</td>\n",
       "      <td>575043732472528896</td>\n",
       "      <td>5.750437e+17</td>\n",
       "      <td>NaN</td>\n",
       "      <td>NaN</td>\n",
       "      <td>NaN</td>\n",
       "      <td>...</td>\n",
       "      <td>NaN</td>\n",
       "      <td>NaN</td>\n",
       "      <td>NaN</td>\n",
       "      <td>NaN</td>\n",
       "      <td>http://www.apple.com/ru/watch/battery.html</td>\n",
       "      <td>wylsacom</td>\n",
       "      <td>NaN</td>\n",
       "      <td>NaN</td>\n",
       "      <td>NaN</td>\n",
       "      <td>NaN</td>\n",
       "    </tr>\n",
       "    <tr>\n",
       "      <th>9981</th>\n",
       "      <td>NaN</td>\n",
       "      <td>2015-03-09 21:32:28.000</td>\n",
       "      <td>0.0</td>\n",
       "      <td>0.0</td>\n",
       "      <td>low</td>\n",
       "      <td>575046518094200832</td>\n",
       "      <td>5.750465e+17</td>\n",
       "      <td>NaN</td>\n",
       "      <td>NaN</td>\n",
       "      <td>NaN</td>\n",
       "      <td>...</td>\n",
       "      <td>NaN</td>\n",
       "      <td>NaN</td>\n",
       "      <td>NaN</td>\n",
       "      <td>NaN</td>\n",
       "      <td>NaN</td>\n",
       "      <td>NaN</td>\n",
       "      <td>NaN</td>\n",
       "      <td>NaN</td>\n",
       "      <td>NaN</td>\n",
       "      <td>NaN</td>\n",
       "    </tr>\n",
       "    <tr>\n",
       "      <th>9982</th>\n",
       "      <td>NaN</td>\n",
       "      <td>2015-03-09 21:27:59.000</td>\n",
       "      <td>0.0</td>\n",
       "      <td>0.0</td>\n",
       "      <td>low</td>\n",
       "      <td>575045390338256896</td>\n",
       "      <td>5.750454e+17</td>\n",
       "      <td>NaN</td>\n",
       "      <td>NaN</td>\n",
       "      <td>NaN</td>\n",
       "      <td>...</td>\n",
       "      <td>NaN</td>\n",
       "      <td>http://twitter.com/SAI/status/5750453903382568...</td>\n",
       "      <td>NaN</td>\n",
       "      <td>NaN</td>\n",
       "      <td>http://read.bi/1AXKvrd</td>\n",
       "      <td>NaN</td>\n",
       "      <td>NaN</td>\n",
       "      <td>NaN</td>\n",
       "      <td>NaN</td>\n",
       "      <td>NaN</td>\n",
       "    </tr>\n",
       "    <tr>\n",
       "      <th>9983</th>\n",
       "      <td>NaN</td>\n",
       "      <td>2015-03-09 21:27:31.000</td>\n",
       "      <td>0.0</td>\n",
       "      <td>0.0</td>\n",
       "      <td>low</td>\n",
       "      <td>575045274558578688</td>\n",
       "      <td>5.750453e+17</td>\n",
       "      <td>NaN</td>\n",
       "      <td>NaN</td>\n",
       "      <td>NaN</td>\n",
       "      <td>...</td>\n",
       "      <td>NaN</td>\n",
       "      <td>NaN</td>\n",
       "      <td>NaN</td>\n",
       "      <td>NaN</td>\n",
       "      <td>http://apple.com/watch,https://amp.twimg.com/v...</td>\n",
       "      <td>AppStore</td>\n",
       "      <td>NaN</td>\n",
       "      <td>NaN</td>\n",
       "      <td>NaN</td>\n",
       "      <td>NaN</td>\n",
       "    </tr>\n",
       "    <tr>\n",
       "      <th>9984</th>\n",
       "      <td>NaN</td>\n",
       "      <td>2015-03-09 21:30:20.000</td>\n",
       "      <td>0.0</td>\n",
       "      <td>0.0</td>\n",
       "      <td>low</td>\n",
       "      <td>575045979759599616</td>\n",
       "      <td>5.750460e+17</td>\n",
       "      <td>NaN</td>\n",
       "      <td>NaN</td>\n",
       "      <td>NaN</td>\n",
       "      <td>...</td>\n",
       "      <td>NaN</td>\n",
       "      <td>NaN</td>\n",
       "      <td>NaN</td>\n",
       "      <td>NaN</td>\n",
       "      <td>NaN</td>\n",
       "      <td>NaN</td>\n",
       "      <td>NaN</td>\n",
       "      <td>NaN</td>\n",
       "      <td>NaN</td>\n",
       "      <td>NaN</td>\n",
       "    </tr>\n",
       "  </tbody>\n",
       "</table>\n",
       "<p>9985 rows × 37 columns</p>\n",
       "</div>"
      ],
      "text/plain": [
       "      contributors               created_at  favorite_count  favorited  \\\n",
       "0              NaN  2015-03-09 21:01:01.000             0.0        0.0   \n",
       "1              NaN  2015-03-09 21:08:06.000             0.0        0.0   \n",
       "2              NaN  2015-03-09 21:21:47.000             0.0        0.0   \n",
       "3              NaN  2015-03-09 21:27:31.000             0.0        0.0   \n",
       "4              NaN  2015-03-09 21:01:23.000             0.0        0.0   \n",
       "...            ...                      ...             ...        ...   \n",
       "9980           NaN  2015-03-09 21:21:24.000             0.0        0.0   \n",
       "9981           NaN  2015-03-09 21:32:28.000             0.0        0.0   \n",
       "9982           NaN  2015-03-09 21:27:59.000             0.0        0.0   \n",
       "9983           NaN  2015-03-09 21:27:31.000             0.0        0.0   \n",
       "9984           NaN  2015-03-09 21:30:20.000             0.0        0.0   \n",
       "\n",
       "     filter_level                  id        id_str in_reply_to_screen_name  \\\n",
       "0             low  575038603887251456  5.750386e+17                     NaN   \n",
       "1             low  575040384482590720  5.750404e+17                     NaN   \n",
       "2             low  575043831525146624  5.750438e+17                     NaN   \n",
       "3             low  575045273384263680  5.750453e+17                     NaN   \n",
       "4             low  575038696988131328  5.750387e+17                     NaN   \n",
       "...           ...                 ...           ...                     ...   \n",
       "9980          low  575043732472528896  5.750437e+17                     NaN   \n",
       "9981          low  575046518094200832  5.750465e+17                     NaN   \n",
       "9982          low  575045390338256896  5.750454e+17                     NaN   \n",
       "9983          low  575045274558578688  5.750453e+17                     NaN   \n",
       "9984          low  575045979759599616  5.750460e+17                     NaN   \n",
       "\n",
       "      in_reply_to_status_id  in_reply_to_status_id_str      ...       \\\n",
       "0                       NaN                        NaN      ...        \n",
       "1                       NaN                        NaN      ...        \n",
       "2                       NaN                        NaN      ...        \n",
       "3                       NaN                        NaN      ...        \n",
       "4                       NaN                        NaN      ...        \n",
       "...                     ...                        ...      ...        \n",
       "9980                    NaN                        NaN      ...        \n",
       "9981                    NaN                        NaN      ...        \n",
       "9982                    NaN                        NaN      ...        \n",
       "9983                    NaN                        NaN      ...        \n",
       "9984                    NaN                        NaN      ...        \n",
       "\n",
       "      hashtags                                              media symbols  \\\n",
       "0          NaN                                                NaN     NaN   \n",
       "1          NaN  http://twitter.com/MisterC00l/status/575013358...     NaN   \n",
       "2      android  http://twitter.com/androidcentral/status/57502...     NaN   \n",
       "3          NaN                                                NaN     NaN   \n",
       "4          NaN                                                NaN     NaN   \n",
       "...        ...                                                ...     ...   \n",
       "9980       NaN                                                NaN     NaN   \n",
       "9981       NaN                                                NaN     NaN   \n",
       "9982       NaN  http://twitter.com/SAI/status/5750453903382568...     NaN   \n",
       "9983       NaN                                                NaN     NaN   \n",
       "9984       NaN                                                NaN     NaN   \n",
       "\n",
       "      trends                                               urls  \\\n",
       "0        NaN                              http://ift.tt/1AXDXIR   \n",
       "1        NaN                                                NaN   \n",
       "2        NaN                                http://phon.es/yljt   \n",
       "3        NaN                             http://huff.to/1KMYiMd   \n",
       "4        NaN  http://japan.cnet.com/sp/apple_watch/35061515/...   \n",
       "...      ...                                                ...   \n",
       "9980     NaN         http://www.apple.com/ru/watch/battery.html   \n",
       "9981     NaN                                                NaN   \n",
       "9982     NaN                             http://read.bi/1AXKvrd   \n",
       "9983     NaN  http://apple.com/watch,https://amp.twimg.com/v...   \n",
       "9984     NaN                                                NaN   \n",
       "\n",
       "       user_mentions  lat  lon country conuntry_code  \n",
       "0                NaN  NaN  NaN     NaN           NaN  \n",
       "1         MisterC00l  NaN  NaN     NaN           NaN  \n",
       "2     androidcentral  NaN  NaN     NaN           NaN  \n",
       "3         LeHuffPost  NaN  NaN     NaN           NaN  \n",
       "4                NaN  NaN  NaN     NaN           NaN  \n",
       "...              ...  ...  ...     ...           ...  \n",
       "9980        wylsacom  NaN  NaN     NaN           NaN  \n",
       "9981             NaN  NaN  NaN     NaN           NaN  \n",
       "9982             NaN  NaN  NaN     NaN           NaN  \n",
       "9983        AppStore  NaN  NaN     NaN           NaN  \n",
       "9984             NaN  NaN  NaN     NaN           NaN  \n",
       "\n",
       "[9985 rows x 37 columns]"
      ]
     },
     "execution_count": 23,
     "metadata": {},
     "output_type": "execute_result"
    }
   ],
   "source": [
    "# Pandas can even fetch data from a URL\n",
    "pd.read_csv(\"http://bit.ly/python_workshop_data\")"
   ]
  },
  {
   "cell_type": "markdown",
   "metadata": {},
   "source": [
    "Let's save the previous data to a locala file."
   ]
  },
  {
   "cell_type": "code",
   "execution_count": 24,
   "metadata": {
    "collapsed": false
   },
   "outputs": [],
   "source": [
    "with open(\"twitter.csv\", \"wb\") as file:\n",
    "    file.write(requests.get(\"http://bit.ly/python_workshop_data\").content)"
   ]
  },
  {
   "cell_type": "code",
   "execution_count": 25,
   "metadata": {
    "collapsed": false
   },
   "outputs": [
    {
     "data": {
      "text/html": [
       "<div>\n",
       "<table border=\"1\" class=\"dataframe\">\n",
       "  <thead>\n",
       "    <tr style=\"text-align: right;\">\n",
       "      <th></th>\n",
       "      <th>contributors</th>\n",
       "      <th>created_at</th>\n",
       "      <th>favorite_count</th>\n",
       "      <th>favorited</th>\n",
       "      <th>filter_level</th>\n",
       "      <th>id</th>\n",
       "      <th>id_str</th>\n",
       "      <th>in_reply_to_screen_name</th>\n",
       "      <th>in_reply_to_status_id</th>\n",
       "      <th>in_reply_to_status_id_str</th>\n",
       "      <th>...</th>\n",
       "      <th>hashtags</th>\n",
       "      <th>media</th>\n",
       "      <th>symbols</th>\n",
       "      <th>trends</th>\n",
       "      <th>urls</th>\n",
       "      <th>user_mentions</th>\n",
       "      <th>lat</th>\n",
       "      <th>lon</th>\n",
       "      <th>country</th>\n",
       "      <th>conuntry_code</th>\n",
       "    </tr>\n",
       "  </thead>\n",
       "  <tbody>\n",
       "    <tr>\n",
       "      <th>0</th>\n",
       "      <td>NaN</td>\n",
       "      <td>2015-03-09 21:01:01.000</td>\n",
       "      <td>0.0</td>\n",
       "      <td>0.0</td>\n",
       "      <td>low</td>\n",
       "      <td>575038603887251456</td>\n",
       "      <td>5.750386e+17</td>\n",
       "      <td>NaN</td>\n",
       "      <td>NaN</td>\n",
       "      <td>NaN</td>\n",
       "      <td>...</td>\n",
       "      <td>NaN</td>\n",
       "      <td>NaN</td>\n",
       "      <td>NaN</td>\n",
       "      <td>NaN</td>\n",
       "      <td>http://ift.tt/1AXDXIR</td>\n",
       "      <td>NaN</td>\n",
       "      <td>NaN</td>\n",
       "      <td>NaN</td>\n",
       "      <td>NaN</td>\n",
       "      <td>NaN</td>\n",
       "    </tr>\n",
       "    <tr>\n",
       "      <th>1</th>\n",
       "      <td>NaN</td>\n",
       "      <td>2015-03-09 21:08:06.000</td>\n",
       "      <td>0.0</td>\n",
       "      <td>0.0</td>\n",
       "      <td>low</td>\n",
       "      <td>575040384482590720</td>\n",
       "      <td>5.750404e+17</td>\n",
       "      <td>NaN</td>\n",
       "      <td>NaN</td>\n",
       "      <td>NaN</td>\n",
       "      <td>...</td>\n",
       "      <td>NaN</td>\n",
       "      <td>http://twitter.com/MisterC00l/status/575013358...</td>\n",
       "      <td>NaN</td>\n",
       "      <td>NaN</td>\n",
       "      <td>NaN</td>\n",
       "      <td>MisterC00l</td>\n",
       "      <td>NaN</td>\n",
       "      <td>NaN</td>\n",
       "      <td>NaN</td>\n",
       "      <td>NaN</td>\n",
       "    </tr>\n",
       "    <tr>\n",
       "      <th>2</th>\n",
       "      <td>NaN</td>\n",
       "      <td>2015-03-09 21:21:47.000</td>\n",
       "      <td>0.0</td>\n",
       "      <td>0.0</td>\n",
       "      <td>low</td>\n",
       "      <td>575043831525146624</td>\n",
       "      <td>5.750438e+17</td>\n",
       "      <td>NaN</td>\n",
       "      <td>NaN</td>\n",
       "      <td>NaN</td>\n",
       "      <td>...</td>\n",
       "      <td>android</td>\n",
       "      <td>http://twitter.com/androidcentral/status/57502...</td>\n",
       "      <td>NaN</td>\n",
       "      <td>NaN</td>\n",
       "      <td>http://phon.es/yljt</td>\n",
       "      <td>androidcentral</td>\n",
       "      <td>NaN</td>\n",
       "      <td>NaN</td>\n",
       "      <td>NaN</td>\n",
       "      <td>NaN</td>\n",
       "    </tr>\n",
       "    <tr>\n",
       "      <th>3</th>\n",
       "      <td>NaN</td>\n",
       "      <td>2015-03-09 21:27:31.000</td>\n",
       "      <td>0.0</td>\n",
       "      <td>0.0</td>\n",
       "      <td>low</td>\n",
       "      <td>575045273384263680</td>\n",
       "      <td>5.750453e+17</td>\n",
       "      <td>NaN</td>\n",
       "      <td>NaN</td>\n",
       "      <td>NaN</td>\n",
       "      <td>...</td>\n",
       "      <td>NaN</td>\n",
       "      <td>NaN</td>\n",
       "      <td>NaN</td>\n",
       "      <td>NaN</td>\n",
       "      <td>http://huff.to/1KMYiMd</td>\n",
       "      <td>LeHuffPost</td>\n",
       "      <td>NaN</td>\n",
       "      <td>NaN</td>\n",
       "      <td>NaN</td>\n",
       "      <td>NaN</td>\n",
       "    </tr>\n",
       "    <tr>\n",
       "      <th>4</th>\n",
       "      <td>NaN</td>\n",
       "      <td>2015-03-09 21:01:23.000</td>\n",
       "      <td>0.0</td>\n",
       "      <td>0.0</td>\n",
       "      <td>low</td>\n",
       "      <td>575038696988131328</td>\n",
       "      <td>5.750387e+17</td>\n",
       "      <td>NaN</td>\n",
       "      <td>NaN</td>\n",
       "      <td>NaN</td>\n",
       "      <td>...</td>\n",
       "      <td>NaN</td>\n",
       "      <td>NaN</td>\n",
       "      <td>NaN</td>\n",
       "      <td>NaN</td>\n",
       "      <td>http://japan.cnet.com/sp/apple_watch/35061515/...</td>\n",
       "      <td>NaN</td>\n",
       "      <td>NaN</td>\n",
       "      <td>NaN</td>\n",
       "      <td>NaN</td>\n",
       "      <td>NaN</td>\n",
       "    </tr>\n",
       "    <tr>\n",
       "      <th>...</th>\n",
       "      <td>...</td>\n",
       "      <td>...</td>\n",
       "      <td>...</td>\n",
       "      <td>...</td>\n",
       "      <td>...</td>\n",
       "      <td>...</td>\n",
       "      <td>...</td>\n",
       "      <td>...</td>\n",
       "      <td>...</td>\n",
       "      <td>...</td>\n",
       "      <td>...</td>\n",
       "      <td>...</td>\n",
       "      <td>...</td>\n",
       "      <td>...</td>\n",
       "      <td>...</td>\n",
       "      <td>...</td>\n",
       "      <td>...</td>\n",
       "      <td>...</td>\n",
       "      <td>...</td>\n",
       "      <td>...</td>\n",
       "      <td>...</td>\n",
       "    </tr>\n",
       "    <tr>\n",
       "      <th>9980</th>\n",
       "      <td>NaN</td>\n",
       "      <td>2015-03-09 21:21:24.000</td>\n",
       "      <td>0.0</td>\n",
       "      <td>0.0</td>\n",
       "      <td>low</td>\n",
       "      <td>575043732472528896</td>\n",
       "      <td>5.750437e+17</td>\n",
       "      <td>NaN</td>\n",
       "      <td>NaN</td>\n",
       "      <td>NaN</td>\n",
       "      <td>...</td>\n",
       "      <td>NaN</td>\n",
       "      <td>NaN</td>\n",
       "      <td>NaN</td>\n",
       "      <td>NaN</td>\n",
       "      <td>http://www.apple.com/ru/watch/battery.html</td>\n",
       "      <td>wylsacom</td>\n",
       "      <td>NaN</td>\n",
       "      <td>NaN</td>\n",
       "      <td>NaN</td>\n",
       "      <td>NaN</td>\n",
       "    </tr>\n",
       "    <tr>\n",
       "      <th>9981</th>\n",
       "      <td>NaN</td>\n",
       "      <td>2015-03-09 21:32:28.000</td>\n",
       "      <td>0.0</td>\n",
       "      <td>0.0</td>\n",
       "      <td>low</td>\n",
       "      <td>575046518094200832</td>\n",
       "      <td>5.750465e+17</td>\n",
       "      <td>NaN</td>\n",
       "      <td>NaN</td>\n",
       "      <td>NaN</td>\n",
       "      <td>...</td>\n",
       "      <td>NaN</td>\n",
       "      <td>NaN</td>\n",
       "      <td>NaN</td>\n",
       "      <td>NaN</td>\n",
       "      <td>NaN</td>\n",
       "      <td>NaN</td>\n",
       "      <td>NaN</td>\n",
       "      <td>NaN</td>\n",
       "      <td>NaN</td>\n",
       "      <td>NaN</td>\n",
       "    </tr>\n",
       "    <tr>\n",
       "      <th>9982</th>\n",
       "      <td>NaN</td>\n",
       "      <td>2015-03-09 21:27:59.000</td>\n",
       "      <td>0.0</td>\n",
       "      <td>0.0</td>\n",
       "      <td>low</td>\n",
       "      <td>575045390338256896</td>\n",
       "      <td>5.750454e+17</td>\n",
       "      <td>NaN</td>\n",
       "      <td>NaN</td>\n",
       "      <td>NaN</td>\n",
       "      <td>...</td>\n",
       "      <td>NaN</td>\n",
       "      <td>http://twitter.com/SAI/status/5750453903382568...</td>\n",
       "      <td>NaN</td>\n",
       "      <td>NaN</td>\n",
       "      <td>http://read.bi/1AXKvrd</td>\n",
       "      <td>NaN</td>\n",
       "      <td>NaN</td>\n",
       "      <td>NaN</td>\n",
       "      <td>NaN</td>\n",
       "      <td>NaN</td>\n",
       "    </tr>\n",
       "    <tr>\n",
       "      <th>9983</th>\n",
       "      <td>NaN</td>\n",
       "      <td>2015-03-09 21:27:31.000</td>\n",
       "      <td>0.0</td>\n",
       "      <td>0.0</td>\n",
       "      <td>low</td>\n",
       "      <td>575045274558578688</td>\n",
       "      <td>5.750453e+17</td>\n",
       "      <td>NaN</td>\n",
       "      <td>NaN</td>\n",
       "      <td>NaN</td>\n",
       "      <td>...</td>\n",
       "      <td>NaN</td>\n",
       "      <td>NaN</td>\n",
       "      <td>NaN</td>\n",
       "      <td>NaN</td>\n",
       "      <td>http://apple.com/watch,https://amp.twimg.com/v...</td>\n",
       "      <td>AppStore</td>\n",
       "      <td>NaN</td>\n",
       "      <td>NaN</td>\n",
       "      <td>NaN</td>\n",
       "      <td>NaN</td>\n",
       "    </tr>\n",
       "    <tr>\n",
       "      <th>9984</th>\n",
       "      <td>NaN</td>\n",
       "      <td>2015-03-09 21:30:20.000</td>\n",
       "      <td>0.0</td>\n",
       "      <td>0.0</td>\n",
       "      <td>low</td>\n",
       "      <td>575045979759599616</td>\n",
       "      <td>5.750460e+17</td>\n",
       "      <td>NaN</td>\n",
       "      <td>NaN</td>\n",
       "      <td>NaN</td>\n",
       "      <td>...</td>\n",
       "      <td>NaN</td>\n",
       "      <td>NaN</td>\n",
       "      <td>NaN</td>\n",
       "      <td>NaN</td>\n",
       "      <td>NaN</td>\n",
       "      <td>NaN</td>\n",
       "      <td>NaN</td>\n",
       "      <td>NaN</td>\n",
       "      <td>NaN</td>\n",
       "      <td>NaN</td>\n",
       "    </tr>\n",
       "  </tbody>\n",
       "</table>\n",
       "<p>9985 rows × 37 columns</p>\n",
       "</div>"
      ],
      "text/plain": [
       "      contributors               created_at  favorite_count  favorited  \\\n",
       "0              NaN  2015-03-09 21:01:01.000             0.0        0.0   \n",
       "1              NaN  2015-03-09 21:08:06.000             0.0        0.0   \n",
       "2              NaN  2015-03-09 21:21:47.000             0.0        0.0   \n",
       "3              NaN  2015-03-09 21:27:31.000             0.0        0.0   \n",
       "4              NaN  2015-03-09 21:01:23.000             0.0        0.0   \n",
       "...            ...                      ...             ...        ...   \n",
       "9980           NaN  2015-03-09 21:21:24.000             0.0        0.0   \n",
       "9981           NaN  2015-03-09 21:32:28.000             0.0        0.0   \n",
       "9982           NaN  2015-03-09 21:27:59.000             0.0        0.0   \n",
       "9983           NaN  2015-03-09 21:27:31.000             0.0        0.0   \n",
       "9984           NaN  2015-03-09 21:30:20.000             0.0        0.0   \n",
       "\n",
       "     filter_level                  id        id_str in_reply_to_screen_name  \\\n",
       "0             low  575038603887251456  5.750386e+17                     NaN   \n",
       "1             low  575040384482590720  5.750404e+17                     NaN   \n",
       "2             low  575043831525146624  5.750438e+17                     NaN   \n",
       "3             low  575045273384263680  5.750453e+17                     NaN   \n",
       "4             low  575038696988131328  5.750387e+17                     NaN   \n",
       "...           ...                 ...           ...                     ...   \n",
       "9980          low  575043732472528896  5.750437e+17                     NaN   \n",
       "9981          low  575046518094200832  5.750465e+17                     NaN   \n",
       "9982          low  575045390338256896  5.750454e+17                     NaN   \n",
       "9983          low  575045274558578688  5.750453e+17                     NaN   \n",
       "9984          low  575045979759599616  5.750460e+17                     NaN   \n",
       "\n",
       "      in_reply_to_status_id  in_reply_to_status_id_str      ...       \\\n",
       "0                       NaN                        NaN      ...        \n",
       "1                       NaN                        NaN      ...        \n",
       "2                       NaN                        NaN      ...        \n",
       "3                       NaN                        NaN      ...        \n",
       "4                       NaN                        NaN      ...        \n",
       "...                     ...                        ...      ...        \n",
       "9980                    NaN                        NaN      ...        \n",
       "9981                    NaN                        NaN      ...        \n",
       "9982                    NaN                        NaN      ...        \n",
       "9983                    NaN                        NaN      ...        \n",
       "9984                    NaN                        NaN      ...        \n",
       "\n",
       "      hashtags                                              media symbols  \\\n",
       "0          NaN                                                NaN     NaN   \n",
       "1          NaN  http://twitter.com/MisterC00l/status/575013358...     NaN   \n",
       "2      android  http://twitter.com/androidcentral/status/57502...     NaN   \n",
       "3          NaN                                                NaN     NaN   \n",
       "4          NaN                                                NaN     NaN   \n",
       "...        ...                                                ...     ...   \n",
       "9980       NaN                                                NaN     NaN   \n",
       "9981       NaN                                                NaN     NaN   \n",
       "9982       NaN  http://twitter.com/SAI/status/5750453903382568...     NaN   \n",
       "9983       NaN                                                NaN     NaN   \n",
       "9984       NaN                                                NaN     NaN   \n",
       "\n",
       "      trends                                               urls  \\\n",
       "0        NaN                              http://ift.tt/1AXDXIR   \n",
       "1        NaN                                                NaN   \n",
       "2        NaN                                http://phon.es/yljt   \n",
       "3        NaN                             http://huff.to/1KMYiMd   \n",
       "4        NaN  http://japan.cnet.com/sp/apple_watch/35061515/...   \n",
       "...      ...                                                ...   \n",
       "9980     NaN         http://www.apple.com/ru/watch/battery.html   \n",
       "9981     NaN                                                NaN   \n",
       "9982     NaN                             http://read.bi/1AXKvrd   \n",
       "9983     NaN  http://apple.com/watch,https://amp.twimg.com/v...   \n",
       "9984     NaN                                                NaN   \n",
       "\n",
       "       user_mentions  lat  lon country conuntry_code  \n",
       "0                NaN  NaN  NaN     NaN           NaN  \n",
       "1         MisterC00l  NaN  NaN     NaN           NaN  \n",
       "2     androidcentral  NaN  NaN     NaN           NaN  \n",
       "3         LeHuffPost  NaN  NaN     NaN           NaN  \n",
       "4                NaN  NaN  NaN     NaN           NaN  \n",
       "...              ...  ...  ...     ...           ...  \n",
       "9980        wylsacom  NaN  NaN     NaN           NaN  \n",
       "9981             NaN  NaN  NaN     NaN           NaN  \n",
       "9982             NaN  NaN  NaN     NaN           NaN  \n",
       "9983        AppStore  NaN  NaN     NaN           NaN  \n",
       "9984             NaN  NaN  NaN     NaN           NaN  \n",
       "\n",
       "[9985 rows x 37 columns]"
      ]
     },
     "execution_count": 25,
     "metadata": {},
     "output_type": "execute_result"
    }
   ],
   "source": [
    "df = pd.read_csv(\"twitter.csv\")\n",
    "df"
   ]
  },
  {
   "cell_type": "code",
   "execution_count": 26,
   "metadata": {
    "collapsed": false
   },
   "outputs": [
    {
     "data": {
      "text/plain": [
       "Index(['contributors', 'created_at', 'favorite_count', 'favorited',\n",
       "       'filter_level', 'id', 'id_str', 'in_reply_to_screen_name',\n",
       "       'in_reply_to_status_id', 'in_reply_to_status_id_str',\n",
       "       'in_reply_to_user_id', 'in_reply_to_user_id_str', 'lang', 'limit',\n",
       "       'place', 'possibly_sensitive', 'retweet_count', 'retweeted', 'source',\n",
       "       'text', 'timestamp_ms', 'truncated', 'user_id', 'user_screen_name',\n",
       "       'user_name', 'user_lang', 'user_location', 'hashtags', 'media',\n",
       "       'symbols', 'trends', 'urls', 'user_mentions', 'lat', 'lon', 'country',\n",
       "       'conuntry_code'],\n",
       "      dtype='object')"
      ]
     },
     "execution_count": 26,
     "metadata": {},
     "output_type": "execute_result"
    }
   ],
   "source": [
    "# Showing the columns\n",
    "df.columns"
   ]
  },
  {
   "cell_type": "markdown",
   "metadata": {},
   "source": [
    "Let's reload the CSV but this time specifying a index column"
   ]
  },
  {
   "cell_type": "code",
   "execution_count": 27,
   "metadata": {
    "collapsed": false
   },
   "outputs": [
    {
     "data": {
      "text/html": [
       "<div>\n",
       "<table border=\"1\" class=\"dataframe\">\n",
       "  <thead>\n",
       "    <tr style=\"text-align: right;\">\n",
       "      <th></th>\n",
       "      <th>contributors</th>\n",
       "      <th>favorite_count</th>\n",
       "      <th>favorited</th>\n",
       "      <th>filter_level</th>\n",
       "      <th>id</th>\n",
       "      <th>id_str</th>\n",
       "      <th>in_reply_to_screen_name</th>\n",
       "      <th>in_reply_to_status_id</th>\n",
       "      <th>in_reply_to_status_id_str</th>\n",
       "      <th>in_reply_to_user_id</th>\n",
       "      <th>...</th>\n",
       "      <th>hashtags</th>\n",
       "      <th>media</th>\n",
       "      <th>symbols</th>\n",
       "      <th>trends</th>\n",
       "      <th>urls</th>\n",
       "      <th>user_mentions</th>\n",
       "      <th>lat</th>\n",
       "      <th>lon</th>\n",
       "      <th>country</th>\n",
       "      <th>conuntry_code</th>\n",
       "    </tr>\n",
       "    <tr>\n",
       "      <th>created_at</th>\n",
       "      <th></th>\n",
       "      <th></th>\n",
       "      <th></th>\n",
       "      <th></th>\n",
       "      <th></th>\n",
       "      <th></th>\n",
       "      <th></th>\n",
       "      <th></th>\n",
       "      <th></th>\n",
       "      <th></th>\n",
       "      <th></th>\n",
       "      <th></th>\n",
       "      <th></th>\n",
       "      <th></th>\n",
       "      <th></th>\n",
       "      <th></th>\n",
       "      <th></th>\n",
       "      <th></th>\n",
       "      <th></th>\n",
       "      <th></th>\n",
       "      <th></th>\n",
       "    </tr>\n",
       "  </thead>\n",
       "  <tbody>\n",
       "    <tr>\n",
       "      <th>2015-03-09 21:01:01.000</th>\n",
       "      <td>NaN</td>\n",
       "      <td>0.0</td>\n",
       "      <td>0.0</td>\n",
       "      <td>low</td>\n",
       "      <td>575038603887251456</td>\n",
       "      <td>5.750386e+17</td>\n",
       "      <td>NaN</td>\n",
       "      <td>NaN</td>\n",
       "      <td>NaN</td>\n",
       "      <td>NaN</td>\n",
       "      <td>...</td>\n",
       "      <td>NaN</td>\n",
       "      <td>NaN</td>\n",
       "      <td>NaN</td>\n",
       "      <td>NaN</td>\n",
       "      <td>http://ift.tt/1AXDXIR</td>\n",
       "      <td>NaN</td>\n",
       "      <td>NaN</td>\n",
       "      <td>NaN</td>\n",
       "      <td>NaN</td>\n",
       "      <td>NaN</td>\n",
       "    </tr>\n",
       "    <tr>\n",
       "      <th>2015-03-09 21:08:06.000</th>\n",
       "      <td>NaN</td>\n",
       "      <td>0.0</td>\n",
       "      <td>0.0</td>\n",
       "      <td>low</td>\n",
       "      <td>575040384482590720</td>\n",
       "      <td>5.750404e+17</td>\n",
       "      <td>NaN</td>\n",
       "      <td>NaN</td>\n",
       "      <td>NaN</td>\n",
       "      <td>NaN</td>\n",
       "      <td>...</td>\n",
       "      <td>NaN</td>\n",
       "      <td>http://twitter.com/MisterC00l/status/575013358...</td>\n",
       "      <td>NaN</td>\n",
       "      <td>NaN</td>\n",
       "      <td>NaN</td>\n",
       "      <td>MisterC00l</td>\n",
       "      <td>NaN</td>\n",
       "      <td>NaN</td>\n",
       "      <td>NaN</td>\n",
       "      <td>NaN</td>\n",
       "    </tr>\n",
       "    <tr>\n",
       "      <th>2015-03-09 21:21:47.000</th>\n",
       "      <td>NaN</td>\n",
       "      <td>0.0</td>\n",
       "      <td>0.0</td>\n",
       "      <td>low</td>\n",
       "      <td>575043831525146624</td>\n",
       "      <td>5.750438e+17</td>\n",
       "      <td>NaN</td>\n",
       "      <td>NaN</td>\n",
       "      <td>NaN</td>\n",
       "      <td>NaN</td>\n",
       "      <td>...</td>\n",
       "      <td>android</td>\n",
       "      <td>http://twitter.com/androidcentral/status/57502...</td>\n",
       "      <td>NaN</td>\n",
       "      <td>NaN</td>\n",
       "      <td>http://phon.es/yljt</td>\n",
       "      <td>androidcentral</td>\n",
       "      <td>NaN</td>\n",
       "      <td>NaN</td>\n",
       "      <td>NaN</td>\n",
       "      <td>NaN</td>\n",
       "    </tr>\n",
       "    <tr>\n",
       "      <th>2015-03-09 21:27:31.000</th>\n",
       "      <td>NaN</td>\n",
       "      <td>0.0</td>\n",
       "      <td>0.0</td>\n",
       "      <td>low</td>\n",
       "      <td>575045273384263680</td>\n",
       "      <td>5.750453e+17</td>\n",
       "      <td>NaN</td>\n",
       "      <td>NaN</td>\n",
       "      <td>NaN</td>\n",
       "      <td>NaN</td>\n",
       "      <td>...</td>\n",
       "      <td>NaN</td>\n",
       "      <td>NaN</td>\n",
       "      <td>NaN</td>\n",
       "      <td>NaN</td>\n",
       "      <td>http://huff.to/1KMYiMd</td>\n",
       "      <td>LeHuffPost</td>\n",
       "      <td>NaN</td>\n",
       "      <td>NaN</td>\n",
       "      <td>NaN</td>\n",
       "      <td>NaN</td>\n",
       "    </tr>\n",
       "    <tr>\n",
       "      <th>2015-03-09 21:01:23.000</th>\n",
       "      <td>NaN</td>\n",
       "      <td>0.0</td>\n",
       "      <td>0.0</td>\n",
       "      <td>low</td>\n",
       "      <td>575038696988131328</td>\n",
       "      <td>5.750387e+17</td>\n",
       "      <td>NaN</td>\n",
       "      <td>NaN</td>\n",
       "      <td>NaN</td>\n",
       "      <td>NaN</td>\n",
       "      <td>...</td>\n",
       "      <td>NaN</td>\n",
       "      <td>NaN</td>\n",
       "      <td>NaN</td>\n",
       "      <td>NaN</td>\n",
       "      <td>http://japan.cnet.com/sp/apple_watch/35061515/...</td>\n",
       "      <td>NaN</td>\n",
       "      <td>NaN</td>\n",
       "      <td>NaN</td>\n",
       "      <td>NaN</td>\n",
       "      <td>NaN</td>\n",
       "    </tr>\n",
       "    <tr>\n",
       "      <th>...</th>\n",
       "      <td>...</td>\n",
       "      <td>...</td>\n",
       "      <td>...</td>\n",
       "      <td>...</td>\n",
       "      <td>...</td>\n",
       "      <td>...</td>\n",
       "      <td>...</td>\n",
       "      <td>...</td>\n",
       "      <td>...</td>\n",
       "      <td>...</td>\n",
       "      <td>...</td>\n",
       "      <td>...</td>\n",
       "      <td>...</td>\n",
       "      <td>...</td>\n",
       "      <td>...</td>\n",
       "      <td>...</td>\n",
       "      <td>...</td>\n",
       "      <td>...</td>\n",
       "      <td>...</td>\n",
       "      <td>...</td>\n",
       "      <td>...</td>\n",
       "    </tr>\n",
       "    <tr>\n",
       "      <th>2015-03-09 21:21:24.000</th>\n",
       "      <td>NaN</td>\n",
       "      <td>0.0</td>\n",
       "      <td>0.0</td>\n",
       "      <td>low</td>\n",
       "      <td>575043732472528896</td>\n",
       "      <td>5.750437e+17</td>\n",
       "      <td>NaN</td>\n",
       "      <td>NaN</td>\n",
       "      <td>NaN</td>\n",
       "      <td>NaN</td>\n",
       "      <td>...</td>\n",
       "      <td>NaN</td>\n",
       "      <td>NaN</td>\n",
       "      <td>NaN</td>\n",
       "      <td>NaN</td>\n",
       "      <td>http://www.apple.com/ru/watch/battery.html</td>\n",
       "      <td>wylsacom</td>\n",
       "      <td>NaN</td>\n",
       "      <td>NaN</td>\n",
       "      <td>NaN</td>\n",
       "      <td>NaN</td>\n",
       "    </tr>\n",
       "    <tr>\n",
       "      <th>2015-03-09 21:32:28.000</th>\n",
       "      <td>NaN</td>\n",
       "      <td>0.0</td>\n",
       "      <td>0.0</td>\n",
       "      <td>low</td>\n",
       "      <td>575046518094200832</td>\n",
       "      <td>5.750465e+17</td>\n",
       "      <td>NaN</td>\n",
       "      <td>NaN</td>\n",
       "      <td>NaN</td>\n",
       "      <td>NaN</td>\n",
       "      <td>...</td>\n",
       "      <td>NaN</td>\n",
       "      <td>NaN</td>\n",
       "      <td>NaN</td>\n",
       "      <td>NaN</td>\n",
       "      <td>NaN</td>\n",
       "      <td>NaN</td>\n",
       "      <td>NaN</td>\n",
       "      <td>NaN</td>\n",
       "      <td>NaN</td>\n",
       "      <td>NaN</td>\n",
       "    </tr>\n",
       "    <tr>\n",
       "      <th>2015-03-09 21:27:59.000</th>\n",
       "      <td>NaN</td>\n",
       "      <td>0.0</td>\n",
       "      <td>0.0</td>\n",
       "      <td>low</td>\n",
       "      <td>575045390338256896</td>\n",
       "      <td>5.750454e+17</td>\n",
       "      <td>NaN</td>\n",
       "      <td>NaN</td>\n",
       "      <td>NaN</td>\n",
       "      <td>NaN</td>\n",
       "      <td>...</td>\n",
       "      <td>NaN</td>\n",
       "      <td>http://twitter.com/SAI/status/5750453903382568...</td>\n",
       "      <td>NaN</td>\n",
       "      <td>NaN</td>\n",
       "      <td>http://read.bi/1AXKvrd</td>\n",
       "      <td>NaN</td>\n",
       "      <td>NaN</td>\n",
       "      <td>NaN</td>\n",
       "      <td>NaN</td>\n",
       "      <td>NaN</td>\n",
       "    </tr>\n",
       "    <tr>\n",
       "      <th>2015-03-09 21:27:31.000</th>\n",
       "      <td>NaN</td>\n",
       "      <td>0.0</td>\n",
       "      <td>0.0</td>\n",
       "      <td>low</td>\n",
       "      <td>575045274558578688</td>\n",
       "      <td>5.750453e+17</td>\n",
       "      <td>NaN</td>\n",
       "      <td>NaN</td>\n",
       "      <td>NaN</td>\n",
       "      <td>NaN</td>\n",
       "      <td>...</td>\n",
       "      <td>NaN</td>\n",
       "      <td>NaN</td>\n",
       "      <td>NaN</td>\n",
       "      <td>NaN</td>\n",
       "      <td>http://apple.com/watch,https://amp.twimg.com/v...</td>\n",
       "      <td>AppStore</td>\n",
       "      <td>NaN</td>\n",
       "      <td>NaN</td>\n",
       "      <td>NaN</td>\n",
       "      <td>NaN</td>\n",
       "    </tr>\n",
       "    <tr>\n",
       "      <th>2015-03-09 21:30:20.000</th>\n",
       "      <td>NaN</td>\n",
       "      <td>0.0</td>\n",
       "      <td>0.0</td>\n",
       "      <td>low</td>\n",
       "      <td>575045979759599616</td>\n",
       "      <td>5.750460e+17</td>\n",
       "      <td>NaN</td>\n",
       "      <td>NaN</td>\n",
       "      <td>NaN</td>\n",
       "      <td>NaN</td>\n",
       "      <td>...</td>\n",
       "      <td>NaN</td>\n",
       "      <td>NaN</td>\n",
       "      <td>NaN</td>\n",
       "      <td>NaN</td>\n",
       "      <td>NaN</td>\n",
       "      <td>NaN</td>\n",
       "      <td>NaN</td>\n",
       "      <td>NaN</td>\n",
       "      <td>NaN</td>\n",
       "      <td>NaN</td>\n",
       "    </tr>\n",
       "  </tbody>\n",
       "</table>\n",
       "<p>9985 rows × 36 columns</p>\n",
       "</div>"
      ],
      "text/plain": [
       "                         contributors  favorite_count  favorited filter_level  \\\n",
       "created_at                                                                      \n",
       "2015-03-09 21:01:01.000           NaN             0.0        0.0          low   \n",
       "2015-03-09 21:08:06.000           NaN             0.0        0.0          low   \n",
       "2015-03-09 21:21:47.000           NaN             0.0        0.0          low   \n",
       "2015-03-09 21:27:31.000           NaN             0.0        0.0          low   \n",
       "2015-03-09 21:01:23.000           NaN             0.0        0.0          low   \n",
       "...                               ...             ...        ...          ...   \n",
       "2015-03-09 21:21:24.000           NaN             0.0        0.0          low   \n",
       "2015-03-09 21:32:28.000           NaN             0.0        0.0          low   \n",
       "2015-03-09 21:27:59.000           NaN             0.0        0.0          low   \n",
       "2015-03-09 21:27:31.000           NaN             0.0        0.0          low   \n",
       "2015-03-09 21:30:20.000           NaN             0.0        0.0          low   \n",
       "\n",
       "                                         id        id_str  \\\n",
       "created_at                                                  \n",
       "2015-03-09 21:01:01.000  575038603887251456  5.750386e+17   \n",
       "2015-03-09 21:08:06.000  575040384482590720  5.750404e+17   \n",
       "2015-03-09 21:21:47.000  575043831525146624  5.750438e+17   \n",
       "2015-03-09 21:27:31.000  575045273384263680  5.750453e+17   \n",
       "2015-03-09 21:01:23.000  575038696988131328  5.750387e+17   \n",
       "...                                     ...           ...   \n",
       "2015-03-09 21:21:24.000  575043732472528896  5.750437e+17   \n",
       "2015-03-09 21:32:28.000  575046518094200832  5.750465e+17   \n",
       "2015-03-09 21:27:59.000  575045390338256896  5.750454e+17   \n",
       "2015-03-09 21:27:31.000  575045274558578688  5.750453e+17   \n",
       "2015-03-09 21:30:20.000  575045979759599616  5.750460e+17   \n",
       "\n",
       "                        in_reply_to_screen_name  in_reply_to_status_id  \\\n",
       "created_at                                                               \n",
       "2015-03-09 21:01:01.000                     NaN                    NaN   \n",
       "2015-03-09 21:08:06.000                     NaN                    NaN   \n",
       "2015-03-09 21:21:47.000                     NaN                    NaN   \n",
       "2015-03-09 21:27:31.000                     NaN                    NaN   \n",
       "2015-03-09 21:01:23.000                     NaN                    NaN   \n",
       "...                                         ...                    ...   \n",
       "2015-03-09 21:21:24.000                     NaN                    NaN   \n",
       "2015-03-09 21:32:28.000                     NaN                    NaN   \n",
       "2015-03-09 21:27:59.000                     NaN                    NaN   \n",
       "2015-03-09 21:27:31.000                     NaN                    NaN   \n",
       "2015-03-09 21:30:20.000                     NaN                    NaN   \n",
       "\n",
       "                         in_reply_to_status_id_str  in_reply_to_user_id  \\\n",
       "created_at                                                                \n",
       "2015-03-09 21:01:01.000                        NaN                  NaN   \n",
       "2015-03-09 21:08:06.000                        NaN                  NaN   \n",
       "2015-03-09 21:21:47.000                        NaN                  NaN   \n",
       "2015-03-09 21:27:31.000                        NaN                  NaN   \n",
       "2015-03-09 21:01:23.000                        NaN                  NaN   \n",
       "...                                            ...                  ...   \n",
       "2015-03-09 21:21:24.000                        NaN                  NaN   \n",
       "2015-03-09 21:32:28.000                        NaN                  NaN   \n",
       "2015-03-09 21:27:59.000                        NaN                  NaN   \n",
       "2015-03-09 21:27:31.000                        NaN                  NaN   \n",
       "2015-03-09 21:30:20.000                        NaN                  NaN   \n",
       "\n",
       "                             ...       hashtags  \\\n",
       "created_at                   ...                  \n",
       "2015-03-09 21:01:01.000      ...            NaN   \n",
       "2015-03-09 21:08:06.000      ...            NaN   \n",
       "2015-03-09 21:21:47.000      ...        android   \n",
       "2015-03-09 21:27:31.000      ...            NaN   \n",
       "2015-03-09 21:01:23.000      ...            NaN   \n",
       "...                          ...            ...   \n",
       "2015-03-09 21:21:24.000      ...            NaN   \n",
       "2015-03-09 21:32:28.000      ...            NaN   \n",
       "2015-03-09 21:27:59.000      ...            NaN   \n",
       "2015-03-09 21:27:31.000      ...            NaN   \n",
       "2015-03-09 21:30:20.000      ...            NaN   \n",
       "\n",
       "                                                                     media  \\\n",
       "created_at                                                                   \n",
       "2015-03-09 21:01:01.000                                                NaN   \n",
       "2015-03-09 21:08:06.000  http://twitter.com/MisterC00l/status/575013358...   \n",
       "2015-03-09 21:21:47.000  http://twitter.com/androidcentral/status/57502...   \n",
       "2015-03-09 21:27:31.000                                                NaN   \n",
       "2015-03-09 21:01:23.000                                                NaN   \n",
       "...                                                                    ...   \n",
       "2015-03-09 21:21:24.000                                                NaN   \n",
       "2015-03-09 21:32:28.000                                                NaN   \n",
       "2015-03-09 21:27:59.000  http://twitter.com/SAI/status/5750453903382568...   \n",
       "2015-03-09 21:27:31.000                                                NaN   \n",
       "2015-03-09 21:30:20.000                                                NaN   \n",
       "\n",
       "                         symbols trends  \\\n",
       "created_at                                \n",
       "2015-03-09 21:01:01.000      NaN    NaN   \n",
       "2015-03-09 21:08:06.000      NaN    NaN   \n",
       "2015-03-09 21:21:47.000      NaN    NaN   \n",
       "2015-03-09 21:27:31.000      NaN    NaN   \n",
       "2015-03-09 21:01:23.000      NaN    NaN   \n",
       "...                          ...    ...   \n",
       "2015-03-09 21:21:24.000      NaN    NaN   \n",
       "2015-03-09 21:32:28.000      NaN    NaN   \n",
       "2015-03-09 21:27:59.000      NaN    NaN   \n",
       "2015-03-09 21:27:31.000      NaN    NaN   \n",
       "2015-03-09 21:30:20.000      NaN    NaN   \n",
       "\n",
       "                                                                      urls  \\\n",
       "created_at                                                                   \n",
       "2015-03-09 21:01:01.000                              http://ift.tt/1AXDXIR   \n",
       "2015-03-09 21:08:06.000                                                NaN   \n",
       "2015-03-09 21:21:47.000                                http://phon.es/yljt   \n",
       "2015-03-09 21:27:31.000                             http://huff.to/1KMYiMd   \n",
       "2015-03-09 21:01:23.000  http://japan.cnet.com/sp/apple_watch/35061515/...   \n",
       "...                                                                    ...   \n",
       "2015-03-09 21:21:24.000         http://www.apple.com/ru/watch/battery.html   \n",
       "2015-03-09 21:32:28.000                                                NaN   \n",
       "2015-03-09 21:27:59.000                             http://read.bi/1AXKvrd   \n",
       "2015-03-09 21:27:31.000  http://apple.com/watch,https://amp.twimg.com/v...   \n",
       "2015-03-09 21:30:20.000                                                NaN   \n",
       "\n",
       "                          user_mentions  lat lon country conuntry_code  \n",
       "created_at                                                              \n",
       "2015-03-09 21:01:01.000             NaN  NaN NaN     NaN           NaN  \n",
       "2015-03-09 21:08:06.000      MisterC00l  NaN NaN     NaN           NaN  \n",
       "2015-03-09 21:21:47.000  androidcentral  NaN NaN     NaN           NaN  \n",
       "2015-03-09 21:27:31.000      LeHuffPost  NaN NaN     NaN           NaN  \n",
       "2015-03-09 21:01:23.000             NaN  NaN NaN     NaN           NaN  \n",
       "...                                 ...  ...  ..     ...           ...  \n",
       "2015-03-09 21:21:24.000        wylsacom  NaN NaN     NaN           NaN  \n",
       "2015-03-09 21:32:28.000             NaN  NaN NaN     NaN           NaN  \n",
       "2015-03-09 21:27:59.000             NaN  NaN NaN     NaN           NaN  \n",
       "2015-03-09 21:27:31.000        AppStore  NaN NaN     NaN           NaN  \n",
       "2015-03-09 21:30:20.000             NaN  NaN NaN     NaN           NaN  \n",
       "\n",
       "[9985 rows x 36 columns]"
      ]
     },
     "execution_count": 27,
     "metadata": {},
     "output_type": "execute_result"
    }
   ],
   "source": [
    "pd.read_csv(\"twitter.csv\", index_col=\"created_at\")"
   ]
  },
  {
   "cell_type": "markdown",
   "metadata": {},
   "source": [
    "Let's also filter out some columns we are not interested, provide data types for a couple, and show the first 5."
   ]
  },
  {
   "cell_type": "code",
   "execution_count": 28,
   "metadata": {
    "collapsed": false,
    "scrolled": false
   },
   "outputs": [
    {
     "data": {
      "text/html": [
       "<div>\n",
       "<table border=\"1\" class=\"dataframe\">\n",
       "  <thead>\n",
       "    <tr style=\"text-align: right;\">\n",
       "      <th></th>\n",
       "      <th>id</th>\n",
       "      <th>lang</th>\n",
       "      <th>place</th>\n",
       "      <th>possibly_sensitive</th>\n",
       "      <th>text</th>\n",
       "      <th>user_screen_name</th>\n",
       "      <th>user_name</th>\n",
       "      <th>user_lang</th>\n",
       "      <th>user_location</th>\n",
       "      <th>hashtags</th>\n",
       "      <th>media</th>\n",
       "      <th>symbols</th>\n",
       "      <th>urls</th>\n",
       "      <th>lat</th>\n",
       "      <th>lon</th>\n",
       "      <th>country</th>\n",
       "    </tr>\n",
       "    <tr>\n",
       "      <th>created_at</th>\n",
       "      <th></th>\n",
       "      <th></th>\n",
       "      <th></th>\n",
       "      <th></th>\n",
       "      <th></th>\n",
       "      <th></th>\n",
       "      <th></th>\n",
       "      <th></th>\n",
       "      <th></th>\n",
       "      <th></th>\n",
       "      <th></th>\n",
       "      <th></th>\n",
       "      <th></th>\n",
       "      <th></th>\n",
       "      <th></th>\n",
       "      <th></th>\n",
       "    </tr>\n",
       "  </thead>\n",
       "  <tbody>\n",
       "    <tr>\n",
       "      <th>2015-03-09 21:01:01</th>\n",
       "      <td>575038603887251456</td>\n",
       "      <td>en</td>\n",
       "      <td>NaN</td>\n",
       "      <td>False</td>\n",
       "      <td>'Gold On My MacBook' is the perfect rap song f...</td>\n",
       "      <td>pepemvalle</td>\n",
       "      <td>Jose Valle</td>\n",
       "      <td>es</td>\n",
       "      <td>Madrid</td>\n",
       "      <td>NaN</td>\n",
       "      <td>NaN</td>\n",
       "      <td>NaN</td>\n",
       "      <td>http://ift.tt/1AXDXIR</td>\n",
       "      <td>NaN</td>\n",
       "      <td>NaN</td>\n",
       "      <td>NaN</td>\n",
       "    </tr>\n",
       "    <tr>\n",
       "      <th>2015-03-09 21:08:06</th>\n",
       "      <td>575040384482590720</td>\n",
       "      <td>fr</td>\n",
       "      <td>NaN</td>\n",
       "      <td>False</td>\n",
       "      <td>RT @MisterC00l: Noyer son Apple Watch en or à ...</td>\n",
       "      <td>Karma_eb155</td>\n",
       "      <td>Karma155</td>\n",
       "      <td>fr</td>\n",
       "      <td>Champagne-Ardenne</td>\n",
       "      <td>NaN</td>\n",
       "      <td>http://twitter.com/MisterC00l/status/575013358...</td>\n",
       "      <td>NaN</td>\n",
       "      <td>NaN</td>\n",
       "      <td>NaN</td>\n",
       "      <td>NaN</td>\n",
       "      <td>NaN</td>\n",
       "    </tr>\n",
       "    <tr>\n",
       "      <th>2015-03-09 21:21:47</th>\n",
       "      <td>575043831525146624</td>\n",
       "      <td>en</td>\n",
       "      <td>NaN</td>\n",
       "      <td>False</td>\n",
       "      <td>RT @androidcentral: Apple's new MacBook cable ...</td>\n",
       "      <td>IkerFuentes97</td>\n",
       "      <td>JackÜ</td>\n",
       "      <td>en</td>\n",
       "      <td>Bilbaíno de Lanzarote</td>\n",
       "      <td>android</td>\n",
       "      <td>http://twitter.com/androidcentral/status/57502...</td>\n",
       "      <td>NaN</td>\n",
       "      <td>http://phon.es/yljt</td>\n",
       "      <td>NaN</td>\n",
       "      <td>NaN</td>\n",
       "      <td>NaN</td>\n",
       "    </tr>\n",
       "    <tr>\n",
       "      <th>2015-03-09 21:27:31</th>\n",
       "      <td>575045273384263680</td>\n",
       "      <td>fr</td>\n",
       "      <td>NaN</td>\n",
       "      <td>False</td>\n",
       "      <td>RT @LeHuffPost: Apple Watch Edition: un prix s...</td>\n",
       "      <td>TranNathalie</td>\n",
       "      <td>Tran Nathalie</td>\n",
       "      <td>fr</td>\n",
       "      <td>Gard</td>\n",
       "      <td>NaN</td>\n",
       "      <td>NaN</td>\n",
       "      <td>NaN</td>\n",
       "      <td>http://huff.to/1KMYiMd</td>\n",
       "      <td>NaN</td>\n",
       "      <td>NaN</td>\n",
       "      <td>NaN</td>\n",
       "    </tr>\n",
       "    <tr>\n",
       "      <th>2015-03-09 21:01:23</th>\n",
       "      <td>575038696988131328</td>\n",
       "      <td>ja</td>\n",
       "      <td>NaN</td>\n",
       "      <td>False</td>\n",
       "      <td>＜CNET Japan＞「Apple Watch」日本でも4月10日より予約開始--4万28...</td>\n",
       "      <td>x1aw4w8i</td>\n",
       "      <td>キャッハー</td>\n",
       "      <td>ja</td>\n",
       "      <td>NaN</td>\n",
       "      <td>NaN</td>\n",
       "      <td>NaN</td>\n",
       "      <td>NaN</td>\n",
       "      <td>http://japan.cnet.com/sp/apple_watch/35061515/...</td>\n",
       "      <td>NaN</td>\n",
       "      <td>NaN</td>\n",
       "      <td>NaN</td>\n",
       "    </tr>\n",
       "  </tbody>\n",
       "</table>\n",
       "</div>"
      ],
      "text/plain": [
       "                                     id lang place possibly_sensitive  \\\n",
       "created_at                                                              \n",
       "2015-03-09 21:01:01  575038603887251456   en   NaN              False   \n",
       "2015-03-09 21:08:06  575040384482590720   fr   NaN              False   \n",
       "2015-03-09 21:21:47  575043831525146624   en   NaN              False   \n",
       "2015-03-09 21:27:31  575045273384263680   fr   NaN              False   \n",
       "2015-03-09 21:01:23  575038696988131328   ja   NaN              False   \n",
       "\n",
       "                                                                  text  \\\n",
       "created_at                                                               \n",
       "2015-03-09 21:01:01  'Gold On My MacBook' is the perfect rap song f...   \n",
       "2015-03-09 21:08:06  RT @MisterC00l: Noyer son Apple Watch en or à ...   \n",
       "2015-03-09 21:21:47  RT @androidcentral: Apple's new MacBook cable ...   \n",
       "2015-03-09 21:27:31  RT @LeHuffPost: Apple Watch Edition: un prix s...   \n",
       "2015-03-09 21:01:23  ＜CNET Japan＞「Apple Watch」日本でも4月10日より予約開始--4万28...   \n",
       "\n",
       "                    user_screen_name      user_name user_lang  \\\n",
       "created_at                                                      \n",
       "2015-03-09 21:01:01       pepemvalle     Jose Valle        es   \n",
       "2015-03-09 21:08:06      Karma_eb155       Karma155        fr   \n",
       "2015-03-09 21:21:47    IkerFuentes97         JackÜ         en   \n",
       "2015-03-09 21:27:31     TranNathalie  Tran Nathalie        fr   \n",
       "2015-03-09 21:01:23         x1aw4w8i          キャッハー        ja   \n",
       "\n",
       "                             user_location hashtags  \\\n",
       "created_at                                            \n",
       "2015-03-09 21:01:01                 Madrid      NaN   \n",
       "2015-03-09 21:08:06      Champagne-Ardenne      NaN   \n",
       "2015-03-09 21:21:47  Bilbaíno de Lanzarote  android   \n",
       "2015-03-09 21:27:31                   Gard      NaN   \n",
       "2015-03-09 21:01:23                    NaN      NaN   \n",
       "\n",
       "                                                                 media  \\\n",
       "created_at                                                               \n",
       "2015-03-09 21:01:01                                                NaN   \n",
       "2015-03-09 21:08:06  http://twitter.com/MisterC00l/status/575013358...   \n",
       "2015-03-09 21:21:47  http://twitter.com/androidcentral/status/57502...   \n",
       "2015-03-09 21:27:31                                                NaN   \n",
       "2015-03-09 21:01:23                                                NaN   \n",
       "\n",
       "                    symbols  \\\n",
       "created_at                    \n",
       "2015-03-09 21:01:01     NaN   \n",
       "2015-03-09 21:08:06     NaN   \n",
       "2015-03-09 21:21:47     NaN   \n",
       "2015-03-09 21:27:31     NaN   \n",
       "2015-03-09 21:01:23     NaN   \n",
       "\n",
       "                                                                  urls  lat  \\\n",
       "created_at                                                                    \n",
       "2015-03-09 21:01:01                              http://ift.tt/1AXDXIR  NaN   \n",
       "2015-03-09 21:08:06                                                NaN  NaN   \n",
       "2015-03-09 21:21:47                                http://phon.es/yljt  NaN   \n",
       "2015-03-09 21:27:31                             http://huff.to/1KMYiMd  NaN   \n",
       "2015-03-09 21:01:23  http://japan.cnet.com/sp/apple_watch/35061515/...  NaN   \n",
       "\n",
       "                     lon country  \n",
       "created_at                        \n",
       "2015-03-09 21:01:01  NaN     NaN  \n",
       "2015-03-09 21:08:06  NaN     NaN  \n",
       "2015-03-09 21:21:47  NaN     NaN  \n",
       "2015-03-09 21:27:31  NaN     NaN  \n",
       "2015-03-09 21:01:23  NaN     NaN  "
      ]
     },
     "execution_count": 28,
     "metadata": {},
     "output_type": "execute_result"
    }
   ],
   "source": [
    "columns = [\n",
    "    \"created_at\", \"id\", \"lang\", \n",
    "    \"place\", \"possibly_sensitive\", \"text\",\n",
    "    \"user_screen_name\", \"user_name\", \"user_lang\", \"user_location\",\n",
    "    \"hashtags\", \"media\", \"symbols\", \"urls\", \"lat\", \"lon\", \"country\"]\n",
    "index = \"created_at\"\n",
    "data_types = {\n",
    "    \"id\": int,\n",
    "    \"possibly_sensitive\": bool,\n",
    "    \"lat\": float,\n",
    "    \"lon\": float,\n",
    "}\n",
    "df = pd.read_csv(\"twitter.csv\", parse_dates=[\"created_at\"], index_col=\"created_at\", usecols=columns, dtype=data_types)\n",
    "df.head(5)"
   ]
  },
  {
   "cell_type": "code",
   "execution_count": 29,
   "metadata": {
    "collapsed": false
   },
   "outputs": [
    {
     "data": {
      "text/plain": [
       "id                      int64\n",
       "lang                   object\n",
       "place                  object\n",
       "possibly_sensitive       bool\n",
       "text                   object\n",
       "                       ...   \n",
       "symbols                object\n",
       "urls                   object\n",
       "lat                   float64\n",
       "lon                   float64\n",
       "country                object\n",
       "dtype: object"
      ]
     },
     "execution_count": 29,
     "metadata": {},
     "output_type": "execute_result"
    }
   ],
   "source": [
    "# Let's find out the data types\n",
    "df.dtypes"
   ]
  },
  {
   "cell_type": "markdown",
   "metadata": {},
   "source": [
    "Finally we can get rid of those ugly `NaN`s (which is the Pandas way of telling that not valid data has been found in a cell). We'll first drop rows with just `NaN`s and then fill those of type string with am empty string."
   ]
  },
  {
   "cell_type": "code",
   "execution_count": 30,
   "metadata": {
    "collapsed": false
   },
   "outputs": [
    {
     "data": {
      "text/html": [
       "<div>\n",
       "<table border=\"1\" class=\"dataframe\">\n",
       "  <thead>\n",
       "    <tr style=\"text-align: right;\">\n",
       "      <th></th>\n",
       "      <th>id</th>\n",
       "      <th>lang</th>\n",
       "      <th>place</th>\n",
       "      <th>possibly_sensitive</th>\n",
       "      <th>text</th>\n",
       "      <th>user_screen_name</th>\n",
       "      <th>user_name</th>\n",
       "      <th>user_lang</th>\n",
       "      <th>user_location</th>\n",
       "      <th>hashtags</th>\n",
       "      <th>media</th>\n",
       "      <th>symbols</th>\n",
       "      <th>urls</th>\n",
       "      <th>lat</th>\n",
       "      <th>lon</th>\n",
       "      <th>country</th>\n",
       "    </tr>\n",
       "    <tr>\n",
       "      <th>created_at</th>\n",
       "      <th></th>\n",
       "      <th></th>\n",
       "      <th></th>\n",
       "      <th></th>\n",
       "      <th></th>\n",
       "      <th></th>\n",
       "      <th></th>\n",
       "      <th></th>\n",
       "      <th></th>\n",
       "      <th></th>\n",
       "      <th></th>\n",
       "      <th></th>\n",
       "      <th></th>\n",
       "      <th></th>\n",
       "      <th></th>\n",
       "      <th></th>\n",
       "    </tr>\n",
       "  </thead>\n",
       "  <tbody>\n",
       "    <tr>\n",
       "      <th>2015-03-09 21:01:01</th>\n",
       "      <td>575038603887251456</td>\n",
       "      <td>en</td>\n",
       "      <td></td>\n",
       "      <td>False</td>\n",
       "      <td>'Gold On My MacBook' is the perfect rap song f...</td>\n",
       "      <td>pepemvalle</td>\n",
       "      <td>Jose Valle</td>\n",
       "      <td>es</td>\n",
       "      <td>Madrid</td>\n",
       "      <td></td>\n",
       "      <td></td>\n",
       "      <td></td>\n",
       "      <td>http://ift.tt/1AXDXIR</td>\n",
       "      <td>NaN</td>\n",
       "      <td>NaN</td>\n",
       "      <td></td>\n",
       "    </tr>\n",
       "    <tr>\n",
       "      <th>2015-03-09 21:08:06</th>\n",
       "      <td>575040384482590720</td>\n",
       "      <td>fr</td>\n",
       "      <td></td>\n",
       "      <td>False</td>\n",
       "      <td>RT @MisterC00l: Noyer son Apple Watch en or à ...</td>\n",
       "      <td>Karma_eb155</td>\n",
       "      <td>Karma155</td>\n",
       "      <td>fr</td>\n",
       "      <td>Champagne-Ardenne</td>\n",
       "      <td></td>\n",
       "      <td>http://twitter.com/MisterC00l/status/575013358...</td>\n",
       "      <td></td>\n",
       "      <td></td>\n",
       "      <td>NaN</td>\n",
       "      <td>NaN</td>\n",
       "      <td></td>\n",
       "    </tr>\n",
       "    <tr>\n",
       "      <th>2015-03-09 21:21:47</th>\n",
       "      <td>575043831525146624</td>\n",
       "      <td>en</td>\n",
       "      <td></td>\n",
       "      <td>False</td>\n",
       "      <td>RT @androidcentral: Apple's new MacBook cable ...</td>\n",
       "      <td>IkerFuentes97</td>\n",
       "      <td>JackÜ</td>\n",
       "      <td>en</td>\n",
       "      <td>Bilbaíno de Lanzarote</td>\n",
       "      <td>android</td>\n",
       "      <td>http://twitter.com/androidcentral/status/57502...</td>\n",
       "      <td></td>\n",
       "      <td>http://phon.es/yljt</td>\n",
       "      <td>NaN</td>\n",
       "      <td>NaN</td>\n",
       "      <td></td>\n",
       "    </tr>\n",
       "    <tr>\n",
       "      <th>2015-03-09 21:27:31</th>\n",
       "      <td>575045273384263680</td>\n",
       "      <td>fr</td>\n",
       "      <td></td>\n",
       "      <td>False</td>\n",
       "      <td>RT @LeHuffPost: Apple Watch Edition: un prix s...</td>\n",
       "      <td>TranNathalie</td>\n",
       "      <td>Tran Nathalie</td>\n",
       "      <td>fr</td>\n",
       "      <td>Gard</td>\n",
       "      <td></td>\n",
       "      <td></td>\n",
       "      <td></td>\n",
       "      <td>http://huff.to/1KMYiMd</td>\n",
       "      <td>NaN</td>\n",
       "      <td>NaN</td>\n",
       "      <td></td>\n",
       "    </tr>\n",
       "    <tr>\n",
       "      <th>2015-03-09 21:01:23</th>\n",
       "      <td>575038696988131328</td>\n",
       "      <td>ja</td>\n",
       "      <td></td>\n",
       "      <td>False</td>\n",
       "      <td>＜CNET Japan＞「Apple Watch」日本でも4月10日より予約開始--4万28...</td>\n",
       "      <td>x1aw4w8i</td>\n",
       "      <td>キャッハー</td>\n",
       "      <td>ja</td>\n",
       "      <td></td>\n",
       "      <td></td>\n",
       "      <td></td>\n",
       "      <td></td>\n",
       "      <td>http://japan.cnet.com/sp/apple_watch/35061515/...</td>\n",
       "      <td>NaN</td>\n",
       "      <td>NaN</td>\n",
       "      <td></td>\n",
       "    </tr>\n",
       "  </tbody>\n",
       "</table>\n",
       "</div>"
      ],
      "text/plain": [
       "                                     id lang place possibly_sensitive  \\\n",
       "created_at                                                              \n",
       "2015-03-09 21:01:01  575038603887251456   en                    False   \n",
       "2015-03-09 21:08:06  575040384482590720   fr                    False   \n",
       "2015-03-09 21:21:47  575043831525146624   en                    False   \n",
       "2015-03-09 21:27:31  575045273384263680   fr                    False   \n",
       "2015-03-09 21:01:23  575038696988131328   ja                    False   \n",
       "\n",
       "                                                                  text  \\\n",
       "created_at                                                               \n",
       "2015-03-09 21:01:01  'Gold On My MacBook' is the perfect rap song f...   \n",
       "2015-03-09 21:08:06  RT @MisterC00l: Noyer son Apple Watch en or à ...   \n",
       "2015-03-09 21:21:47  RT @androidcentral: Apple's new MacBook cable ...   \n",
       "2015-03-09 21:27:31  RT @LeHuffPost: Apple Watch Edition: un prix s...   \n",
       "2015-03-09 21:01:23  ＜CNET Japan＞「Apple Watch」日本でも4月10日より予約開始--4万28...   \n",
       "\n",
       "                    user_screen_name      user_name user_lang  \\\n",
       "created_at                                                      \n",
       "2015-03-09 21:01:01       pepemvalle     Jose Valle        es   \n",
       "2015-03-09 21:08:06      Karma_eb155       Karma155        fr   \n",
       "2015-03-09 21:21:47    IkerFuentes97         JackÜ         en   \n",
       "2015-03-09 21:27:31     TranNathalie  Tran Nathalie        fr   \n",
       "2015-03-09 21:01:23         x1aw4w8i          キャッハー        ja   \n",
       "\n",
       "                             user_location hashtags  \\\n",
       "created_at                                            \n",
       "2015-03-09 21:01:01                 Madrid            \n",
       "2015-03-09 21:08:06      Champagne-Ardenne            \n",
       "2015-03-09 21:21:47  Bilbaíno de Lanzarote  android   \n",
       "2015-03-09 21:27:31                   Gard            \n",
       "2015-03-09 21:01:23                                   \n",
       "\n",
       "                                                                 media  \\\n",
       "created_at                                                               \n",
       "2015-03-09 21:01:01                                                      \n",
       "2015-03-09 21:08:06  http://twitter.com/MisterC00l/status/575013358...   \n",
       "2015-03-09 21:21:47  http://twitter.com/androidcentral/status/57502...   \n",
       "2015-03-09 21:27:31                                                      \n",
       "2015-03-09 21:01:23                                                      \n",
       "\n",
       "                    symbols  \\\n",
       "created_at                    \n",
       "2015-03-09 21:01:01           \n",
       "2015-03-09 21:08:06           \n",
       "2015-03-09 21:21:47           \n",
       "2015-03-09 21:27:31           \n",
       "2015-03-09 21:01:23           \n",
       "\n",
       "                                                                  urls  lat  \\\n",
       "created_at                                                                    \n",
       "2015-03-09 21:01:01                              http://ift.tt/1AXDXIR  NaN   \n",
       "2015-03-09 21:08:06                                                     NaN   \n",
       "2015-03-09 21:21:47                                http://phon.es/yljt  NaN   \n",
       "2015-03-09 21:27:31                             http://huff.to/1KMYiMd  NaN   \n",
       "2015-03-09 21:01:23  http://japan.cnet.com/sp/apple_watch/35061515/...  NaN   \n",
       "\n",
       "                     lon country  \n",
       "created_at                        \n",
       "2015-03-09 21:01:01  NaN          \n",
       "2015-03-09 21:08:06  NaN          \n",
       "2015-03-09 21:21:47  NaN          \n",
       "2015-03-09 21:27:31  NaN          \n",
       "2015-03-09 21:01:23  NaN          "
      ]
     },
     "execution_count": 30,
     "metadata": {},
     "output_type": "execute_result"
    }
   ],
   "source": [
    "nans = {col: \"\" for col in [\"lang\", \"place\", \"text\", \"user_screen_name\", \"user_name\", \"user_lang\",\n",
    "                            \"user_location\", \"hashtags\", \"media\", \"symbols\", \"urls\", \"country\"]}\n",
    "df.fillna(value=nans, inplace=True)\n",
    "df.head(5)"
   ]
  },
  {
   "cell_type": "code",
   "execution_count": 31,
   "metadata": {
    "collapsed": false
   },
   "outputs": [],
   "source": [
    "previous_count = df.count()  # .count() basically counts elements\n",
    "df = df.dropna(subset=[\"id\"]).dropna(how=\"all\")"
   ]
  },
  {
   "cell_type": "markdown",
   "metadata": {},
   "source": [
    "We can also remove duplicate rows based on all cell content or individual columns."
   ]
  },
  {
   "cell_type": "code",
   "execution_count": 32,
   "metadata": {
    "collapsed": false
   },
   "outputs": [],
   "source": [
    "df = df.drop_duplicates(subset=[\"id\"]).drop_duplicates()"
   ]
  },
  {
   "cell_type": "markdown",
   "metadata": {},
   "source": [
    "Let's see the difference"
   ]
  },
  {
   "cell_type": "code",
   "execution_count": 33,
   "metadata": {
    "collapsed": false
   },
   "outputs": [
    {
     "data": {
      "text/plain": [
       "(9985, 9980)"
      ]
     },
     "execution_count": 33,
     "metadata": {},
     "output_type": "execute_result"
    }
   ],
   "source": [
    "previous_count.id, df.count().id"
   ]
  },
  {
   "cell_type": "markdown",
   "metadata": {},
   "source": [
    "Now we can just save the clean data to any format supported by Pandas"
   ]
  },
  {
   "cell_type": "code",
   "execution_count": 34,
   "metadata": {
    "collapsed": true
   },
   "outputs": [],
   "source": [
    "df.to_csv(\"twitter_clean.csv\", encoding=\"utf8\")"
   ]
  },
  {
   "cell_type": "markdown",
   "metadata": {},
   "source": [
    "## Indexing and selecting"
   ]
  },
  {
   "cell_type": "markdown",
   "metadata": {},
   "source": [
    "Accessing column data"
   ]
  },
  {
   "cell_type": "code",
   "execution_count": 35,
   "metadata": {
    "collapsed": false
   },
   "outputs": [
    {
     "data": {
      "text/plain": [
       "California    38332521\n",
       "Florida       19552860\n",
       "Illinois      12882135\n",
       "New York      19651127\n",
       "Texas         26448193\n",
       "Name: population, dtype: int64"
      ]
     },
     "execution_count": 35,
     "metadata": {},
     "output_type": "execute_result"
    }
   ],
   "source": [
    "states.population"
   ]
  },
  {
   "cell_type": "code",
   "execution_count": 36,
   "metadata": {
    "collapsed": false
   },
   "outputs": [
    {
     "data": {
      "text/plain": [
       "California    38332521\n",
       "Florida       19552860\n",
       "Illinois      12882135\n",
       "New York      19651127\n",
       "Texas         26448193\n",
       "Name: population, dtype: int64"
      ]
     },
     "execution_count": 36,
     "metadata": {},
     "output_type": "execute_result"
    }
   ],
   "source": [
    "states[\"population\"]"
   ]
  },
  {
   "cell_type": "code",
   "execution_count": 37,
   "metadata": {
    "collapsed": false
   },
   "outputs": [
    {
     "data": {
      "text/plain": [
       "California     True\n",
       "Florida       False\n",
       "Illinois      False\n",
       "New York      False\n",
       "Texas         False\n",
       "Name: population, dtype: bool"
      ]
     },
     "execution_count": 37,
     "metadata": {},
     "output_type": "execute_result"
    }
   ],
   "source": [
    "# We can create a \"mask\"\n",
    "states.population > 3e7"
   ]
  },
  {
   "cell_type": "code",
   "execution_count": 38,
   "metadata": {
    "collapsed": false
   },
   "outputs": [
    {
     "data": {
      "text/html": [
       "<div>\n",
       "<table border=\"1\" class=\"dataframe\">\n",
       "  <thead>\n",
       "    <tr style=\"text-align: right;\">\n",
       "      <th></th>\n",
       "      <th>area</th>\n",
       "      <th>population</th>\n",
       "    </tr>\n",
       "  </thead>\n",
       "  <tbody>\n",
       "    <tr>\n",
       "      <th>California</th>\n",
       "      <td>423967</td>\n",
       "      <td>38332521</td>\n",
       "    </tr>\n",
       "  </tbody>\n",
       "</table>\n",
       "</div>"
      ],
      "text/plain": [
       "              area  population\n",
       "California  423967    38332521"
      ]
     },
     "execution_count": 38,
     "metadata": {},
     "output_type": "execute_result"
    }
   ],
   "source": [
    "# And filter based on any logical expression\n",
    "states[states.population > 3e7]"
   ]
  },
  {
   "cell_type": "markdown",
   "metadata": {},
   "source": [
    "Also with *fancy* indexing"
   ]
  },
  {
   "cell_type": "code",
   "execution_count": 39,
   "metadata": {
    "collapsed": false
   },
   "outputs": [
    {
     "data": {
      "text/html": [
       "<div>\n",
       "<table border=\"1\" class=\"dataframe\">\n",
       "  <thead>\n",
       "    <tr style=\"text-align: right;\">\n",
       "      <th></th>\n",
       "      <th>population</th>\n",
       "    </tr>\n",
       "  </thead>\n",
       "  <tbody>\n",
       "    <tr>\n",
       "      <th>California</th>\n",
       "      <td>38332521</td>\n",
       "    </tr>\n",
       "    <tr>\n",
       "      <th>Florida</th>\n",
       "      <td>19552860</td>\n",
       "    </tr>\n",
       "    <tr>\n",
       "      <th>Illinois</th>\n",
       "      <td>12882135</td>\n",
       "    </tr>\n",
       "    <tr>\n",
       "      <th>New York</th>\n",
       "      <td>19651127</td>\n",
       "    </tr>\n",
       "    <tr>\n",
       "      <th>Texas</th>\n",
       "      <td>26448193</td>\n",
       "    </tr>\n",
       "  </tbody>\n",
       "</table>\n",
       "</div>"
      ],
      "text/plain": [
       "            population\n",
       "California    38332521\n",
       "Florida       19552860\n",
       "Illinois      12882135\n",
       "New York      19651127\n",
       "Texas         26448193"
      ]
     },
     "execution_count": 39,
     "metadata": {},
     "output_type": "execute_result"
    }
   ],
   "source": [
    "states[[\"population\"]]"
   ]
  },
  {
   "cell_type": "code",
   "execution_count": 40,
   "metadata": {
    "collapsed": false
   },
   "outputs": [
    {
     "data": {
      "text/plain": [
       "(pandas.core.series.Series, pandas.core.frame.DataFrame)"
      ]
     },
     "execution_count": 40,
     "metadata": {},
     "output_type": "execute_result"
    }
   ],
   "source": [
    "type(states[\"population\"]), type(states[[\"population\"]])"
   ]
  },
  {
   "cell_type": "code",
   "execution_count": 41,
   "metadata": {
    "collapsed": false
   },
   "outputs": [
    {
     "data": {
      "text/html": [
       "<div>\n",
       "<table border=\"1\" class=\"dataframe\">\n",
       "  <thead>\n",
       "    <tr style=\"text-align: right;\">\n",
       "      <th></th>\n",
       "      <th>area</th>\n",
       "    </tr>\n",
       "  </thead>\n",
       "  <tbody>\n",
       "    <tr>\n",
       "      <th>California</th>\n",
       "      <td>423967</td>\n",
       "    </tr>\n",
       "  </tbody>\n",
       "</table>\n",
       "</div>"
      ],
      "text/plain": [
       "              area\n",
       "California  423967"
      ]
     },
     "execution_count": 41,
     "metadata": {},
     "output_type": "execute_result"
    }
   ],
   "source": [
    "# Area of states with population higher than 30000000 people\n",
    "states[states.population > 3e7][[\"area\"]]"
   ]
  },
  {
   "cell_type": "code",
   "execution_count": 42,
   "metadata": {
    "collapsed": false
   },
   "outputs": [
    {
     "data": {
      "text/plain": [
       "area            423967\n",
       "population    38332521\n",
       "Name: California, dtype: int64"
      ]
     },
     "execution_count": 42,
     "metadata": {},
     "output_type": "execute_result"
    }
   ],
   "source": [
    "# It's also possible to access individual row data\n",
    "states.iloc[0]"
   ]
  },
  {
   "cell_type": "code",
   "execution_count": 43,
   "metadata": {
    "collapsed": false
   },
   "outputs": [
    {
     "data": {
      "text/plain": [
       "area            423967\n",
       "population    38332521\n",
       "Name: California, dtype: int64"
      ]
     },
     "execution_count": 43,
     "metadata": {},
     "output_type": "execute_result"
    }
   ],
   "source": [
    "states.loc[\"California\"]"
   ]
  },
  {
   "cell_type": "code",
   "execution_count": 44,
   "metadata": {
    "collapsed": false
   },
   "outputs": [
    {
     "data": {
      "text/plain": [
       "423967"
      ]
     },
     "execution_count": 44,
     "metadata": {},
     "output_type": "execute_result"
    }
   ],
   "source": [
    "states.ix[\"California\", \"area\"]"
   ]
  },
  {
   "cell_type": "markdown",
   "metadata": {},
   "source": [
    "## Manipulation"
   ]
  },
  {
   "cell_type": "markdown",
   "metadata": {},
   "source": [
    "One of the most basic operations you can do with data is counting. Let's try to get the how many times each hashtag is present in the twitter dataset."
   ]
  },
  {
   "cell_type": "code",
   "execution_count": 45,
   "metadata": {
    "collapsed": false
   },
   "outputs": [
    {
     "data": {
      "text/html": [
       "<div>\n",
       "<table border=\"1\" class=\"dataframe\">\n",
       "  <thead>\n",
       "    <tr style=\"text-align: right;\">\n",
       "      <th></th>\n",
       "      <th>hashtags</th>\n",
       "    </tr>\n",
       "    <tr>\n",
       "      <th>created_at</th>\n",
       "      <th></th>\n",
       "    </tr>\n",
       "  </thead>\n",
       "  <tbody>\n",
       "    <tr>\n",
       "      <th>2015-03-09 21:01:01</th>\n",
       "      <td></td>\n",
       "    </tr>\n",
       "    <tr>\n",
       "      <th>2015-03-09 21:08:06</th>\n",
       "      <td></td>\n",
       "    </tr>\n",
       "    <tr>\n",
       "      <th>2015-03-09 21:21:47</th>\n",
       "      <td>android</td>\n",
       "    </tr>\n",
       "    <tr>\n",
       "      <th>2015-03-09 21:27:31</th>\n",
       "      <td></td>\n",
       "    </tr>\n",
       "    <tr>\n",
       "      <th>2015-03-09 21:01:23</th>\n",
       "      <td></td>\n",
       "    </tr>\n",
       "    <tr>\n",
       "      <th>...</th>\n",
       "      <td>...</td>\n",
       "    </tr>\n",
       "    <tr>\n",
       "      <th>2015-03-09 21:21:24</th>\n",
       "      <td></td>\n",
       "    </tr>\n",
       "    <tr>\n",
       "      <th>2015-03-09 21:32:28</th>\n",
       "      <td></td>\n",
       "    </tr>\n",
       "    <tr>\n",
       "      <th>2015-03-09 21:27:59</th>\n",
       "      <td></td>\n",
       "    </tr>\n",
       "    <tr>\n",
       "      <th>2015-03-09 21:27:31</th>\n",
       "      <td></td>\n",
       "    </tr>\n",
       "    <tr>\n",
       "      <th>2015-03-09 21:30:20</th>\n",
       "      <td></td>\n",
       "    </tr>\n",
       "  </tbody>\n",
       "</table>\n",
       "<p>9980 rows × 1 columns</p>\n",
       "</div>"
      ],
      "text/plain": [
       "                    hashtags\n",
       "created_at                  \n",
       "2015-03-09 21:01:01         \n",
       "2015-03-09 21:08:06         \n",
       "2015-03-09 21:21:47  android\n",
       "2015-03-09 21:27:31         \n",
       "2015-03-09 21:01:23         \n",
       "...                      ...\n",
       "2015-03-09 21:21:24         \n",
       "2015-03-09 21:32:28         \n",
       "2015-03-09 21:27:59         \n",
       "2015-03-09 21:27:31         \n",
       "2015-03-09 21:30:20         \n",
       "\n",
       "[9980 rows x 1 columns]"
      ]
     },
     "execution_count": 45,
     "metadata": {},
     "output_type": "execute_result"
    }
   ],
   "source": [
    "df[[\"hashtags\"]].dropna()"
   ]
  },
  {
   "cell_type": "markdown",
   "metadata": {},
   "source": [
    "Using string operations we can `.split()` by comma and get a list of hashtags."
   ]
  },
  {
   "cell_type": "code",
   "execution_count": 46,
   "metadata": {
    "collapsed": false
   },
   "outputs": [
    {
     "data": {
      "text/plain": [
       "created_at\n",
       "2015-03-09 21:01:01           []\n",
       "2015-03-09 21:08:06           []\n",
       "2015-03-09 21:21:47    [android]\n",
       "2015-03-09 21:27:31           []\n",
       "2015-03-09 21:01:23           []\n",
       "                         ...    \n",
       "2015-03-09 21:21:24           []\n",
       "2015-03-09 21:32:28           []\n",
       "2015-03-09 21:27:59           []\n",
       "2015-03-09 21:27:31           []\n",
       "2015-03-09 21:30:20           []\n",
       "Name: hashtags, dtype: object"
      ]
     },
     "execution_count": 46,
     "metadata": {},
     "output_type": "execute_result"
    }
   ],
   "source": [
    "df.hashtags.dropna().str.split(\",\")"
   ]
  },
  {
   "cell_type": "code",
   "execution_count": 47,
   "metadata": {
    "collapsed": false
   },
   "outputs": [
    {
     "data": {
      "text/plain": [
       "created_at\n",
       "2015-03-09 21:01:01           []\n",
       "2015-03-09 21:08:06           []\n",
       "2015-03-09 21:21:47    [android]\n",
       "2015-03-09 21:27:31           []\n",
       "2015-03-09 21:01:23           []\n",
       "                         ...    \n",
       "2015-03-09 21:21:24           []\n",
       "2015-03-09 21:32:28           []\n",
       "2015-03-09 21:27:59           []\n",
       "2015-03-09 21:27:31           []\n",
       "2015-03-09 21:30:20           []\n",
       "Name: hashtags, dtype: object"
      ]
     },
     "execution_count": 47,
     "metadata": {},
     "output_type": "execute_result"
    }
   ],
   "source": [
    "# Equivalent to\n",
    "df.hashtags.dropna().apply(lambda x: x.split(\",\"))"
   ]
  },
  {
   "cell_type": "markdown",
   "metadata": {},
   "source": [
    "We can now *sum* all those lists together and create a `Series` with the that."
   ]
  },
  {
   "cell_type": "code",
   "execution_count": 48,
   "metadata": {
    "collapsed": false
   },
   "outputs": [
    {
     "data": {
      "text/plain": [
       "['', '', 'android', '', '', '', '', '', '', '']"
      ]
     },
     "execution_count": 48,
     "metadata": {},
     "output_type": "execute_result"
    }
   ],
   "source": [
    "df.hashtags.dropna().str.split(\",\").sum()[:10]"
   ]
  },
  {
   "cell_type": "code",
   "execution_count": 49,
   "metadata": {
    "collapsed": false
   },
   "outputs": [
    {
     "data": {
      "text/plain": [
       "0               \n",
       "1               \n",
       "2        android\n",
       "3               \n",
       "4               \n",
       "          ...   \n",
       "11322           \n",
       "11323           \n",
       "11324           \n",
       "11325           \n",
       "11326           \n",
       "dtype: object"
      ]
     },
     "execution_count": 49,
     "metadata": {},
     "output_type": "execute_result"
    }
   ],
   "source": [
    "hashtags = pd.Series(df.hashtags.dropna().str.split(\",\").sum())\n",
    "hashtags"
   ]
  },
  {
   "cell_type": "markdown",
   "metadata": {},
   "source": [
    "One handy function of Pandas is `.value_counts()` which unsurprisingly counts how many times an element is present. "
   ]
  },
  {
   "cell_type": "code",
   "execution_count": 50,
   "metadata": {
    "collapsed": false
   },
   "outputs": [
    {
     "data": {
      "text/plain": [
       "              8160\n",
       "Apple          243\n",
       "AppleWatch     190\n",
       "apple          147\n",
       "AppleLive      131\n",
       "              ... \n",
       "jobs             1\n",
       "versões          1\n",
       "nawwwwwt         1\n",
       "Year             1\n",
       "bakire           1\n",
       "dtype: int64"
      ]
     },
     "execution_count": 50,
     "metadata": {},
     "output_type": "execute_result"
    }
   ],
   "source": [
    "hashtags.value_counts()"
   ]
  },
  {
   "cell_type": "markdown",
   "metadata": {},
   "source": [
    "Actually, this is not the fastest way to do this. Python's stantard library `collections` are out of the scope of this workshop, but its `Counter` class is commonly use for the same purpose."
   ]
  },
  {
   "cell_type": "code",
   "execution_count": 51,
   "metadata": {
    "collapsed": false
   },
   "outputs": [
    {
     "data": {
      "text/plain": [
       "[('', 8160),\n",
       " ('Apple', 243),\n",
       " ('AppleWatch', 190),\n",
       " ('apple', 147),\n",
       " ('AppleLive', 131),\n",
       " ('tech', 118),\n",
       " ('MacBook', 79),\n",
       " ('news', 75),\n",
       " ('applewatch', 67),\n",
       " ('Tech', 51)]"
      ]
     },
     "execution_count": 51,
     "metadata": {},
     "output_type": "execute_result"
    }
   ],
   "source": [
    "from collections import Counter\n",
    "Counter(\",\".join(df.hashtags.dropna().values).split(\",\")).most_common(10)"
   ]
  },
  {
   "cell_type": "markdown",
   "metadata": {},
   "source": [
    "The same pattern can be apply to `symbols`, `media`, or `urls`"
   ]
  },
  {
   "cell_type": "code",
   "execution_count": 52,
   "metadata": {
    "collapsed": false
   },
   "outputs": [
    {
     "name": "stdout",
     "output_type": "stream",
     "text": [
      "symbols\n",
      "         9941\n",
      "AAPL       37\n",
      "wlst        1\n",
      "Apple       1\n",
      "dtype: int64\n",
      "\n",
      "media\n",
      "                                                                       7913\n",
      "http://twitter.com/sosyalansmedya/status/575040058467684352/photo/1     148\n",
      "http://twitter.com/Chris_Vanouu/status/575011974402150400/photo/1        62\n",
      "http://twitter.com/AppStore/status/575004795049656320/photo/1            39\n",
      "http://twitter.com/verge/status/575034869480292352/photo/1               31\n",
      "http://twitter.com/tomstandage/status/574849877781442560/photo/1         29\n",
      "http://twitter.com/ComplexMag/status/575043498237366272/photo/1          28\n",
      "http://twitter.com/engadget/status/575027287940276227/photo/1            26\n",
      "http://twitter.com/WSJD/status/575043452565614594/photo/1                22\n",
      "http://twitter.com/shutupmikeginn/status/575037474474364929/photo/1      21\n",
      "dtype: int64\n",
      "\n",
      "urls\n",
      "                                                                3219\n",
      "http://apple.com/watch                                           338\n",
      "https://amp.twimg.com/v/ee08d048-6b15-4544-9dda-46b991a954f7     262\n",
      "http://apple.com/macbook                                          49\n",
      "http://ift.tt/1BkhBpV                                             49\n",
      "http://ift.tt/196oFw0                                             43\n",
      "http://ift.tt/1NBugtG                                             42\n",
      "http://ift.tt/1AacV0Z                                             41\n",
      "http://ift.tt/1F4vwSD                                             41\n",
      "http://apple-watch-news.com                                       40\n",
      "dtype: int64\n",
      "\n"
     ]
    }
   ],
   "source": [
    "for column in [\"symbols\", \"media\", \"urls\"]:\n",
    "    column_series = pd.Series(df[column].dropna().str.split(\",\").sum())\n",
    "    print(column)\n",
    "    print(column_series.value_counts()[:10])\n",
    "    print()"
   ]
  },
  {
   "cell_type": "markdown",
   "metadata": {},
   "source": [
    "### Grouping data\n",
    "\n",
    "But what about the most tweeted language? Or the most prolific user? For this kind of operations we need to use what is called an [Split-Apply-Combine](https://www.jstatsoft.org/article/view/v040i01/v40i01.pdf) approach. In Pandas this can take the form of a `.groupby()` operation followed by an `.aggregate()` function."
   ]
  },
  {
   "cell_type": "code",
   "execution_count": 53,
   "metadata": {
    "collapsed": false
   },
   "outputs": [
    {
     "data": {
      "text/plain": [
       "<pandas.core.groupby.DataFrameGroupBy object at 0x10f1864a8>"
      ]
     },
     "execution_count": 53,
     "metadata": {},
     "output_type": "execute_result"
    }
   ],
   "source": [
    "df.groupby(\"lang\")"
   ]
  },
  {
   "cell_type": "code",
   "execution_count": 54,
   "metadata": {
    "collapsed": false
   },
   "outputs": [
    {
     "data": {
      "text/plain": [
       "<pandas.core.groupby.DataFrameGroupBy object at 0x10f1c20f0>"
      ]
     },
     "execution_count": 54,
     "metadata": {},
     "output_type": "execute_result"
    }
   ],
   "source": [
    "df.groupby(\"lang\")[[\"text\"]]  # no computation is made yet!"
   ]
  },
  {
   "cell_type": "code",
   "execution_count": 55,
   "metadata": {
    "collapsed": false
   },
   "outputs": [
    {
     "data": {
      "text/html": [
       "<div>\n",
       "<table border=\"1\" class=\"dataframe\">\n",
       "  <thead>\n",
       "    <tr style=\"text-align: right;\">\n",
       "      <th></th>\n",
       "      <th>text</th>\n",
       "    </tr>\n",
       "    <tr>\n",
       "      <th>lang</th>\n",
       "      <th></th>\n",
       "    </tr>\n",
       "  </thead>\n",
       "  <tbody>\n",
       "    <tr>\n",
       "      <th>ar</th>\n",
       "      <td>14</td>\n",
       "    </tr>\n",
       "    <tr>\n",
       "      <th>bg</th>\n",
       "      <td>6</td>\n",
       "    </tr>\n",
       "    <tr>\n",
       "      <th>bs</th>\n",
       "      <td>2</td>\n",
       "    </tr>\n",
       "    <tr>\n",
       "      <th>da</th>\n",
       "      <td>4</td>\n",
       "    </tr>\n",
       "    <tr>\n",
       "      <th>de</th>\n",
       "      <td>155</td>\n",
       "    </tr>\n",
       "    <tr>\n",
       "      <th>...</th>\n",
       "      <td>...</td>\n",
       "    </tr>\n",
       "    <tr>\n",
       "      <th>tr</th>\n",
       "      <td>244</td>\n",
       "    </tr>\n",
       "    <tr>\n",
       "      <th>uk</th>\n",
       "      <td>2</td>\n",
       "    </tr>\n",
       "    <tr>\n",
       "      <th>und</th>\n",
       "      <td>21</td>\n",
       "    </tr>\n",
       "    <tr>\n",
       "      <th>vi</th>\n",
       "      <td>2</td>\n",
       "    </tr>\n",
       "    <tr>\n",
       "      <th>zh</th>\n",
       "      <td>48</td>\n",
       "    </tr>\n",
       "  </tbody>\n",
       "</table>\n",
       "<p>38 rows × 1 columns</p>\n",
       "</div>"
      ],
      "text/plain": [
       "      text\n",
       "lang      \n",
       "ar      14\n",
       "bg       6\n",
       "bs       2\n",
       "da       4\n",
       "de     155\n",
       "...    ...\n",
       "tr     244\n",
       "uk       2\n",
       "und     21\n",
       "vi       2\n",
       "zh      48\n",
       "\n",
       "[38 rows x 1 columns]"
      ]
     },
     "execution_count": 55,
     "metadata": {},
     "output_type": "execute_result"
    }
   ],
   "source": [
    "df.groupby(\"lang\")[[\"text\"]].aggregate(np.count_nonzero)"
   ]
  },
  {
   "cell_type": "code",
   "execution_count": 56,
   "metadata": {
    "collapsed": false
   },
   "outputs": [
    {
     "data": {
      "text/html": [
       "<div>\n",
       "<table border=\"1\" class=\"dataframe\">\n",
       "  <thead>\n",
       "    <tr style=\"text-align: right;\">\n",
       "      <th></th>\n",
       "      <th>text</th>\n",
       "    </tr>\n",
       "    <tr>\n",
       "      <th>lang</th>\n",
       "      <th></th>\n",
       "    </tr>\n",
       "  </thead>\n",
       "  <tbody>\n",
       "    <tr>\n",
       "      <th>en</th>\n",
       "      <td>6677</td>\n",
       "    </tr>\n",
       "    <tr>\n",
       "      <th>es</th>\n",
       "      <td>847</td>\n",
       "    </tr>\n",
       "    <tr>\n",
       "      <th>ja</th>\n",
       "      <td>686</td>\n",
       "    </tr>\n",
       "    <tr>\n",
       "      <th>ru</th>\n",
       "      <td>480</td>\n",
       "    </tr>\n",
       "    <tr>\n",
       "      <th>fr</th>\n",
       "      <td>363</td>\n",
       "    </tr>\n",
       "    <tr>\n",
       "      <th>tr</th>\n",
       "      <td>244</td>\n",
       "    </tr>\n",
       "    <tr>\n",
       "      <th>de</th>\n",
       "      <td>155</td>\n",
       "    </tr>\n",
       "    <tr>\n",
       "      <th>it</th>\n",
       "      <td>104</td>\n",
       "    </tr>\n",
       "    <tr>\n",
       "      <th>pt</th>\n",
       "      <td>79</td>\n",
       "    </tr>\n",
       "    <tr>\n",
       "      <th>in</th>\n",
       "      <td>70</td>\n",
       "    </tr>\n",
       "  </tbody>\n",
       "</table>\n",
       "</div>"
      ],
      "text/plain": [
       "      text\n",
       "lang      \n",
       "en    6677\n",
       "es     847\n",
       "ja     686\n",
       "ru     480\n",
       "fr     363\n",
       "tr     244\n",
       "de     155\n",
       "it     104\n",
       "pt      79\n",
       "in      70"
      ]
     },
     "execution_count": 56,
     "metadata": {},
     "output_type": "execute_result"
    }
   ],
   "source": [
    "# Sort by text\n",
    "df.groupby(\"lang\")[[\"text\"]].aggregate(np.count_nonzero).sort_values(\"text\", ascending=False)[:10]"
   ]
  },
  {
   "cell_type": "markdown",
   "metadata": {},
   "source": [
    "Same pattern can be applied to `user_screen_name`, `place`, or `country`."
   ]
  },
  {
   "cell_type": "code",
   "execution_count": 57,
   "metadata": {
    "collapsed": false
   },
   "outputs": [
    {
     "data": {
      "text/html": [
       "<div>\n",
       "<table border=\"1\" class=\"dataframe\">\n",
       "  <thead>\n",
       "    <tr style=\"text-align: right;\">\n",
       "      <th></th>\n",
       "      <th>text</th>\n",
       "    </tr>\n",
       "    <tr>\n",
       "      <th>user_screen_name</th>\n",
       "      <th></th>\n",
       "    </tr>\n",
       "  </thead>\n",
       "  <tbody>\n",
       "    <tr>\n",
       "      <th>asdplayer55</th>\n",
       "      <td>21</td>\n",
       "    </tr>\n",
       "    <tr>\n",
       "      <th>iphone_np</th>\n",
       "      <td>13</td>\n",
       "    </tr>\n",
       "    <tr>\n",
       "      <th>lexinerus</th>\n",
       "      <td>11</td>\n",
       "    </tr>\n",
       "    <tr>\n",
       "      <th>WhinyAppleWatch</th>\n",
       "      <td>10</td>\n",
       "    </tr>\n",
       "    <tr>\n",
       "      <th>niftytech_news</th>\n",
       "      <td>10</td>\n",
       "    </tr>\n",
       "    <tr>\n",
       "      <th>world_latest</th>\n",
       "      <td>9</td>\n",
       "    </tr>\n",
       "    <tr>\n",
       "      <th>gachinko2</th>\n",
       "      <td>8</td>\n",
       "    </tr>\n",
       "    <tr>\n",
       "      <th>JapanTechFeeds</th>\n",
       "      <td>8</td>\n",
       "    </tr>\n",
       "    <tr>\n",
       "      <th>technews_today</th>\n",
       "      <td>8</td>\n",
       "    </tr>\n",
       "    <tr>\n",
       "      <th>smartclinic56</th>\n",
       "      <td>8</td>\n",
       "    </tr>\n",
       "  </tbody>\n",
       "</table>\n",
       "</div>"
      ],
      "text/plain": [
       "                  text\n",
       "user_screen_name      \n",
       "asdplayer55         21\n",
       "iphone_np           13\n",
       "lexinerus           11\n",
       "WhinyAppleWatch     10\n",
       "niftytech_news      10\n",
       "world_latest         9\n",
       "gachinko2            8\n",
       "JapanTechFeeds       8\n",
       "technews_today       8\n",
       "smartclinic56        8"
      ]
     },
     "execution_count": 57,
     "metadata": {},
     "output_type": "execute_result"
    }
   ],
   "source": [
    "def count_by(df, column, by=\"text\", count=10):\n",
    "    return (df.groupby(column)[[by]]\n",
    "              .aggregate(np.count_nonzero).sort_values(by, ascending=False)[:count])\n",
    "\n",
    "count_by(df, \"user_screen_name\")"
   ]
  },
  {
   "cell_type": "code",
   "execution_count": 58,
   "metadata": {
    "collapsed": false
   },
   "outputs": [
    {
     "data": {
      "text/html": [
       "<div>\n",
       "<table border=\"1\" class=\"dataframe\">\n",
       "  <thead>\n",
       "    <tr style=\"text-align: right;\">\n",
       "      <th></th>\n",
       "      <th>text</th>\n",
       "    </tr>\n",
       "    <tr>\n",
       "      <th>place</th>\n",
       "      <th></th>\n",
       "    </tr>\n",
       "  </thead>\n",
       "  <tbody>\n",
       "    <tr>\n",
       "      <th>Chester, VA</th>\n",
       "      <td>2</td>\n",
       "    </tr>\n",
       "    <tr>\n",
       "      <th>Los Angeles, CA</th>\n",
       "      <td>2</td>\n",
       "    </tr>\n",
       "    <tr>\n",
       "      <th>Cupertino, CA</th>\n",
       "      <td>2</td>\n",
       "    </tr>\n",
       "    <tr>\n",
       "      <th>Torrance, CA</th>\n",
       "      <td>2</td>\n",
       "    </tr>\n",
       "    <tr>\n",
       "      <th>Hammersmith, London</th>\n",
       "      <td>2</td>\n",
       "    </tr>\n",
       "    <tr>\n",
       "      <th>Arlington, TX</th>\n",
       "      <td>1</td>\n",
       "    </tr>\n",
       "    <tr>\n",
       "      <th>Sainte-Jeanne-d'Arc, Québec</th>\n",
       "      <td>1</td>\n",
       "    </tr>\n",
       "    <tr>\n",
       "      <th>Saint Albans, England</th>\n",
       "      <td>1</td>\n",
       "    </tr>\n",
       "    <tr>\n",
       "      <th>Reddingmuirhead, Scotland</th>\n",
       "      <td>1</td>\n",
       "    </tr>\n",
       "    <tr>\n",
       "      <th>Raderthal, Köln</th>\n",
       "      <td>1</td>\n",
       "    </tr>\n",
       "  </tbody>\n",
       "</table>\n",
       "</div>"
      ],
      "text/plain": [
       "                             text\n",
       "place                            \n",
       "Chester, VA                     2\n",
       "Los Angeles, CA                 2\n",
       "Cupertino, CA                   2\n",
       "Torrance, CA                    2\n",
       "Hammersmith, London             2\n",
       "Arlington, TX                   1\n",
       "Sainte-Jeanne-d'Arc, Québec     1\n",
       "Saint Albans, England           1\n",
       "Reddingmuirhead, Scotland       1\n",
       "Raderthal, Köln                 1"
      ]
     },
     "execution_count": 58,
     "metadata": {},
     "output_type": "execute_result"
    }
   ],
   "source": [
    "count_by(df[df.place.str.len() > 0], \"place\")"
   ]
  },
  {
   "cell_type": "code",
   "execution_count": 59,
   "metadata": {
    "collapsed": false
   },
   "outputs": [
    {
     "data": {
      "text/html": [
       "<div>\n",
       "<table border=\"1\" class=\"dataframe\">\n",
       "  <thead>\n",
       "    <tr style=\"text-align: right;\">\n",
       "      <th></th>\n",
       "      <th>text</th>\n",
       "    </tr>\n",
       "    <tr>\n",
       "      <th>country</th>\n",
       "      <th></th>\n",
       "    </tr>\n",
       "  </thead>\n",
       "  <tbody>\n",
       "    <tr>\n",
       "      <th>United States</th>\n",
       "      <td>41</td>\n",
       "    </tr>\n",
       "    <tr>\n",
       "      <th>United Kingdom</th>\n",
       "      <td>16</td>\n",
       "    </tr>\n",
       "    <tr>\n",
       "      <th>Canada</th>\n",
       "      <td>6</td>\n",
       "    </tr>\n",
       "    <tr>\n",
       "      <th>Deutschland</th>\n",
       "      <td>5</td>\n",
       "    </tr>\n",
       "    <tr>\n",
       "      <th>Brasil</th>\n",
       "      <td>3</td>\n",
       "    </tr>\n",
       "    <tr>\n",
       "      <th>Rossiya</th>\n",
       "      <td>3</td>\n",
       "    </tr>\n",
       "    <tr>\n",
       "      <th>Ireland</th>\n",
       "      <td>2</td>\n",
       "    </tr>\n",
       "    <tr>\n",
       "      <th>México</th>\n",
       "      <td>2</td>\n",
       "    </tr>\n",
       "    <tr>\n",
       "      <th>Türkiye</th>\n",
       "      <td>2</td>\n",
       "    </tr>\n",
       "    <tr>\n",
       "      <th>Argentina</th>\n",
       "      <td>1</td>\n",
       "    </tr>\n",
       "  </tbody>\n",
       "</table>\n",
       "</div>"
      ],
      "text/plain": [
       "                text\n",
       "country             \n",
       "United States     41\n",
       "United Kingdom    16\n",
       "Canada             6\n",
       "Deutschland        5\n",
       "Brasil             3\n",
       "Rossiya            3\n",
       "Ireland            2\n",
       "México             2\n",
       "Türkiye            2\n",
       "Argentina          1"
      ]
     },
     "execution_count": 59,
     "metadata": {},
     "output_type": "execute_result"
    }
   ],
   "source": [
    "count_by(df[df.country.str.len() > 0], \"country\")"
   ]
  },
  {
   "cell_type": "markdown",
   "metadata": {},
   "source": [
    "However, for complex groupings like this a pivot table can be more useful."
   ]
  },
  {
   "cell_type": "code",
   "execution_count": 60,
   "metadata": {
    "collapsed": false
   },
   "outputs": [
    {
     "data": {
      "text/html": [
       "<div>\n",
       "<table border=\"1\" class=\"dataframe\">\n",
       "  <thead>\n",
       "    <tr style=\"text-align: right;\">\n",
       "      <th></th>\n",
       "      <th></th>\n",
       "      <th>text</th>\n",
       "    </tr>\n",
       "    <tr>\n",
       "      <th>lang</th>\n",
       "      <th>user_screen_name</th>\n",
       "      <th></th>\n",
       "    </tr>\n",
       "  </thead>\n",
       "  <tbody>\n",
       "    <tr>\n",
       "      <th>en</th>\n",
       "      <th>asdplayer55</th>\n",
       "      <td>21</td>\n",
       "    </tr>\n",
       "    <tr>\n",
       "      <th>ja</th>\n",
       "      <th>iphone_np</th>\n",
       "      <td>13</td>\n",
       "    </tr>\n",
       "    <tr>\n",
       "      <th rowspan=\"8\" valign=\"top\">en</th>\n",
       "      <th>lexinerus</th>\n",
       "      <td>11</td>\n",
       "    </tr>\n",
       "    <tr>\n",
       "      <th>niftytech_news</th>\n",
       "      <td>10</td>\n",
       "    </tr>\n",
       "    <tr>\n",
       "      <th>WhinyAppleWatch</th>\n",
       "      <td>10</td>\n",
       "    </tr>\n",
       "    <tr>\n",
       "      <th>...</th>\n",
       "      <td>...</td>\n",
       "    </tr>\n",
       "    <tr>\n",
       "      <th>_lxwrence_</th>\n",
       "      <td>1</td>\n",
       "    </tr>\n",
       "    <tr>\n",
       "      <th>_kylefrost</th>\n",
       "      <td>1</td>\n",
       "    </tr>\n",
       "    <tr>\n",
       "      <th>_ktbm</th>\n",
       "      <td>1</td>\n",
       "    </tr>\n",
       "    <tr>\n",
       "      <th>_keramel</th>\n",
       "      <td>1</td>\n",
       "    </tr>\n",
       "    <tr>\n",
       "      <th>zh</th>\n",
       "      <th>xxxxxTxxxxx</th>\n",
       "      <td>1</td>\n",
       "    </tr>\n",
       "  </tbody>\n",
       "</table>\n",
       "<p>8606 rows × 1 columns</p>\n",
       "</div>"
      ],
      "text/plain": [
       "                       text\n",
       "lang user_screen_name      \n",
       "en   asdplayer55         21\n",
       "ja   iphone_np           13\n",
       "en   lexinerus           11\n",
       "     niftytech_news      10\n",
       "     WhinyAppleWatch     10\n",
       "...                     ...\n",
       "     _lxwrence_           1\n",
       "     _kylefrost           1\n",
       "     _ktbm                1\n",
       "     _keramel             1\n",
       "zh   xxxxxTxxxxx          1\n",
       "\n",
       "[8606 rows x 1 columns]"
      ]
     },
     "execution_count": 60,
     "metadata": {},
     "output_type": "execute_result"
    }
   ],
   "source": [
    "df.pivot_table(\n",
    "    index=[\"lang\", \"user_screen_name\"],\n",
    "    values=[\"text\"],\n",
    "    aggfunc=np.count_nonzero\n",
    ").sort_values(\"text\", ascending=False)"
   ]
  },
  {
   "cell_type": "markdown",
   "metadata": {},
   "source": [
    "And just out of curiosity, what's the average length of the tweets?"
   ]
  },
  {
   "cell_type": "code",
   "execution_count": 61,
   "metadata": {
    "collapsed": false
   },
   "outputs": [
    {
     "data": {
      "text/plain": [
       "102.6753507014028"
      ]
     },
     "execution_count": 61,
     "metadata": {},
     "output_type": "execute_result"
    }
   ],
   "source": [
    "df[\"len\"] = df.text.apply(len)\n",
    "df[\"len\"].mean()"
   ]
  },
  {
   "cell_type": "markdown",
   "metadata": {},
   "source": [
    "Let's now get the most popular retweet in the English language"
   ]
  },
  {
   "cell_type": "code",
   "execution_count": 62,
   "metadata": {
    "collapsed": false
   },
   "outputs": [
    {
     "data": {
      "text/html": [
       "<div>\n",
       "<table border=\"1\" class=\"dataframe\">\n",
       "  <thead>\n",
       "    <tr style=\"text-align: right;\">\n",
       "      <th></th>\n",
       "      <th>text</th>\n",
       "    </tr>\n",
       "    <tr>\n",
       "      <th>text</th>\n",
       "      <th></th>\n",
       "    </tr>\n",
       "  </thead>\n",
       "  <tbody>\n",
       "    <tr>\n",
       "      <th>RT @AnnaKendrick47: We should be thanking Apple for launching the $10,000 \"apple watch\" as the new gold standard in douchebag detection.</th>\n",
       "      <td>246</td>\n",
       "    </tr>\n",
       "  </tbody>\n",
       "</table>\n",
       "</div>"
      ],
      "text/plain": [
       "                                                    text\n",
       "text                                                    \n",
       "RT @AnnaKendrick47: We should be thanking Apple...   246"
      ]
     },
     "execution_count": 62,
     "metadata": {},
     "output_type": "execute_result"
    }
   ],
   "source": [
    "en_text = df[df['lang'] == 'en'][['text']]\n",
    "en_retweets = en_text[en_text.text.str.startswith(\"RT @\")]\n",
    "count_by(en_retweets, \"text\", count=1)"
   ]
  },
  {
   "cell_type": "markdown",
   "metadata": {},
   "source": [
    "## Visualization"
   ]
  },
  {
   "cell_type": "markdown",
   "metadata": {},
   "source": [
    "There are several libraries to handle visualization of data in Python. `matplotlib` is probably the most widely used and also the most intricate to learn. For that reason some replacements and wrappers extending it have appeared over the years, the most prominent one being `seaborn`."
   ]
  },
  {
   "cell_type": "code",
   "execution_count": 63,
   "metadata": {
    "collapsed": false
   },
   "outputs": [],
   "source": [
    "# enables inline plotting in Jupyter\n",
    "%matplotlib inline\n",
    "import matplotlib.pyplot as plt"
   ]
  },
  {
   "cell_type": "code",
   "execution_count": 64,
   "metadata": {
    "collapsed": false
   },
   "outputs": [
    {
     "data": {
      "text/plain": [
       "[<matplotlib.lines.Line2D at 0x10c338b00>]"
      ]
     },
     "execution_count": 64,
     "metadata": {},
     "output_type": "execute_result"
    },
    {
     "data": {
      "image/png": "[encoded data removed]",
      "text/plain": [
       "<matplotlib.figure.Figure at 0x1151952b0>"
      ]
     },
     "metadata": {},
     "output_type": "display_data"
    }
   ],
   "source": [
    "x = np.linspace(0, 10, 100)\n",
    "\n",
    "fig, ax = plt.subplots(1, figsize=(15, 5))\n",
    "ax.plot(x, np.sin(x))\n",
    "ax.plot(x, np.cos(x))\n",
    "# Besides this object-oriented paradigm, matplotlib also provides MATLAB-based syntax"
   ]
  },
  {
   "cell_type": "markdown",
   "metadata": {},
   "source": [
    "There are other styles available as well."
   ]
  },
  {
   "cell_type": "code",
   "execution_count": 65,
   "metadata": {
    "collapsed": false
   },
   "outputs": [
    {
     "data": {
      "image/png": "[encoded data removed]",
      "text/plain": [
       "<matplotlib.figure.Figure at 0x1154d7e48>"
      ]
     },
     "metadata": {},
     "output_type": "display_data"
    }
   ],
   "source": [
    "with plt.style.context('ggplot'):\n",
    "    fig, ax = plt.subplots(1, figsize=(15, 5))\n",
    "    ax.plot(x, np.sin(x))\n",
    "    ax.plot(x, np.cos(x))"
   ]
  },
  {
   "cell_type": "code",
   "execution_count": 66,
   "metadata": {
    "collapsed": false
   },
   "outputs": [
    {
     "data": {
      "text/plain": [
       "['seaborn-white',\n",
       " 'ggplot',\n",
       " 'fivethirtyeight',\n",
       " 'seaborn-deep',\n",
       " 'bmh',\n",
       " 'seaborn-colorblind',\n",
       " 'seaborn-dark-palette',\n",
       " 'classic',\n",
       " 'seaborn-whitegrid',\n",
       " 'seaborn',\n",
       " 'seaborn-bright',\n",
       " 'seaborn-notebook',\n",
       " 'seaborn-dark',\n",
       " 'seaborn-darkgrid',\n",
       " 'seaborn-muted',\n",
       " 'seaborn-ticks',\n",
       " 'dark_background',\n",
       " 'seaborn-talk',\n",
       " 'seaborn-poster',\n",
       " 'grayscale',\n",
       " 'seaborn-pastel',\n",
       " 'seaborn-paper']"
      ]
     },
     "execution_count": 66,
     "metadata": {},
     "output_type": "execute_result"
    }
   ],
   "source": [
    "plt.style.available"
   ]
  },
  {
   "cell_type": "code",
   "execution_count": 67,
   "metadata": {
    "collapsed": false
   },
   "outputs": [
    {
     "data": {
      "image/png": "[encoded data removed]",
      "text/plain": [
       "<matplotlib.figure.Figure at 0x115544ac8>"
      ]
     },
     "metadata": {},
     "output_type": "display_data"
    }
   ],
   "source": [
    "# Even a special one for XKCD!\n",
    "with plt.xkcd():\n",
    "    fig, ax = plt.subplots(1, figsize=(15, 5))\n",
    "    ax.plot(x, np.sin(x))\n",
    "    ax.plot(x, np.cos(x))"
   ]
  },
  {
   "cell_type": "markdown",
   "metadata": {},
   "source": [
    "`seaborn` changes the default style after being imported, but it can be reverted back easily setting the default style to `classic`."
   ]
  },
  {
   "cell_type": "code",
   "execution_count": 68,
   "metadata": {
    "collapsed": false
   },
   "outputs": [
    {
     "data": {
      "text/plain": [
       "[<matplotlib.lines.Line2D at 0x115511278>]"
      ]
     },
     "execution_count": 68,
     "metadata": {},
     "output_type": "execute_result"
    },
    {
     "data": {
      "image/png": "[encoded data removed]",
      "text/plain": [
       "<matplotlib.figure.Figure at 0x1158308d0>"
      ]
     },
     "metadata": {},
     "output_type": "display_data"
    }
   ],
   "source": [
    "plt.style.use(\"seaborn\")\n",
    "fig, ax = plt.subplots(1, figsize=(15, 5))\n",
    "ax.plot(x, np.sin(x))\n",
    "ax.plot(x, np.cos(x))"
   ]
  },
  {
   "cell_type": "markdown",
   "metadata": {},
   "source": [
    "Pandas also provides some utilities to create basic plots."
   ]
  },
  {
   "cell_type": "code",
   "execution_count": 69,
   "metadata": {
    "collapsed": false
   },
   "outputs": [
    {
     "data": {
      "text/plain": [
       "<matplotlib.text.Text at 0x115b603c8>"
      ]
     },
     "execution_count": 69,
     "metadata": {},
     "output_type": "execute_result"
    },
    {
     "data": {
      "image/png": "[encoded data removed]",
      "text/plain": [
       "<matplotlib.figure.Figure at 0x115848588>"
      ]
     },
     "metadata": {},
     "output_type": "display_data"
    }
   ],
   "source": [
    "fig, ax = plt.subplots(1, figsize=(15, 5))\n",
    "count_by(df, \"lang\").plot(ax=ax,\n",
    "    kind=\"bar\",\n",
    ")\n",
    "ax.set_title(\"Languages\")"
   ]
  },
  {
   "cell_type": "markdown",
   "metadata": {},
   "source": [
    "Let's create a hitogram with the lengths of tweets."
   ]
  },
  {
   "cell_type": "code",
   "execution_count": 70,
   "metadata": {
    "collapsed": false
   },
   "outputs": [
    {
     "data": {
      "text/plain": [
       "<matplotlib.text.Text at 0x115c08dd8>"
      ]
     },
     "execution_count": 70,
     "metadata": {},
     "output_type": "execute_result"
    },
    {
     "data": {
      "image/png": "[encoded data removed]",
      "text/plain": [
       "<matplotlib.figure.Figure at 0x115b9d470>"
      ]
     },
     "metadata": {},
     "output_type": "display_data"
    }
   ],
   "source": [
    "fig, ax = plt.subplots(1, figsize=(15, 5))\n",
    "df[\"len\"].hist(ax=ax, bins=15, normed=True, color='lightseagreen')\n",
    "df[\"len\"].plot(ax=ax, kind='kde', xlim=(0, 150), style='r--')\n",
    "ax.set_title(\"Histogram of lengths of tweets\")"
   ]
  },
  {
   "cell_type": "code",
   "execution_count": 71,
   "metadata": {
    "collapsed": false
   },
   "outputs": [
    {
     "data": {
      "text/plain": [
       "<matplotlib.axes._subplots.AxesSubplot at 0x115b8f0b8>"
      ]
     },
     "execution_count": 71,
     "metadata": {},
     "output_type": "execute_result"
    },
    {
     "data": {
      "image/png": "[encoded data removed]",
      "text/plain": [
       "<matplotlib.figure.Figure at 0x1158482b0>"
      ]
     },
     "metadata": {},
     "output_type": "display_data"
    }
   ],
   "source": [
    "df.boxplot(column=\"len\", grid=False)"
   ]
  },
  {
   "cell_type": "markdown",
   "metadata": {},
   "source": [
    "Let's now try to find out if there is any sort of relationship between the length of a tweet and the number of hastags it uses."
   ]
  },
  {
   "cell_type": "code",
   "execution_count": 72,
   "metadata": {
    "collapsed": false
   },
   "outputs": [
    {
     "data": {
      "text/html": [
       "<div>\n",
       "<table border=\"1\" class=\"dataframe\">\n",
       "  <thead>\n",
       "    <tr style=\"text-align: right;\">\n",
       "      <th></th>\n",
       "      <th>len</th>\n",
       "      <th>hashtags_count</th>\n",
       "    </tr>\n",
       "    <tr>\n",
       "      <th>created_at</th>\n",
       "      <th></th>\n",
       "      <th></th>\n",
       "    </tr>\n",
       "  </thead>\n",
       "  <tbody>\n",
       "    <tr>\n",
       "      <th>2015-03-09 21:01:01</th>\n",
       "      <td>90</td>\n",
       "      <td>1</td>\n",
       "    </tr>\n",
       "    <tr>\n",
       "      <th>2015-03-09 21:08:06</th>\n",
       "      <td>140</td>\n",
       "      <td>1</td>\n",
       "    </tr>\n",
       "    <tr>\n",
       "      <th>2015-03-09 21:21:47</th>\n",
       "      <td>126</td>\n",
       "      <td>1</td>\n",
       "    </tr>\n",
       "    <tr>\n",
       "      <th>2015-03-09 21:27:31</th>\n",
       "      <td>106</td>\n",
       "      <td>1</td>\n",
       "    </tr>\n",
       "    <tr>\n",
       "      <th>2015-03-09 21:01:23</th>\n",
       "      <td>86</td>\n",
       "      <td>1</td>\n",
       "    </tr>\n",
       "    <tr>\n",
       "      <th>...</th>\n",
       "      <td>...</td>\n",
       "      <td>...</td>\n",
       "    </tr>\n",
       "    <tr>\n",
       "      <th>2015-03-09 21:21:24</th>\n",
       "      <td>133</td>\n",
       "      <td>1</td>\n",
       "    </tr>\n",
       "    <tr>\n",
       "      <th>2015-03-09 21:32:28</th>\n",
       "      <td>133</td>\n",
       "      <td>1</td>\n",
       "    </tr>\n",
       "    <tr>\n",
       "      <th>2015-03-09 21:27:59</th>\n",
       "      <td>130</td>\n",
       "      <td>1</td>\n",
       "    </tr>\n",
       "    <tr>\n",
       "      <th>2015-03-09 21:27:31</th>\n",
       "      <td>91</td>\n",
       "      <td>1</td>\n",
       "    </tr>\n",
       "    <tr>\n",
       "      <th>2015-03-09 21:30:20</th>\n",
       "      <td>82</td>\n",
       "      <td>1</td>\n",
       "    </tr>\n",
       "  </tbody>\n",
       "</table>\n",
       "<p>9980 rows × 2 columns</p>\n",
       "</div>"
      ],
      "text/plain": [
       "                     len  hashtags_count\n",
       "created_at                              \n",
       "2015-03-09 21:01:01   90               1\n",
       "2015-03-09 21:08:06  140               1\n",
       "2015-03-09 21:21:47  126               1\n",
       "2015-03-09 21:27:31  106               1\n",
       "2015-03-09 21:01:23   86               1\n",
       "...                  ...             ...\n",
       "2015-03-09 21:21:24  133               1\n",
       "2015-03-09 21:32:28  133               1\n",
       "2015-03-09 21:27:59  130               1\n",
       "2015-03-09 21:27:31   91               1\n",
       "2015-03-09 21:30:20   82               1\n",
       "\n",
       "[9980 rows x 2 columns]"
      ]
     },
     "execution_count": 72,
     "metadata": {},
     "output_type": "execute_result"
    }
   ],
   "source": [
    "df[\"hashtags_count\"] = df.hashtags.apply(lambda x: len(x.split(\",\")))\n",
    "df[[\"len\", \"hashtags_count\"]]"
   ]
  },
  {
   "cell_type": "code",
   "execution_count": 73,
   "metadata": {
    "collapsed": false
   },
   "outputs": [
    {
     "data": {
      "text/plain": [
       "<matplotlib.text.Text at 0x11a673a58>"
      ]
     },
     "execution_count": 73,
     "metadata": {},
     "output_type": "execute_result"
    },
    {
     "data": {
      "image/png": "[encoded data removed]",
      "text/plain": [
       "<matplotlib.figure.Figure at 0x11a6c1fd0>"
      ]
     },
     "metadata": {},
     "output_type": "display_data"
    }
   ],
   "source": [
    "fig, ax = plt.subplots(1, figsize=(15, 5))\n",
    "ax.scatter(df.hashtags_count, df.len)\n",
    "ax.set_ylabel(\"Length\")\n",
    "ax.set_xlabel(\"# Hashtags\")\n",
    "ax.set_title(\"Tweets length by number of hashtags\")"
   ]
  }
 ],
 "metadata": {
  "anaconda-cloud": {},
  "kernelspec": {
   "display_name": "Python 3",
   "language": "python",
   "name": "python3"
  },
  "language_info": {
   "codemirror_mode": {
    "name": "ipython",
    "version": 3
   },
   "file_extension": ".py",
   "mimetype": "text/x-python",
   "name": "python",
   "nbconvert_exporter": "python",
   "pygments_lexer": "ipython3",
   "version": "3.5.2"
  }
 },
 "nbformat": 4,
 "nbformat_minor": 1
}
