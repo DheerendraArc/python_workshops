{
 "cells": [
  {
   "cell_type": "markdown",
   "metadata": {},
   "source": [
    "# Topics\n",
    "- Setting up the environment with Anaconda\n",
    "- Using Jupyter notebooks\n",
    "- Pip, packages and imports\n",
    "- Variables and types (String, Int, = List)\n",
    "- Functions\n",
    "- Control Flow\n",
    "- List comprehensions\n",
    "- Web scraping with Requests and BeautifulSoup\n",
    "- Writing text to a file\n",
    "\n",
    "## Virtual environments and Anaconda\n",
    "- Isolated environment so each project can have its own dependencies without conflicts with other projects\n",
    "- Anaconda has its own environment manager, package manager, let's you easily set Python versions, and comes with many of the standard packages used in scientific computing\n",
    "\n",
    "## Jupyter Notebooks\n",
    "- Used to be iPython Notebooks\n",
    "- Write and evaluate code at a granular level without rerunning scripts constantly and using a lot of print debugging\n",
    "- Mix in Markdown and HTML within your notebook, and so is a great way of presenting code and data analysis"
   ]
  },
  {
   "cell_type": "markdown",
   "metadata": {},
   "source": [
    "## Pip, Conda, Packages and Imports\n",
    "- Using Anaconda, you get the conda package manager, but can still use pip to install other packages to your environment\n",
    "- At the top of your script/file, do imports. \n",
    "- Import whole module\n",
    "- Import as\n",
    "- Import part of a module"
   ]
  },
  {
   "cell_type": "code",
   "execution_count": 45,
   "metadata": {
    "collapsed": true
   },
   "outputs": [],
   "source": [
    "from bs4 import BeautifulSoup\n",
    "import requests\n",
    "import pandas as pd"
   ]
  },
  {
   "cell_type": "markdown",
   "metadata": {},
   "source": [
    "## Types and variables"
   ]
  },
  {
   "cell_type": "code",
   "execution_count": 7,
   "metadata": {
    "collapsed": false
   },
   "outputs": [
    {
     "name": "stdout",
     "output_type": "stream",
     "text": [
      "Hello, I'm Scott. It's a pleasure to meet you.\n"
     ]
    },
    {
     "data": {
      "text/plain": [
       "\"Hello, I'm Scott. It's a pleasure to meet you.\""
      ]
     },
     "execution_count": 7,
     "metadata": {},
     "output_type": "execute_result"
    }
   ],
   "source": [
    "# Strings\n",
    "greeting = \"Hello, I'm Scott. It's a pleasure to meet you.\"\n",
    "print(greeting)\n",
    "greeting"
   ]
  },
  {
   "cell_type": "code",
   "execution_count": 12,
   "metadata": {
    "collapsed": false
   },
   "outputs": [
    {
     "data": {
      "text/plain": [
       "'H'"
      ]
     },
     "execution_count": 12,
     "metadata": {},
     "output_type": "execute_result"
    }
   ],
   "source": [
    "# Find a letter by index\n",
    "greeting[0]"
   ]
  },
  {
   "cell_type": "code",
   "execution_count": 13,
   "metadata": {
    "collapsed": false
   },
   "outputs": [
    {
     "data": {
      "text/plain": [
       "46"
      ]
     },
     "execution_count": 13,
     "metadata": {},
     "output_type": "execute_result"
    }
   ],
   "source": [
    "# Get the length of a string\n",
    "len(greeting)"
   ]
  },
  {
   "cell_type": "code",
   "execution_count": 14,
   "metadata": {
    "collapsed": false
   },
   "outputs": [
    {
     "data": {
      "text/plain": [
       "8"
      ]
     },
     "execution_count": 14,
     "metadata": {},
     "output_type": "execute_result"
    }
   ],
   "source": [
    "# Count spaces in the string\n",
    "greeting.count(' ')"
   ]
  },
  {
   "cell_type": "code",
   "execution_count": 15,
   "metadata": {
    "collapsed": false
   },
   "outputs": [
    {
     "data": {
      "text/plain": [
       "'Hel'"
      ]
     },
     "execution_count": 15,
     "metadata": {},
     "output_type": "execute_result"
    }
   ],
   "source": [
    "# Slice to get the first 3 characters\n",
    "greeting[0:3]"
   ]
  },
  {
   "cell_type": "code",
   "execution_count": 16,
   "metadata": {
    "collapsed": false
   },
   "outputs": [
    {
     "data": {
      "text/plain": [
       "'ou.'"
      ]
     },
     "execution_count": 16,
     "metadata": {},
     "output_type": "execute_result"
    }
   ],
   "source": [
    "# Get the last three characters\n",
    "greeting[-3:]"
   ]
  },
  {
   "cell_type": "code",
   "execution_count": 17,
   "metadata": {
    "collapsed": false
   },
   "outputs": [
    {
     "data": {
      "text/plain": [
       "\"Goodbye, I'm Scott. It's a pleasure to meet you.\""
      ]
     },
     "execution_count": 17,
     "metadata": {},
     "output_type": "execute_result"
    }
   ],
   "source": [
    "# Replace hello with goodbye\n",
    "greeting.replace(\"Hello\", \"Goodbye\")"
   ]
  },
  {
   "cell_type": "code",
   "execution_count": 18,
   "metadata": {
    "collapsed": false
   },
   "outputs": [
    {
     "data": {
      "text/plain": [
       "'HelloWorld'"
      ]
     },
     "execution_count": 18,
     "metadata": {},
     "output_type": "execute_result"
    }
   ],
   "source": [
    "# String concatenation\n",
    "\"Hello\" + \"World\""
   ]
  },
  {
   "cell_type": "code",
   "execution_count": 11,
   "metadata": {
    "collapsed": false
   },
   "outputs": [
    {
     "name": "stdout",
     "output_type": "stream",
     "text": [
      "<class 'int'> <class 'float'>\n"
     ]
    }
   ],
   "source": [
    "# Numbers\n",
    "# Integer\n",
    "first_num = 10\n",
    "second_num = 5.467\n",
    "print(type(first_num), type(second_num))"
   ]
  },
  {
   "cell_type": "code",
   "execution_count": 19,
   "metadata": {
    "collapsed": false
   },
   "outputs": [
    {
     "data": {
      "text/plain": [
       "6"
      ]
     },
     "execution_count": 19,
     "metadata": {},
     "output_type": "execute_result"
    }
   ],
   "source": [
    "# Addition\n",
    "1 + 5"
   ]
  },
  {
   "cell_type": "code",
   "execution_count": 20,
   "metadata": {
    "collapsed": false
   },
   "outputs": [
    {
     "data": {
      "text/plain": [
       "5.0"
      ]
     },
     "execution_count": 20,
     "metadata": {},
     "output_type": "execute_result"
    }
   ],
   "source": [
    "# Division\n",
    "10 / 2"
   ]
  },
  {
   "cell_type": "code",
   "execution_count": 21,
   "metadata": {
    "collapsed": false
   },
   "outputs": [
    {
     "data": {
      "text/plain": [
       "10"
      ]
     },
     "execution_count": 21,
     "metadata": {},
     "output_type": "execute_result"
    }
   ],
   "source": [
    "# Multiplication\n",
    "5 * 2"
   ]
  },
  {
   "cell_type": "code",
   "execution_count": 22,
   "metadata": {
    "collapsed": false
   },
   "outputs": [
    {
     "data": {
      "text/plain": [
       "['coffee', 'tea', 'water']"
      ]
     },
     "execution_count": 22,
     "metadata": {},
     "output_type": "execute_result"
    }
   ],
   "source": [
    "# Lists\n",
    "drinks = ['coffee', 'tea', 'water']\n",
    "drinks"
   ]
  },
  {
   "cell_type": "code",
   "execution_count": 24,
   "metadata": {
    "collapsed": false
   },
   "outputs": [
    {
     "data": {
      "text/plain": [
       "[2, 'hello', 10.5, 'here is a sentence']"
      ]
     },
     "execution_count": 24,
     "metadata": {},
     "output_type": "execute_result"
    }
   ],
   "source": [
    "mixed = [2, 'hello', 10.5, 'here is a sentence']\n",
    "mixed"
   ]
  },
  {
   "cell_type": "code",
   "execution_count": 25,
   "metadata": {
    "collapsed": false
   },
   "outputs": [
    {
     "data": {
      "text/plain": [
       "'water'"
      ]
     },
     "execution_count": 25,
     "metadata": {},
     "output_type": "execute_result"
    }
   ],
   "source": [
    "# Get item by index\n",
    "drinks[2]"
   ]
  },
  {
   "cell_type": "code",
   "execution_count": 27,
   "metadata": {
    "collapsed": false
   },
   "outputs": [
    {
     "data": {
      "text/plain": [
       "['coffee', 'tea', 'water', 'juice']"
      ]
     },
     "execution_count": 27,
     "metadata": {},
     "output_type": "execute_result"
    }
   ],
   "source": [
    "# Add an item to the end of the list\n",
    "drinks.append('juice')\n",
    "drinks"
   ]
  },
  {
   "cell_type": "markdown",
   "metadata": {},
   "source": [
    "There are plenty of other data types that we aren't going to use today, such as: sets, dictionaries, tuples, and so forth. "
   ]
  },
  {
   "cell_type": "markdown",
   "metadata": {},
   "source": [
    "## Functions\n",
    "\n",
    "At the most basic level, functions are chunks of reusable code"
   ]
  },
  {
   "cell_type": "code",
   "execution_count": 28,
   "metadata": {
    "collapsed": false
   },
   "outputs": [
    {
     "data": {
      "text/plain": [
       "3"
      ]
     },
     "execution_count": 28,
     "metadata": {},
     "output_type": "execute_result"
    }
   ],
   "source": [
    "# Define a function\n",
    "def add(x, y):\n",
    "    return x + y\n",
    "add(1, 2)\n"
   ]
  },
  {
   "cell_type": "code",
   "execution_count": 34,
   "metadata": {
    "collapsed": false
   },
   "outputs": [
    {
     "data": {
      "text/plain": [
       "['hello', 2, '1', 10]"
      ]
     },
     "execution_count": 34,
     "metadata": {},
     "output_type": "execute_result"
    }
   ],
   "source": [
    "def combine_arrays(array1, array2):\n",
    "    new_list = array1 + array2\n",
    "    return new_list\n",
    "first = ['hello', 2]\n",
    "second = ['1', 10]\n",
    "new = combine_arrays(first, second)\n",
    "new"
   ]
  },
  {
   "cell_type": "markdown",
   "metadata": {},
   "source": [
    "## Control flow "
   ]
  },
  {
   "cell_type": "code",
   "execution_count": 47,
   "metadata": {
    "collapsed": false
   },
   "outputs": [
    {
     "name": "stdout",
     "output_type": "stream",
     "text": [
      "Who are you?\n"
     ]
    }
   ],
   "source": [
    "# IF\n",
    "name = \"Bob\"\n",
    "if name == \"Scott\":\n",
    "    print(\"Hi Scott!\")\n",
    "else:\n",
    "    print(\"Who are you?\")"
   ]
  },
  {
   "cell_type": "code",
   "execution_count": 39,
   "metadata": {
    "collapsed": false
   },
   "outputs": [
    {
     "name": "stdout",
     "output_type": "stream",
     "text": [
      "Who are you?\n"
     ]
    }
   ],
   "source": [
    "name = \"John\"\n",
    "def say_hello(name):\n",
    "    return \"Hello \" + name + \"!\"\n",
    "if (name == \"Bob\"):\n",
    "    message = say_hello(\"Bob\")\n",
    "    print(message)\n",
    "elif (name == \"Scott\"):\n",
    "    message = say_hello(\"Scott\")\n",
    "    print(message)\n",
    "else:\n",
    "    print(\"Who are you?\")"
   ]
  },
  {
   "cell_type": "code",
   "execution_count": 42,
   "metadata": {
    "collapsed": false
   },
   "outputs": [
    {
     "name": "stdout",
     "output_type": "stream",
     "text": [
      "Stu 3\n",
      "Scott 5\n",
      "Javier 6\n",
      "Ashley 6\n"
     ]
    }
   ],
   "source": [
    "# FOR\n",
    "names = [\"Stu\", \"Scott\", \"Javier\", \"Ashley\"]\n",
    "for name in names:\n",
    "    print(name, len(name))"
   ]
  },
  {
   "cell_type": "code",
   "execution_count": 44,
   "metadata": {
    "collapsed": false
   },
   "outputs": [
    {
     "name": "stdout",
     "output_type": "stream",
     "text": [
      "Javier\n"
     ]
    }
   ],
   "source": [
    "for name in names[:3]:\n",
    "    if len(name) > 5:\n",
    "        print(name)"
   ]
  },
  {
   "cell_type": "code",
   "execution_count": 48,
   "metadata": {
    "collapsed": false
   },
   "outputs": [
    {
     "data": {
      "text/plain": [
       "[2, 3, 4, 5]"
      ]
     },
     "execution_count": 48,
     "metadata": {},
     "output_type": "execute_result"
    }
   ],
   "source": [
    "def add_one(num):\n",
    "    return num + 1\n",
    "nums = [1, 2, 3, 4]\n",
    "plus = []\n",
    "for num in nums:\n",
    "    plus.append(add_one(num))\n",
    "plus"
   ]
  },
  {
   "cell_type": "code",
   "execution_count": 49,
   "metadata": {
    "collapsed": false
   },
   "outputs": [
    {
     "data": {
      "text/plain": [
       "[2, 3, 4, 5]"
      ]
     },
     "execution_count": 49,
     "metadata": {},
     "output_type": "execute_result"
    }
   ],
   "source": [
    "# ADVANCED: List Comprehensions\n",
    "added = [add_one(num) for num in nums]\n",
    "added"
   ]
  },
  {
   "cell_type": "code",
   "execution_count": 51,
   "metadata": {
    "collapsed": false
   },
   "outputs": [
    {
     "data": {
      "text/plain": [
       "['Javier']"
      ]
     },
     "execution_count": 51,
     "metadata": {},
     "output_type": "execute_result"
    }
   ],
   "source": [
    "long_names = [name for name in names[:3] if len(name) > 5]\n",
    "long_names"
   ]
  },
  {
   "cell_type": "code",
   "execution_count": 46,
   "metadata": {
    "collapsed": false
   },
   "outputs": [],
   "source": [
    "url = \"https://en.wikipedia.org/wiki/Stanford_University\"\n",
    "page = requests.get(url)\n",
    "soup = BeautifulSoup(page.text, \"lxml\")\n"
   ]
  },
  {
   "cell_type": "code",
   "execution_count": 8,
   "metadata": {
    "collapsed": false
   },
   "outputs": [
    {
     "data": {
      "text/plain": [
       "<div class=\"hatnote\" role=\"note\">\"Stanford\" redirects here. For other uses, see <a class=\"mw-disambig\" href=\"/wiki/Stanford_(disambiguation)\" title=\"Stanford (disambiguation)\">Stanford (disambiguation)</a>.</div>"
      ]
     },
     "execution_count": 8,
     "metadata": {},
     "output_type": "execute_result"
    }
   ],
   "source": [
    "hatnote = soup.find('div', {'class': 'hatnote'})\n",
    "hatnote"
   ]
  },
  {
   "cell_type": "code",
   "execution_count": 9,
   "metadata": {
    "collapsed": false
   },
   "outputs": [
    {
     "data": {
      "text/plain": [
       "'\"Stanford\" redirects here. For other uses, see Stanford (disambiguation).'"
      ]
     },
     "execution_count": 9,
     "metadata": {},
     "output_type": "execute_result"
    }
   ],
   "source": [
    "hat_text = hatnote.get_text()\n",
    "hat_text"
   ]
  },
  {
   "cell_type": "code",
   "execution_count": 10,
   "metadata": {
    "collapsed": false
   },
   "outputs": [
    {
     "data": {
      "text/plain": [
       "bs4.element.ResultSet"
      ]
     },
     "execution_count": 10,
     "metadata": {},
     "output_type": "execute_result"
    }
   ],
   "source": [
    "paragraphs = soup.find_all('p')\n",
    "type(paragraphs)"
   ]
  },
  {
   "cell_type": "code",
   "execution_count": 12,
   "metadata": {
    "collapsed": false
   },
   "outputs": [
    {
     "name": "stdout",
     "output_type": "stream",
     "text": [
      "Stanford University, officially Leland Stanford Junior University,[8] is a private research university in Stanford, California, adjacent to Palo Alto and between San Jose and San Francisco. Its 8,180-acre (12.8 sq mi; 33.1 km2)[9] campus is one of the largest in the United States.[note 1] Stanford also has land and facilities elsewhere.[7][9]\n",
      "The university was founded in 1885 by Leland and Jane Stanford in memory of their only child, Leland Stanford Jr., who had died of typhoid fever at age 15 the previous year. Stanford was a former Governor of California and U.S. Senator; he made his fortune as a railroad tycoon. The school admitted its first students 125 years ago on October 1, 1891,[2][3] as a coeducational and non-denominational institution.\n",
      "Stanford University struggled financially after Leland Stanford's death in 1893 and again after much of the campus was damaged by the 1906 San Francisco earthquake.[12] Following World War II, Provost Frederick Terman supported faculty and graduates' entrepreneurialism to build self-sufficient local industry in what would later be known as Silicon Valley.[13] The rise of Silicon Valley helped Stanford become one of the world's most prestigious universities.[note 2] The university is also one of the top fundraising institutions in the country, becoming the first school to raise more than a billion dollars in a year.[23]\n",
      "There are three academic schools that have both undergraduate and graduate students and another four professional schools. Students compete in 36 varsity sports, and the university is one of two private institutions in the Division I FBS Pac-12 Conference. It has gained 111 NCAA team championships,[24] the second-most for a university, 483 individual championships, the most in Division I,[25] and has won the NACDA Directors' Cup, recognizing the university with the best overall athletic team achievement, for 22 consecutive years, beginning in 1994–1995.[26]\n",
      "Stanford faculty and alumni have founded a large number of companies that produce more than $2.7 trillion in annual revenue, equivalent to the 10th-largest economy in the world.[27] It is the alma mater of 30 living billionaires, 17 astronauts, and 20 Turing Award laureates.[note 3] It is also one of the leading producers of members of the United States Congress.[48][49] Sixty Nobel laureates and seven Fields Medalists have been affiliated with Stanford as students, alumni, faculty or staff.[50]\n",
      "\n",
      "\n",
      "Stanford University was founded in 1885 by Leland and Jane Stanford, dedicated to Leland Stanford Jr, their only child. The institution opened in 1891 on Stanford's previous Palo Alto farm. Despite being impacted by earthquakes in both 1906 and 1989, the campus was rebuilt each time. In 1919, The Hoover Institution on War, Revolution and Peace was started by Herbert Hoover to preserve artifacts related to World War I. The Stanford Medical Center, completed in 1959, is a teaching hospital with over 800 beds. The SLAC National Accelerator Laboratory (originally named the Stanford Linear Accelerator Center), which was established in 1962, performs research in particle physics.[51]\n",
      "Most of Stanford University is on an 8,180-acre (12.8 sq mi; 33.1 km2)[9] campus on the San Francisco Peninsula, in the northwest part of the Santa Clara Valley (Silicon Valley) approximately 37 miles (60 km) southeast of San Francisco and approximately 20 miles (30 km) northwest of San Jose; this is the founding grant. In 2008, 60% of this land remained undeveloped.[52] Besides the central campus described below, the university also operates at several more remote locations, some elsewhere on the main campus, some further afield (see below).\n",
      "Stanford's main campus includes a census-designated place within unincorporated Santa Clara County, although some of the university land (such as the Stanford Shopping Center and the Stanford Research Park) is within the city limits of Palo Alto. The campus also includes much land in unincorporated San Mateo County (including the SLAC National Accelerator Laboratory and the Jasper Ridge Biological Preserve), as well as in the city limits of Menlo Park (Stanford Hills neighborhood), Woodside, and Portola Valley.[53]\n",
      "The academic central campus is adjacent to Palo Alto, bounded by El Camino Real, Stanford Avenue, Junipero Serra Boulevard, and Sand Hill Road. The United States Postal Service has assigned it two ZIP codes: 94305 for campus mail and 94309 for P.O. box mail. It lies within area code 650.\n",
      "Stanford currently operates or intends to operate in various locations outside of its central campus.\n",
      "On the founding grant:\n",
      "Off the founding grant:\n",
      "Locations in development:\n",
      "Many Stanford faculty members live in the \"Faculty Ghetto\", within walking or biking distance of campus.[62] The Faculty Ghetto is composed of land owned entirely by Stanford. Similar to a condominium, the houses can be bought and sold but the land under the houses is rented on a 99-year lease. Houses in the \"Ghetto\" appreciate and depreciate, but not as rapidly as overall Silicon Valley values. However, it remains an expensive area in which to own property, and the average price of single-family homes on campus is actually higher than in Palo Alto.[citation needed]\n",
      "Some of the land is managed to provide revenue for the university such as the Stanford Shopping Center and the Stanford Research Park. Stanford land is also leased for a token rent by the Palo Alto Unified School District for several schools including Palo Alto High School and Gunn High School.[63] El Camino Park, the oldest Palo Alto city park (established 1914), is also on Stanford land.[64]\n",
      "Contemporary campus landmarks include the Main Quad and Memorial Church, the Cantor Center for Visual Arts and art gallery, the Stanford Mausoleum and the Angel of Grief, Hoover Tower, the Rodin sculpture garden, the Papua New Guinea Sculpture Garden, the Arizona Cactus Garden, the Stanford University Arboretum, Green Library and the Dish. Frank Lloyd Wright's 1937 Hanna–Honeycomb House and the 1919 Lou Henry Hoover House are both listed on the National Historic Register. The Claw (officially White Memorial Fountain) between the Stanford Bookstore and the Old Union is a popular place to meet and to engage in the Stanford custom of “fountain hopping”; it was installed in 1964 and designed by Aristides Demetrios after a national competition as a memorial for two brothers in the class of 1949, William N. White and John B. White II, one of whom died before graduating and one shortly after in 1952.[65][66][67][68]\n",
      "Stanford University is a tax-exempt corporate trust governed by a privately appointed Board of Trustees with a maximum membership of 38.[6][note 4] Trustees serve five-year terms (not more than two consecutive terms) and meet five times annually.[70] A new trustee is chosen by the current trustees by ballot.[69] The Stanford trustees also oversee the Stanford Research Park, the Stanford Shopping Center, the Cantor Center for Visual Arts, Stanford University Medical Center, and many associated medical facilities (including the Lucile Packard Children's Hospital).[71]\n",
      "The Board appoints a President to serve as the chief executive officer of the university and prescribe the duties of professors and course of study, manage financial and business affairs, and appoint nine vice presidents.[72] The Provost is the chief academic and budget officer, to whom the deans of each of the seven schools report.[73] John Etchemendy was named the 12th Provost in September 2000.[74]\n",
      "As of 2013 the university was organized into seven academic schools.[75] The schools of Humanities and Sciences (27 departments), Engineering (9 departments), and Earth, Energy & Environmental Sciences (4 departments) have both graduate and undergraduate programs while the Schools of Law, Medicine, Education and Business have graduate programs only. The powers and authority of the faculty are vested in the Academic Council, which is made up of tenure and non-tenure line faculty, research faculty, senior fellows in some policy centers and institutes, the president of the university, and some other academic administrators, but most matters are handled by the Faculty Senate, made up of 55 elected representatives of the faculty.[76]\n",
      "The Associated Students of Stanford University (ASSU) is the student government for Stanford University and all registered students are members. Its elected leadership consists of the Undergraduate Senate elected by the undergraduate students, the Graduate Student Council elected by the graduate students, and the President and Vice President elected as a ticket by the entire student body.[77]\n",
      "Stanford is the beneficiary of a special clause in the California Constitution, which explicitly exempts Stanford property from taxation so long as the property is used for educational purposes.[78]\n",
      "The university's endowment, managed by the Stanford Management Company, was valued at $22.2 billion in August 2015, 3.6% over the previous year.[79][80] The endowment fell 25% in 2009 as a result of the late-2000s recession, but posted gains of 14.4% in 2010 and 22.4% in 2011, when it was valued at $16.5 billion.[81]\n",
      "Stanford has been the top fundraising university in the United States for several years. It raised $911 million in 2006,[82] $832 million in 2007,[83] $785 million in 2008,[84] $640 million in 2009,[85] $599 million in 2010,[86] $709 million in 2011,[87] and $1.035 billion in 2012, becoming the first school to raise more than a billion dollars in a year.[23] In 2013 and 2014 it raised $932 million and $928 million.[87] Payouts from the Stanford endowment covered approximately 23% of University expenses in the 2014 fiscal year, compared to Princeton at 55% and Harvard at 35%.[88]\n",
      "In 2006, President John L. Hennessy launched a five-year campaign called the Stanford Challenge, which reached its $4.3 billion fundraising goal in 2009, two years ahead of time, but continued fundraising for the duration of the campaign. It concluded on December 31, 2011, having raised a total of $6.23 billion and breaking the previous campaign fundraising record of $3.88 billion held by Yale.[89][90] Specifically, the campaign raised $253.7 million for undergraduate financial aid, as well as $2.33 billion for its initiative in \"Seeking Solutions\" to global problems, $1.61 billion for \"Educating Leaders\" by improving K-12 education, and $2.11 billion for \"Foundation of Excellence\" aimed at providing academic support for Stanford students and faculty. Funds supported 366 new fellowships for graduate students, 139 new endowed chairs for faculty, and 38 new or renovated buildings. The new funding also enabled the construction of a facility for stem cell research; a new campus for the business school; an expansion of the law school; a new Engineering Quad; a new art and art history building; an on-campus concert hall; a new art museum; and a planned expansion of the medical school, among other things.[91][92]\n",
      "Stanford follows a quarter system with Autumn quarter usually starting in late September and Spring Quarter ending in early June.[93] The full-time, four-year undergraduate program has an arts and sciences focus with high graduate student coexistence.[93] Stanford is accredited by the Western Association of Schools and Colleges.[94]\n",
      "Full-time undergraduate tuition was $42,690 for 2013–2014.[95] Stanford's admission process is need-blind for US citizens and permanent residents; while it is not need-blind for international students, 64% are on need-based aid, with an average aid package of $31,411.[95] In 2012–13, the university awarded $126 million in need-based financial aid to 3,485 students, with an average aid package of $40,460.[95] Eighty percent of students receive some form of financial aid.[95] Stanford has a no-loan policy.[95] For undergraduates admitted in 2015, Stanford waives tuition, room, and board for most families with incomes below $65,000, and most families with incomes below $125,000 are not required to pay tuition; those with incomes up to $150,000 may have tuition significantly reduced.[96] 17% of students receive Pell Grants,[95] a common measure of low-income students at a college.\n",
      "As of 2016 the Office of the Vice Provost and Dean of Research oversaw eighteen independent laboratories, centers, and institutes.[97]\n",
      "Other Stanford-affiliated institutions include the SLAC National Accelerator Laboratory (originally the Stanford Linear Accelerator Center), the Stanford Research Institute (an independent institution which originated at the university), the Hoover Institution on War, Revolution and Peace (a major public policy think tank that attracts visiting scholars from around the world), and the Hasso Plattner Institute of Design (a multidisciplinary design school in cooperation with the Hasso Plattner Institute of University of Potsdam that integrates product design, engineering, and business management education).[citation needed]\n",
      "Stanford is home to the Martin Luther King Jr. Research and Education Institute which grew out of and still contains the Martin Luther King Jr. Papers Project, a collaboration with the King Center to publish the King papers held by the King Center.[98] It also runs the John S. Knight Fellowship for Professional Journalists and the Center for Ocean Solutions, which brings together marine science and policy to address challenges facing the ocean.[99]\n",
      "As of 2014 Stanford University Libraries (SUL) held a collection of more than 9.3 million volumes, nearly 300,000 rare or special books, 1.5 million e-books, 2.5 million audiovisual materials, 77,000 serials, nearly 6 million microform holdings, and thousands of other digital resources.[100]\n",
      "The main library in the SU library system is Green Library, which also contains various meeting and conference rooms, study spaces, and reading rooms. Lathrop Library (previously Meyer Library, demolished in 2015), holds various student-accessible media resources and houses one of the largest East Asia collections with 540,000 volumes.\n",
      "Stanford University is home to the Cantor Center for Visual Arts museum with 24 galleries, sculpture gardens, terraces, and a courtyard first established in 1891 by Jane and Leland Stanford as a memorial to their only child. The Center's collection of works by Rodin is among the largest in the world[101] The Thomas Welton Stanford Gallery, built in 1917, serves as a teaching resource for the Department of Art & Art History as well as an exhibition venue. There are outdoor art installations throughout the campus, primarily sculptures, but some murals as well. The Papua New Guinea Sculpture Garden near Roble Hall features includes wood carvings and \"totem poles.\"\n",
      "The Stanford music department sponsors many ensembles including five choirs, the Stanford Symphony Orchestra, Stanford Taiko, and the Stanford Wind Ensemble. Extracurricular activities include theater groups such as Ram's Head Theatrical Society, the Stanford Improvisors,[102] the Stanford Shakespeare Society, and the Stanford Savoyards, a group dedicated to performing the works of Gilbert and Sullivan. There are award-winning a cappella music groups including the Mendicants,[103] Counterpoint,[104] the Stanford Fleet Street Singers,[105] Harmonics, Mixed Company,[106] Testimony, Talisman, Everyday People, and Raagapella.[107]\n",
      "The creative writing program brings young writers to campus via the Stegner Fellowships and other graduate scholarship programs. Knight Journalism Fellows are invited to spend a year at the campus taking seminars and courses of their choice. The Stanford Spoken Word Collective, an extracurricular writing and performance group, also serves as the school's poetry slam team.[108]\n",
      "Stanford also hosts various publishing courses for professionals. The Stanford Professional Publishing Course, which was offered on campus since the late 1970s, brought together international publishing professionals to discuss changing business models in magazine and book publishing. It ended in 2009, although the tradition has continued at Yale with the Yale Publishing Course that began in 2010. Videos from the Stanford Professional Publishing Courses were available on their website as of 2014.[109]\n",
      "Notably, Stanford occupies the number one position in numerous domestic college ranking measures, leading Slate to dub Stanford in 2014 as \"the Harvard of the 21st century,\"[118] and The New York Times in the same year to conclude that \"Stanford University has become America’s 'it' school, by measures that Harvard once dominated.\"[119] From polls done by The Princeton Review in 2013, 2014, 2015, and 2016, the most commonly named \"dream college\" for students was Stanford; separately, parents, too, most frequently named Stanford as their \"dream college.\"[120] A 2003 Gallup poll had Stanford tied for second as the most prestigious university in the eyes of the general public.[121] The inaugural 2017 Wall Street Journal/Times Higher Education College Rankings picked Stanford as the No. 1 school in the United States.[122][123]\n",
      "Globally, the Times Higher Education (THE) World Reputation Rankings placed it third in the world in 2016,[124] while the Academic Ranking of World Universities (ARWU) ranked Stanford second most of the time from 2003 to 2016.[125]\n",
      "Stanford is one of the most successful universities in creating companies and licensing its inventions to existing companies; it is often held up as a model for technology transfer.[135][136]\n",
      "Stanford's Office of Technology Licensing is responsible for commercializing developments and has been run by Katherine Ku since 1991. She took over from Niels Reimers who had been with the office for 23 years.[137][138]\n",
      "Stanford faculty and alumni have founded many companies including Google, Hewlett-Packard, Nike, Instagram, Snapchat, LinkedIn, and Yahoo!, and companies founded by Stanford alumni generate more than $2.7 trillion in annual revenue, equivalent to the 10th-largest economy in the world.[27]\n",
      "Developments include:\n",
      "[151]\n",
      "Stanford enrolled 7,061 undergraduate[95] and 11,075 graduate students[95] as of October 2013, and women comprised 47% of undergraduates and 41% of professional and graduate students.[95] In the same academic year, the freshman retention rate was 99%.\n",
      "Stanford awarded 1,715 undergraduate degrees, 2,278 Master's degrees, 764 doctoral degrees, and 366 professional degrees in the 2011–2012 school year.[95] The four-year graduation rate in the class of 2011 was 76%, and the six-year rate was 96%.[95] The relatively low four-year graduation rate is a function of the university's coterminal degree (or \"coterm\") program, which allows students to earn a master's degree as an extension of their undergraduate program.[154]\n",
      "As of 2010, fifteen percent of undergraduates were first-generation students.[155]\n",
      "As of 2013, 89% of undergraduate students lived in on-campus university housing. First-year undergraduates are required to live on campus, and all undergraduates are guaranteed housing for all four undergraduate years.[95][156] Undergraduates live in 80 different houses, including dormitories, co-ops, row houses, and fraternities and sororities.[157] At Manzanita Park, 118 mobile homes were installed as \"temporary\" housing from 1969 to 1991, but as of 2015 was the site of newer dorms Castano, Kimball, Lantana, and the Humanities House, completed in 2015.[158][159] Most student residences are just outside the campus core, within ten minutes (on foot or bike) of most classrooms and libraries. Some are reserved for freshman, sophomores, or upperclass students and some are open to all four classes. Most residences are co-ed; seven are all-male fraternities, three are all-female sororities, and there is also one all-female non-sorority house, Roth House. In most residences, men and women live on the same floor, but a few dorms are configured for men and women to live on separate floors (single-gender floors), including all Wilbur dorms except for Arroyo and Okada.[160]\n",
      "Several residences are considered theme houses. The Academic, Language and Culture Houses include EAST (Education And Society Themed House), Hammarskjöld (International Themed House), Haus Mitteleuropa (Central European Themed House), La Casa Italiana (Italian Language and Culture), La Maison Française (French Language and Culture House), Slavianskii Dom (Slavic/East European Themed House), Storey (Human Biology Themed House), and Yost (Spanish Language and Culture). Cross-Cultural Themed Houses include Casa Zapata (Chicano/Latino Theme in Stern Hall), Muwekma-tah-ruk (American Indian/Alaska Native, and Native Hawaiian Themed House), Okada (Asian-American Themed House in Wilbur Hall), and Ujamaa (Black/African-American Themed House in Lagunita Court). Focus Houses include Freshman-Sophomore College (Academic Focus), Branner Hall (Community Service), Kimball (Arts & Performing Arts), Crothers (Global Citizenship), and Toyon (Sophomore Priority).[157] Theme houses predating the current \"theme\" classification system are Columbae (Social Change Through Nonviolence, since 1970),[161] and Synergy (Exploring Alternatives, since 1972).[162]\n",
      "Co-ops or \"Self-Ops\" are another housing option. These houses feature cooperative living, where residents and eating associates each contribute work to keep the house running, such as cooking meals or cleaning shared spaces. These houses have unique themes around which their community is centered. Many co-ops are hubs of music, art and philosophy. The co-ops on campus are 576 Alvarado Row (formerly Chi Theta Chi), Columbae, Enchanted Broccoli Forest (EBF), Hammarskjöld, Kairos, Terra (the unofficial LGBT house),[163] and Synergy.[164] Phi Sigma, at 1018 Campus Drive was formerly Phi Sigma Kappa fraternity, but in 1973 became a Self-Op.[165]\n",
      "As of 2015 around 55 percent of the graduate student population lived on campus.[166] First-year graduate students are guaranteed on-campus housing. Stanford also subsidizes off-campus apartments in nearby Palo Alto, Menlo Park, and Mountain View for graduate students who are guaranteed on-campus housing but are unable to live on campus due to a lack of space.[167]\n",
      "As of 2016 Stanford had 16 male varsity sports and 20 female varsity sports,[168] 19 club sports[169] and about 27 intramural sports[170] In 1930, following a unanimous vote by the Executive Committee for the Associated Students, the athletic department adopted the mascot \"Indian.\" The Indian symbol and name were later dropped by President Richard Lyman in 1972, after objections from Native American students and a vote by the student senate.[171] The sports teams are now officially referred to as the \"Stanford Cardinal\", referring to the deep red color, not the cardinal bird. Stanford is a member of the Pac-12 Conference in most sports, the Mountain Pacific Sports Federation in several other sports, and the America East Conference in field hockey[172] with the participation in the inter-collegiate NCAA's Division I FBS.\n",
      "Its traditional sports rival is Berkeley, the neighbor to the north in the East Bay. The winner of the annual \"Big Game\" between the Cal and Cardinal football teams gains custody of the Stanford Axe.[173]\n",
      "Stanford has had at least one NCAA team champion every year since the 1976–77 school year[174] and has earned 111 NCAA national team titles since its establishment, second most, and only 2 fewer than the four times larger enrollment UCLA Bruins, and Stanford has won 483 individual national championships, the most by any university.[24] Stanford has won the award for the top-ranked collegiate athletic program — the NACDA Directors' Cup, formerly known as the Sears Cup – annually for the past twenty-two straight years.[175][176][177] Stanford athletes have won medals in every Olympic Games since 1912, winning 270 Olympic medals total, 139 of them gold.[178] In the 2008 Summer Olympics, and 2016 Summer Olympics, Stanford won more Olympic medals than any other university in the United States.[179][180] Stanford athletes won 16 medals at the 2012 Summer Games (12 gold, 2 silver and 2 bronze), and 27 medals at the 2016 Summer Games.[181]\n",
      "Students and staff at Stanford are of many different religions. The Stanford Office for Religious Life's mission is \"to guide, nurture and enhance spiritual, religious and ethical life within the Stanford University community\" by promoting enriching dialogue, meaningful ritual, and enduring friendships among people of all religious backgrounds. It is headed by a dean with the assistance of a senior associate dean and an associate dean. Stanford Memorial Church, in the center of campus, has a Sunday University Public Worship service (UPW) usually in the \"Protestant Ecumenical Christian\" tradition where the Memorial Church Choir sings and a sermon is preached usually by one of the Stanford deans for Religious Life. UPW sometimes has multifaith services.[194] In addition the church is used by the Catholic community and by some of the other Christian denominations at Stanford. Weddings happen most Saturdays and the university has for over 20 years allowed blessings of same-gender relationships and now legal weddings.\n",
      "In addition to the church, the Office for Religious Life has a Center for Inter-Religious Community, Learning and Experiences (CIRCLE) on the third floor of Old Union. It offers a common room, an interfaith sanctuary, a seminar room, a student lounge area and a reading room, as well as offices housing a number of Stanford Associated Religions (SAR) member groups and the Senior Associate Dean and Associate Dean for Religious Life. Most though not all religious student groups belong to SAR. The SAR directory includes organizations that serve atheist, Baha'i, Buddhist, Christian, Hindu, Islam, Jewish, and Sikh groups, though these groups vary year by year.[195]\n",
      "The Windhover Contemplation Center was dedicated in October 2014, and was intended to provide spiritual sanctuary for students and staff in the midst of their course and work schedules; the center displays the \"Windhover\" paintings by Nathan Olivera, the late Stanford professor and artist.[196]\n",
      "Some religions have a larger and more formal presence on campus in addition to the student groups; these include the Catholic Community at Stanford[197] and Hillel at Stanford.[198]\n",
      "Fraternities and sororities have been active on the Stanford campus since 1891, when the university first opened. In 1944, University President Donald Tresidder banned all Stanford sororities due to extreme competition.[199] However, following Title IX, the Board of Trustees lifted the 33-year ban on sororities in 1977.[200] Students are not permitted to join a fraternity or sorority until Spring quarter of their freshman year.[201]\n",
      "As of 2016 Stanford had 31 Greek organizations, including 14 sororities and 16 fraternities. Nine of the Greek organizations are housed (eight in University owned houses and one, Sigma Chi, in their own house [though the land is the University][202]). Six chapters were members of the African American Fraternal and Sororal Association, 11 chapters were members of the Interfraternity Council, 7 chapters belonged to the Intersorority Council, and 6 chapters belonged to the Multicultural Greek Council.[203]\n",
      "As of 2014 Stanford had 650 student organizations.[205] Groups are often, though not always, partially funded by the University via allocations directed by the student government organization, the ASSU. These funds include \"special fees\", which are decided by a Spring Quarter vote by the student body. Groups span from Athletic/Recreational (see section on Athletics), Careers/Pre-professional, Community Service, Ethnic/Cultural, Fraternities/Sororities, Health/Counseling, Media/Publications, Music/Dance/Creative Arts (see section on Arts), Political/Social Awareness to Religious/Philosophical.\n",
      "The Stanford Daily is the daily newspaper and has been published since the University was founded in 1892.[206] The Stanford Review is a conservative student newspaper founded in 1987.[207] The student-run radio station, KZSU Stanford 90.1 FM, features freeform music programming, sports commentary, and news segments; it started in 1947 as an AM radio station.[208]\n",
      "Students run SUpost.com, an online marketplace for Stanford students and alumni, in partnership with Stanford Student Enterprises (SSE) and the Stanford Pre-Business Association.[209] The latter is intended to build connections among industry, alumni, and student communities. Stanford Marketing is a student group that provides students hands on training through research and strategy consulting projects with Fortune 500 clients, as well as workshops led by people from industry and professors in the Stanford Graduate School of Business.[210][211] Stanford Finance provides mentoring and internships for students who want to enter a career in finance. The Business Association of Stanford Entrepreneurial Students (BASES), is one of the largest professional organizations in Silicon Valley, with over 5,000 members. Its goal is to support the next generation of entrepreneurs. Stanford Women In Business (SWIB) is an on-campus business organization consisting of over a board of 40 and 100 active members. Each year, SWIB organizes over 25 events and workshops, hosts a winter and spring conference, and provides mentorship and spring quarter internships. StartX is a non-profit startup accelerator for student and faculty-led startups[212] that over 12% of the study body has applied to. It is staffed primarily by students.\n",
      "Other groups include:\n",
      "Stanford's Department of Public Safety is responsible for law enforcement and safety on the main campus. Its deputy sheriffs are peace officers by arrangement with the Santa Clara County Sheriff's Office.[221] The department is also responsible for publishing an annual crime report covering the previous three years as required by the Clery Act.[222] Fire protection has been provided by contract with the Palo Alto Fire Department since 1976.[223]\n",
      "Murder is rare on the campus though a few of the cases have been notorious including Theodore Streleski's murder of his professor in 1978 and the unsolved 1974 murder of Arlis Perry in Stanford Memorial Church.[224]\n",
      "In Stanford University's 2015 Campus Climate Survey, 4.7 percent of female undergraduates reported experiencing sexual assault as defined by the university and 32.9 percent reported experiencing sexual misconduct.[225] According to the survey, 85% of perpetrators of misconduct were Stanford students and 80% were men.[225] Perpetrators of sexual misconduct were frequently aided by alcohol or drugs, according to the survey: \"Nearly three-fourths of the students whose responses were categorized as sexual assault indicated that the act was accomplished by a person or person taking advantage of them when they were drunk or high, according to the survey. Close to 70 percent of students who reported an experience of sexual misconduct involving nonconsensual penetration and/or oral sex indicated the same.\"[225] Associated Students of Stanford University and student and alumni activists with the anti-rape group Stand with Leah criticized the survey methodology for downgrading incidents involving alcohol if students did not check two separate boxes indicating they were both intoxicated and incapacity while sexually assaulted.[225] Reporting on the Brock Turner rape case, a reporter from The Washington Post analyzed campus rape reports submitted by universities to the U.S. Department of Education, and found that Stanford was one of the top ten universities in campus rapes in 2014, with 26 reported that year, but when analyzed by rapes per 1000 students, Stanford was not among the top ten.[226]\n",
      "Early in the morning of January 18, 2015, a woman visiting campus to attend a party at the Kappa Alpha fraternity was raped by Brock Turner, a freshman who had a swimming scholarship. The rape was interrupted by two Swedish graduate students.[227] Stanford immediately referred the case to prosecutors and offered the woman counseling, and within two weeks had barred Turner from campus after conducting an investigation.[228] Turner was convicted on three felony charges in March 2016 and in June 2016 he received a jail sentence of six months and was declared a sex offender, requiring him to register as such for the rest of his life; prosecutors had sought a six-year prison sentence out of the maximum 14 years that was possible.[229] The case and the relatively lenient sentence drew nationwide attention.[230] The judge in the case, a Stanford graduate, faced a recall effort in the aftermath.[227]\n",
      "In February 2015, Elise Clougherty filed a sexual assault and harassment lawsuit against venture capitalist Joe Lonsdale.[231][232] Lonsdale and Clougherty entered into a relationship in the spring of 2012 when she was a junior and he was her mentor in a Stanford entrepreneurship course.[232] By the spring of 2013 Clougherty had broken off the relationship and filed charges at Stanford that Lonsdale had broken the Stanford policy against consensual relationships between students and faculty and that he had sexually assaulted and harassed her, which resulted in Lonsdale being banned from Stanford for 10 years.[232] Lonsdale challenged Stanford's finding that he had had sexually assaulted and harassed her and Stanford rescinded that finding and the campus ban in the fall of 2015.[233] Clougherty withdrew her suit that fall as well.[234]\n",
      "As of late 2014, Stanford had 2,118 tenure-line faculty, senior fellows, center fellows, and medical center faculty.[5]\n",
      "Stanford's current community of scholars includes:\n",
      "Stanford's faculty and former faculty includes 31 Nobel laureates,[5] as well as 19 recipients (22 if visiting professors and consulting professors included) of the Turing Award, the so-called \"Nobel Prize in computer science\", comprising one third of the awards given in its 44-year history. The university has 27 ACM fellows. It is also affiliated with 4 Gödel Prize winners, 4 Knuth Prize recipients, 10 IJCAI Computers and Thought Award winners, and about 15 Grace Murray Hopper Award winners for their work in the foundations of computer science. Stanford alumni have started many companies and, according to Forbes, has produced the second highest number of billionaires of all universities.[239][240][241]\n",
      "Eight Stanford alumni have won the Nobel Prize.[242][243] As of 2014, 114 Stanford students have been named Rhodes Scholars.[244]\n",
      "Coordinates: 37°26′N 122°10′W﻿ / ﻿37.43°N 122.17°W﻿ / 37.43; -122.17\n"
     ]
    }
   ],
   "source": [
    "for para in paragraphs:\n",
    "    print(para.get_text())\n",
    "    "
   ]
  },
  {
   "cell_type": "code",
   "execution_count": null,
   "metadata": {
    "collapsed": true
   },
   "outputs": [],
   "source": []
  }
 ],
 "metadata": {
  "anaconda-cloud": {},
  "kernelspec": {
   "display_name": "Python [default]",
   "language": "python",
   "name": "python3"
  },
  "language_info": {
   "codemirror_mode": {
    "name": "ipython",
    "version": 3
   },
   "file_extension": ".py",
   "mimetype": "text/x-python",
   "name": "python",
   "nbconvert_exporter": "python",
   "pygments_lexer": "ipython3",
   "version": "3.5.2"
  }
 },
 "nbformat": 4,
 "nbformat_minor": 1
}
