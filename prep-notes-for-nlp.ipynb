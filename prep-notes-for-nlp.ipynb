{
 "cells": [
  {
   "cell_type": "markdown",
   "metadata": {},
   "source": [
    "# Intro to Natural Language Processing with Python\n",
    "\n",
    "### What are we covering today?\n",
    "- What is NLP?\n",
    "- Options for NLP in Python\n",
    "- Word tokenization\n",
    "- Sentence tokenization\n",
    "- Noun phrase extraction\n",
    "- Part of Speech Tagging\n",
    "- Find all nouns\n",
    "- Word transformations (lemmatization, pluralization)\n",
    "- Look for sentences of particular lengths\n",
    "- Sentiment Analysis\n",
    "\n",
    "\n",
    "TODO: What is NLP"
   ]
  },
  {
   "cell_type": "code",
   "execution_count": 1,
   "metadata": {
    "collapsed": false
   },
   "outputs": [
    {
     "name": "stdout",
     "output_type": "stream",
     "text": [
      "showing info https://raw.githubusercontent.com/nltk/nltk_data/gh-pages/index.xml\n"
     ]
    },
    {
     "data": {
      "text/plain": [
       "True"
      ]
     },
     "execution_count": 1,
     "metadata": {},
     "output_type": "execute_result"
    }
   ],
   "source": [
    "from textblob import TextBlob\n",
    "import nltk"
   ]
  },
  {
   "cell_type": "code",
   "execution_count": 2,
   "metadata": {
    "collapsed": true
   },
   "outputs": [],
   "source": [
    "text = \"Natural language processing with Python is so much fun!\"\n",
    "blob = TextBlob(text)"
   ]
  },
  {
   "cell_type": "code",
   "execution_count": 3,
   "metadata": {
    "collapsed": false
   },
   "outputs": [
    {
     "data": {
      "text/plain": [
       "WordList(['Natural', 'language', 'processing', 'with', 'Python', 'is', 'so', 'much', 'fun'])"
      ]
     },
     "execution_count": 3,
     "metadata": {},
     "output_type": "execute_result"
    }
   ],
   "source": [
    "blob.words"
   ]
  },
  {
   "cell_type": "code",
   "execution_count": 4,
   "metadata": {
    "collapsed": false
   },
   "outputs": [
    {
     "data": {
      "text/plain": [
       "[('Natural', 'JJ'),\n",
       " ('language', 'NN'),\n",
       " ('processing', 'NN'),\n",
       " ('with', 'IN'),\n",
       " ('Python', 'NNP'),\n",
       " ('is', 'VBZ'),\n",
       " ('so', 'RB'),\n",
       " ('much', 'JJ'),\n",
       " ('fun', 'NN')]"
      ]
     },
     "execution_count": 4,
     "metadata": {},
     "output_type": "execute_result"
    }
   ],
   "source": [
    "blob.tags"
   ]
  },
  {
   "cell_type": "code",
   "execution_count": 5,
   "metadata": {
    "collapsed": false
   },
   "outputs": [
    {
     "name": "stdout",
     "output_type": "stream",
     "text": [
      "Natural JJ\n",
      "language NN\n",
      "processing NN\n",
      "with IN\n",
      "Python NNP\n",
      "is VBZ\n",
      "so RB\n",
      "much JJ\n",
      "fun NN\n"
     ]
    }
   ],
   "source": [
    "for word, pos in blob.tags:\n",
    "    print(word, pos)"
   ]
  },
  {
   "cell_type": "markdown",
   "metadata": {},
   "source": [
    "For what these tags mean, you might check out http://www.clips.ua.ac.be/pages/mbsp-tags"
   ]
  },
  {
   "cell_type": "code",
   "execution_count": 6,
   "metadata": {
    "collapsed": false
   },
   "outputs": [
    {
     "data": {
      "text/plain": [
       "WordList(['natural language processing', 'python'])"
      ]
     },
     "execution_count": 6,
     "metadata": {},
     "output_type": "execute_result"
    }
   ],
   "source": [
    "blob.noun_phrases\n"
   ]
  },
  {
   "cell_type": "code",
   "execution_count": 7,
   "metadata": {
    "collapsed": true
   },
   "outputs": [],
   "source": [
    "para = \"Here is my first sentence. I am really sad. People are so angry. Life is fantastic. It's really awesome to have three sentences though.\""
   ]
  },
  {
   "cell_type": "code",
   "execution_count": 8,
   "metadata": {
    "collapsed": true
   },
   "outputs": [],
   "source": [
    "blob2 = TextBlob(para)"
   ]
  },
  {
   "cell_type": "code",
   "execution_count": 9,
   "metadata": {
    "collapsed": false
   },
   "outputs": [
    {
     "data": {
      "text/plain": [
       "[Sentence(\"Here is my first sentence.\"),\n",
       " Sentence(\"I am really sad.\"),\n",
       " Sentence(\"People are so angry.\"),\n",
       " Sentence(\"Life is fantastic.\"),\n",
       " Sentence(\"It's really awesome to have three sentences though.\")]"
      ]
     },
     "execution_count": 9,
     "metadata": {},
     "output_type": "execute_result"
    }
   ],
   "source": [
    "blob2.sentences"
   ]
  },
  {
   "cell_type": "code",
   "execution_count": 10,
   "metadata": {
    "collapsed": false
   },
   "outputs": [
    {
     "data": {
      "text/plain": [
       "Sentiment(polarity=0.2375, subjectivity=0.30000000000000004)"
      ]
     },
     "execution_count": 10,
     "metadata": {},
     "output_type": "execute_result"
    }
   ],
   "source": [
    "blob.sentiment"
   ]
  },
  {
   "cell_type": "code",
   "execution_count": 11,
   "metadata": {
    "collapsed": false
   },
   "outputs": [
    {
     "data": {
      "text/plain": [
       "0.2375"
      ]
     },
     "execution_count": 11,
     "metadata": {},
     "output_type": "execute_result"
    }
   ],
   "source": [
    "blob.sentiment.polarity"
   ]
  },
  {
   "cell_type": "code",
   "execution_count": 12,
   "metadata": {
    "collapsed": false
   },
   "outputs": [
    {
     "name": "stdout",
     "output_type": "stream",
     "text": [
      "Sentiment(polarity=0.25, subjectivity=0.3333333333333333)\n",
      "Sentiment(polarity=-0.5, subjectivity=1.0)\n",
      "Sentiment(polarity=-0.5, subjectivity=1.0)\n",
      "Sentiment(polarity=0.4, subjectivity=0.9)\n",
      "Sentiment(polarity=1.0, subjectivity=1.0)\n"
     ]
    }
   ],
   "source": [
    "for sentence in blob2.sentences:\n",
    "    print(sentence.sentiment)"
   ]
  },
  {
   "cell_type": "code",
   "execution_count": 13,
   "metadata": {
    "collapsed": false
   },
   "outputs": [
    {
     "name": "stdout",
     "output_type": "stream",
     "text": [
      "Here is my first sentence. 0.25\n",
      "I am really sad. -0.5\n",
      "People are so angry. -0.5\n",
      "Life is fantastic. 0.4\n",
      "It's really awesome to have three sentences though. 1.0\n"
     ]
    }
   ],
   "source": [
    "for sentence in blob2.sentences:\n",
    "    print(sentence, sentence.sentiment.polarity)"
   ]
  },
  {
   "cell_type": "code",
   "execution_count": 14,
   "metadata": {
    "collapsed": false
   },
   "outputs": [
    {
     "data": {
      "text/plain": [
       "'languages'"
      ]
     },
     "execution_count": 14,
     "metadata": {},
     "output_type": "execute_result"
    }
   ],
   "source": [
    "blob.words[1].pluralize()"
   ]
  },
  {
   "cell_type": "code",
   "execution_count": 15,
   "metadata": {
    "collapsed": false
   },
   "outputs": [],
   "source": [
    "sent2 = \"Squids are huge with many tentacles.\"\n",
    "blob3 = TextBlob(sent2)"
   ]
  },
  {
   "cell_type": "code",
   "execution_count": 16,
   "metadata": {
    "collapsed": false
   },
   "outputs": [
    {
     "data": {
      "text/plain": [
       "'be'"
      ]
     },
     "execution_count": 16,
     "metadata": {},
     "output_type": "execute_result"
    }
   ],
   "source": [
    "blob3.words[1].lemmatize('v')"
   ]
  },
  {
   "cell_type": "code",
   "execution_count": 17,
   "metadata": {
    "collapsed": false
   },
   "outputs": [
    {
     "data": {
      "text/plain": [
       "'tentacle'"
      ]
     },
     "execution_count": 17,
     "metadata": {},
     "output_type": "execute_result"
    }
   ],
   "source": [
    "blob3.words[-1].lemmatize()"
   ]
  },
  {
   "cell_type": "code",
   "execution_count": 18,
   "metadata": {
    "collapsed": false
   },
   "outputs": [
    {
     "data": {
      "text/plain": [
       "'Squids/NNP/B-NP/O are/VBP/B-VP/O huge/JJ/B-ADJP/O with/IN/B-PP/B-PNP many/JJ/B-NP/I-PNP tentacles/NNS/I-NP/I-PNP ././O/O'"
      ]
     },
     "execution_count": 18,
     "metadata": {},
     "output_type": "execute_result"
    }
   ],
   "source": [
    "blob3.parse()"
   ]
  },
  {
   "cell_type": "code",
   "execution_count": 19,
   "metadata": {
    "collapsed": true
   },
   "outputs": [],
   "source": [
    "from textblob import Word"
   ]
  },
  {
   "cell_type": "code",
   "execution_count": 20,
   "metadata": {
    "collapsed": false
   },
   "outputs": [
    {
     "data": {
      "text/plain": [
       "'octopus'"
      ]
     },
     "execution_count": 20,
     "metadata": {},
     "output_type": "execute_result"
    }
   ],
   "source": [
    "w = Word(\"octopi\")\n",
    "w.lemmatize()"
   ]
  },
  {
   "cell_type": "code",
   "execution_count": 21,
   "metadata": {
    "collapsed": false
   },
   "outputs": [
    {
     "name": "stdout",
     "output_type": "stream",
     "text": [
      "[('His', 0.7117826487905228), ('This', 0.28821735120947717)]\n",
      "[('is', 1.0)]\n",
      "[('poor', 0.9626865671641791), ('poorly', 0.03731343283582089)]\n",
      "[('spelled', 1.0)]\n",
      "[('word', 0.8948948948948949), ('ward', 0.03903903903903904), ('rd', 0.03003003003003003), ('wry', 0.015015015015015015), ('ord', 0.009009009009009009), ('wad', 0.006006006006006006), ('wid', 0.003003003003003003), ('wed', 0.003003003003003003)]\n"
     ]
    }
   ],
   "source": [
    "bad_text = \"This is poory spelled wrd\"\n",
    "blob4 = TextBlob(bad_text)\n",
    "for word in blob4.words:\n",
    "    print(word.spellcheck())"
   ]
  },
  {
   "cell_type": "code",
   "execution_count": 22,
   "metadata": {
    "collapsed": false
   },
   "outputs": [
    {
     "data": {
      "text/plain": [
       "3"
      ]
     },
     "execution_count": 22,
     "metadata": {},
     "output_type": "execute_result"
    }
   ],
   "source": [
    "repetitive = \"John likes to drink sweet Soda. Jane also likes soda. John and Jane both like soda.\"\n",
    "blob5 = TextBlob(repetitive)\n",
    "blob5.word_counts['soda']"
   ]
  },
  {
   "cell_type": "code",
   "execution_count": 23,
   "metadata": {
    "collapsed": false
   },
   "outputs": [
    {
     "data": {
      "text/plain": [
       "2"
      ]
     },
     "execution_count": 23,
     "metadata": {},
     "output_type": "execute_result"
    }
   ],
   "source": [
    "blob5.words.count('soda', case_sensitive=True)"
   ]
  },
  {
   "cell_type": "code",
   "execution_count": 24,
   "metadata": {
    "collapsed": false
   },
   "outputs": [
    {
     "data": {
      "text/plain": [
       "2"
      ]
     },
     "execution_count": 24,
     "metadata": {},
     "output_type": "execute_result"
    }
   ],
   "source": [
    "blob5.noun_phrases.count('john')"
   ]
  },
  {
   "cell_type": "markdown",
   "metadata": {},
   "source": [
    "Textblob can also handle some translation and language detection. Do we want to talk about that at all?"
   ]
  },
  {
   "cell_type": "code",
   "execution_count": 25,
   "metadata": {
    "collapsed": false
   },
   "outputs": [
    {
     "data": {
      "text/plain": [
       "[WordList(['John', 'likes', 'to']),\n",
       " WordList(['likes', 'to', 'drink']),\n",
       " WordList(['to', 'drink', 'sweet']),\n",
       " WordList(['drink', 'sweet', 'Soda']),\n",
       " WordList(['sweet', 'Soda', 'Jane']),\n",
       " WordList(['Soda', 'Jane', 'also']),\n",
       " WordList(['Jane', 'also', 'likes']),\n",
       " WordList(['also', 'likes', 'soda']),\n",
       " WordList(['likes', 'soda', 'John']),\n",
       " WordList(['soda', 'John', 'and']),\n",
       " WordList(['John', 'and', 'Jane']),\n",
       " WordList(['and', 'Jane', 'both']),\n",
       " WordList(['Jane', 'both', 'like']),\n",
       " WordList(['both', 'like', 'soda'])]"
      ]
     },
     "execution_count": 25,
     "metadata": {},
     "output_type": "execute_result"
    }
   ],
   "source": [
    "blob5.ngrams(n=3)"
   ]
  },
  {
   "cell_type": "code",
   "execution_count": 26,
   "metadata": {
    "collapsed": false
   },
   "outputs": [
    {
     "name": "stdout",
     "output_type": "stream",
     "text": [
      "Sentiment(polarity=0.35, subjectivity=0.65)\n",
      "Sentiment(polarity=0.0, subjectivity=0.0)\n",
      "Sentiment(polarity=0.0, subjectivity=0.0)\n"
     ]
    }
   ],
   "source": [
    "from textblob.sentiments import NaiveBayesAnalyzer\n",
    "blob6 = TextBlob(repetitive)\n",
    "for sentence in blob6.sentences:\n",
    "    print(sentence.sentiment)"
   ]
  },
  {
   "cell_type": "code",
   "execution_count": 27,
   "metadata": {
    "collapsed": false
   },
   "outputs": [
    {
     "name": "stdout",
     "output_type": "stream",
     "text": [
      "Sentiment(classification='neg', p_pos=0.3519319302860912, p_neg=0.6480680697139093)\n",
      "Sentiment(classification='neg', p_pos=0.43530881093370977, p_neg=0.564691189066291)\n",
      "Sentiment(classification='neg', p_pos=0.4908744687646318, p_neg=0.5091255312353694)\n"
     ]
    }
   ],
   "source": [
    "blob7 = TextBlob(repetitive, analyzer=NaiveBayesAnalyzer())\n",
    "for sentence in blob7.sentences:\n",
    "    print(sentence.sentiment)"
   ]
  },
  {
   "cell_type": "markdown",
   "metadata": {},
   "source": [
    "TODO: Is it worth showing how to use different tokenizers, noun phrase chunks, POS taggers, etc...? Should we show how to assemble a Blobbler for re-use?"
   ]
  },
  {
   "cell_type": "code",
   "execution_count": 28,
   "metadata": {
    "collapsed": false
   },
   "outputs": [
    {
     "name": "stdout",
     "output_type": "stream",
     "text": [
      "Sentiment(polarity=0.0, subjectivity=0.0)\n"
     ]
    }
   ],
   "source": [
    "sent = \"John hates soda\"\n",
    "blob7 = TextBlob(sent)\n",
    "for sentence in blob7.sentences:\n",
    "    print(sentence.sentiment)"
   ]
  },
  {
   "cell_type": "code",
   "execution_count": 29,
   "metadata": {
    "collapsed": false
   },
   "outputs": [
    {
     "name": "stdout",
     "output_type": "stream",
     "text": [
      "Sentiment(classification='neg', p_pos=0.22370657856753343, p_neg=0.7762934214324665)\n"
     ]
    }
   ],
   "source": [
    "sent = \"John hates soda\"\n",
    "blob8 = TextBlob(sent, analyzer=NaiveBayesAnalyzer())\n",
    "for sentence in blob8.sentences:\n",
    "    print(sentence.sentiment)"
   ]
  },
  {
   "cell_type": "markdown",
   "metadata": {},
   "source": [
    "Avg length of sentence\n",
    "Richness: number of words / number of diff words\n",
    "\n",
    "Get speech from Clinton, Bush, Obama, Trump\n",
    "Do avg grad level of text: Flesch-Kincaid score\n",
    "\n",
    "https://en.wikipedia.org/wiki/Coleman%E2%80%93Liau_index\n",
    "\n",
    "https://en.wikipedia.org/wiki/Automated_readability_index\n",
    "\n",
    "https://pypi.python.org/pypi/textstat/\n",
    "\n",
    "After calculating our own, could then use textstat to get Flesch-Kincaid as a comparison to the word/sentence approaches. Flesch-Kincaid uses syllables. "
   ]
  },
  {
   "cell_type": "code",
   "execution_count": 30,
   "metadata": {
    "collapsed": true
   },
   "outputs": [],
   "source": [
    "import requests\n"
   ]
  },
  {
   "cell_type": "code",
   "execution_count": 33,
   "metadata": {
    "collapsed": false
   },
   "outputs": [
    {
     "data": {
      "text/plain": [
       "'AS FOUND ON http://www.cnn.com/2017/02/28/politics/donald-trump-speech-transcript-full-text/\\nAND TO BE USED FOR ACADEMIC WORKSHOP\\nMr. Speaker, Mr. Vice President, Members of Congress, the First Lady of the United States, and Citizens of America:\\nTonight, as we mark the conclusion of our celebration of Black History Month, we are reminded of our Nation\\'s path toward civil rights and the work that still remains. Recent threats targeting Jewish Community Centers and vandalism of Jewish cemeteries, as well as last week\\'s shooting in Kansas City, remind us that while we may be a Nation divided on policies, we are a country that stands united in condemning hate and evil in all its forms.\\nEach American generation passes the torch of truth, liberty and justice --- in an unbroken chain all the way down to the present.\\nThat torch is now in our hands. And we will use it to light up the world. I am here tonight to deliver a message of unity and strength, and it is a message deeply delivered from my heart.\\nA new chapter of American Greatness is now beginning.\\nA new national pride is sweeping across our Nation.\\nAnd a new surge of optimism is placing impossible dreams firmly within our grasp.\\nWhat we are witnessing today is the Renewal of the American Spirit.\\nOur allies will find that America is once again ready to lead.\\nAll the nations of the world -- friend or foe -- will find that America is strong, America is proud, and America is free.\\nIn 9 years, the United States will celebrate the 250th anniversary of our founding -- 250 years since the day we declared our Independence.\\nIt will be one of the great milestones in the history of the world.\\nBut what will America look like as we reach our 250th year? What kind of country will we leave for our children?\\nI will not allow the mistakes of recent decades past to define the course of our future.\\nFor too long, we\\'ve watched our middle class shrink as we\\'ve exported our jobs and wealth to foreign countries.\\nWe\\'ve financed and built one global project after another, but ignored the fates of our children in the inner cities of Chicago, Baltimore, Detroit -- and so many other places throughout our land.\\nWe\\'ve defended the borders of other nations, while leaving our own borders wide open, for anyone to cross -- and for drugs to pour in at a now unprecedented rate.\\nAnd we\\'ve spent trillions of dollars overseas, while our infrastructure at home has so badly crumbled.\\nThen, in 2016, the earth shifted beneath our feet. The rebellion started as a quiet protest, spoken by families of all colors and creeds --- families who just wanted a fair shot for their children, and a fair hearing for their concerns.\\nBut then the quiet voices became a loud chorus -- as thousands of citizens now spoke out together, from cities small and large, all across our country.\\nFinally, the chorus became an earthquake -- and the people turned out by the tens of millions, and they were all united by one very simple, but crucial demand, that America must put its own citizens first ... because only then, can we truly MAKE AMERICA GREAT AGAIN.\\nDying industries will come roaring back to life. Heroic veterans will get the care they so desperately need.\\nOur military will be given the resources its brave warriors so richly deserve.\\nCrumbling infrastructure will be replaced with new roads, bridges, tunnels, airports and railways gleaming across our beautiful land.\\nOur terrible drug epidemic will slow down and ultimately, stop.\\nAnd our neglected inner cities will see a rebirth of hope, safety, and opportunity.\\nAbove all else, we will keep our promises to the American people.\\nIt\\'s been a little over a month since my inauguration, and I want to take this moment to update the Nation on the progress I\\'ve made in keeping those promises.\\nSince my election, Ford, Fiat-Chrysler, General Motors, Sprint, Softbank, Lockheed, Intel, Walmart, and many others, have announced that they will invest billions of dollars in the United States and will create tens of thousands of new American jobs.\\nThe stock market has gained almost three trillion dollars in value since the election on November 8th, a record. We\\'ve saved taxpayers hundreds of millions of dollars by bringing down the price of the fantastic new F-35 jet fighter, and will be saving billions more dollars on contracts all across our Government. We have placed a hiring freeze on non-military and non-essential Federal workers.\\nWe have begun to drain the swamp of government corruption by imposing a 5 year ban on lobbying by executive branch officials --- and a lifetime ban on becoming lobbyists for a foreign government.\\nWe have undertaken a historic effort to massively reduce job‑crushing regulations, creating a deregulation task force inside of every Government agency; imposing a new rule which mandates that for every 1 new regulation, 2 old regulations must be eliminated; and stopping a regulation that threatens the future and livelihoods of our great coal miners.\\nWe have cleared the way for the construction of the Keystone and Dakota Access Pipelines -- thereby creating tens of thousands of jobs -- and I\\'ve issued a new directive that new American pipelines be made with American steel.\\nWe have withdrawn the United States from the job-killing Trans-Pacific Partnership.\\nWith the help of Prime Minister Justin Trudeau, we have formed a Council with our neighbors in Canada to help ensure that women entrepreneurs have access to the networks, markets and capital they need to start a business and live out their financial dreams.\\nTo protect our citizens, I have directed the Department of Justice to form a Task Force on Reducing Violent Crime.\\nI have further ordered the Departments of Homeland Security and Justice, along with the Department of State and the Director of National Intelligence, to coordinate an aggressive strategy to dismantle the criminal cartels that have spread across our Nation.\\nWe will stop the drugs from pouring into our country and poisoning our youth -- and we will expand treatment for those who have become so badly addicted.\\nAt the same time, my Administration has answered the pleas of the American people for immigration enforcement and border security. By finally enforcing our immigration laws, we will raise wages, help the unemployed, save billions of dollars, and make our communities safer for everyone. We want all Americans to succeed --- but that can\\'t happen in an environment of lawless chaos. We must restore integrity and the rule of law to our borders.\\nFor that reason, we will soon begin the construction of a great wall along our southern border. It will be started ahead of schedule and, when finished, it will be a very effective weapon against drugs and crime.\\nAs we speak, we are removing gang members, drug dealers and criminals that threaten our communities and prey on our citizens. Bad ones are going out as I speak tonight and as I have promised.\\nTo any in Congress who do not believe we should enforce our laws, I would ask you this question: what would you say to the American family that loses their jobs, their income, or a loved one, because America refused to uphold its laws and defend its borders?\\nOur obligation is to serve, protect, and defend the citizens of the United States. We are also taking strong measures to protect our Nation from Radical Islamic Terrorism.\\nAccording to data provided by the Department of Justice, the vast majority of individuals convicted for terrorism-related offenses since 9/11 came here from outside of our country. We have seen the attacks at home --- from Boston to San Bernardino to the Pentagon and yes, even the World Trade Center.\\nWe have seen the attacks in France, in Belgium, in Germany and all over the world.\\nIt is not compassionate, but reckless, to allow uncontrolled entry from places where proper vetting cannot occur. Those given the high honor of admission to the United States should support this country and love its people and its values.\\nWe cannot allow a beachhead of terrorism to form inside America -- we cannot allow our Nation to become a sanctuary for extremists.\\nThat is why my Administration has been working on improved vetting procedures, and we will shortly take new steps to keep our Nation safe -- and to keep out those who would do us harm.\\nAs promised, I directed the Department of Defense to develop a plan to demolish and destroy ISIS -- a network of lawless savages that have slaughtered Muslims and Christians, and men, women, and children of all faiths and beliefs. We will work with our allies, including our friends and allies in the Muslim world, to extinguish this vile enemy from our planet.\\nI have also imposed new sanctions on entities and individuals who support Iran\\'s ballistic missile program, and reaffirmed our unbreakable alliance with the State of Israel.\\nFinally, I have kept my promise to appoint a Justice to the United States Supreme Court -- from my list of 20 judges -- who will defend our Constitution. I am honored to have Maureen Scalia with us in the gallery tonight. Her late, great husband, Antonin Scalia, will forever be a symbol of American justice. To fill his seat, we have chosen Judge Neil Gorsuch, a man of incredible skill, and deep devotion to the law. He was confirmed unanimously to the Court of Appeals, and I am asking the Senate to swiftly approve his nomination.\\nTonight, as I outline the next steps we must take as a country, we must honestly acknowledge the circumstances we inherited.\\nNinety-four million Americans are out of the labor force.\\nOver 43 million people are now living in poverty, and over 43 million Americans are on food stamps.\\nMore than 1 in 5 people in their prime working years are not working.\\nWe have the worst financial recovery in 65 years.\\nIn the last 8 years, the past Administration has put on more new debt than nearly all other Presidents combined.\\nWe\\'ve lost more than one-fourth of our manufacturing jobs since NAFTA was approved, and we\\'ve lost 60,000 factories since China joined the World Trade Organization in 2001.\\nOur trade deficit in goods with the world last year was nearly $800 billion dollars.\\nAnd overseas, we have inherited a series of tragic foreign policy disasters.\\nSolving these, and so many other pressing problems, will require us to work past the differences of party. It will require us to tap into the American spirit that has overcome every challenge throughout our long and storied history.\\nBut to accomplish our goals at home and abroad, we must restart the engine of the American economy -- making it easier for companies to do business in the United States, and much harder for companies to leave.\\nRight now, American companies are taxed at one of the highest rates anywhere in the world.\\nMy economic team is developing historic tax reform that will reduce the tax rate on our companies so they can compete and thrive anywhere and with anyone. At the same time, we will provide massive tax relief for the middle class.\\nWe must create a level playing field for American companies and workers.\\nCurrently, when we ship products out of America, many other countries make us pay very high tariffs and taxes -- but when foreign companies ship their products into America, we charge them almost nothing.\\nI just met with officials and workers from a great American company, Harley-Davidson. In fact, they proudly displayed five of their magnificent motorcycles, made in the USA, on the front lawn of the White House.\\nAt our meeting, I asked them, how are you doing, how is business? They said that it\\'s good. I asked them further how they are doing with other countries, mainly international sales. They told me -- without even complaining because they have been mistreated for so long that they have become used to it -- that it is very hard to do business with other countries because they tax our goods at such a high rate. They said that in one case another country taxed their motorcycles at 100 percent.\\nThey weren\\'t even asking for change. But I am.\\nI believe strongly in free trade but it also has to be FAIR TRADE.\\nThe first Republican President, Abraham Lincoln, warned that the \"abandonment of the protective policy by the American Government [will] produce want and ruin among our people.\"\\nLincoln was right -- and it is time we heeded his words. I am not going to let America and its great companies and workers, be taken advantage of anymore.\\nI am going to bring back millions of jobs. Protecting our workers also means reforming our system of legal immigration. The current, outdated system depresses wages for our poorest workers, and puts great pressure on taxpayers.\\nNations around the world, like Canada, Australia and many others --- have a merit-based immigration system. It is a basic principle that those seeking to enter a country ought to be able to support themselves financially. Yet, in America, we do not enforce this rule, straining the very public resources that our poorest citizens rely upon. According to the National Academy of Sciences, our current immigration system costs America\\'s taxpayers many billions of dollars a year.\\nSwitching away from this current system of lower-skilled immigration, and instead adopting a merit-based system, will have many benefits: it will save countless dollars, raise workers\\' wages, and help struggling families --- including immigrant families --- enter the middle class.\\nI believe that real and positive immigration reform is possible, as long as we focus on the following goals: to improve jobs and wages for Americans, to strengthen our nation\\'s security, and to restore respect for our laws.\\nIf we are guided by the well-being of American citizens then I believe Republicans and Democrats can work together to achieve an outcome that has eluded our country for decades.\\nAnother Republican President, Dwight D. Eisenhower, initiated the last truly great national infrastructure program --- the building of the interstate highway system. The time has come for a new program of national rebuilding.\\nAmerica has spent approximately six trillion dollars in the Middle East, all this while our infrastructure at home is crumbling. With this six trillion dollars we could have rebuilt our country --- twice. And maybe even three times if we had people who had the ability to negotiate.\\nTo launch our national rebuilding, I will be asking the Congress to approve legislation that produces a $1 trillion investment in the infrastructure of the United States -- financed through both public and private capital --- creating millions of new jobs.\\nThis effort will be guided by two core principles: Buy American, and Hire American.\\nTonight, I am also calling on this Congress to repeal and replace Obamacare with reforms that expand choice, increase access, lower costs, and at the same time, provide better Healthcare.\\nMandating every American to buy government-approved health insurance was never the right solution for America. The way to make health insurance available to everyone is to lower the cost of health insurance, and that is what we will do.\\nObamacare premiums nationwide have increased by double and triple digits. As an example, Arizona went up 116 percent last year alone. Governor Matt Bevin of Kentucky just said Obamacare is failing in his State -- it is unsustainable and collapsing.\\nOne third of counties have only one insurer on the exchanges --- leaving many Americans with no choice at all.\\nRemember when you were told that you could keep your doctor, and keep your plan?\\nWe now know that all of those promises have been broken.\\nObamacare is collapsing --- and we must act decisively to protect all Americans. Action is not a choice --- it is a necessity.\\nSo I am calling on all Democrats and Republicans in the Congress to work with us to save Americans from this imploding Obamacare disaster.\\nHere are the principles that should guide the Congress as we move to create a better healthcare system for all Americans:\\nFirst, we should ensure that Americans with pre-existing conditions have access to coverage, and that we have a stable transition for Americans currently enrolled in the healthcare exchanges.\\nSecondly, we should help Americans purchase their own coverage, through the use of tax credits and expanded Health Savings Accounts --- but it must be the plan they want, not the plan forced on them by the Government.\\nThirdly, we should give our great State Governors the resources and flexibility they need with Medicaid to make sure no one is left out.\\nFourthly, we should implement legal reforms that protect patients and doctors from unnecessary costs that drive up the price of insurance -- and work to bring down the artificially high price of drugs and bring them down immediately.\\nFinally, the time has come to give Americans the freedom to purchase health insurance across State lines --- creating a truly competitive national marketplace that will bring cost way down and provide far better care.\\nEverything that is broken in our country can be fixed. Every problem can be solved. And every hurting family can find healing, and hope.\\nOur citizens deserve this, and so much more --- so why not join forces to finally get it done? On this and so many other things, Democrats and Republicans should get together and unite for the good of our country, and for the good of the American people.\\nMy administration wants to work with members in both parties to make childcare accessible and affordable, to help ensure new parents have paid family leave, to invest in women\\'s health, and to promote clean air and clear water, and to rebuild our military and our infrastructure.\\nTrue love for our people requires us to find common ground, to advance the common good, and to cooperate on behalf of every American child who deserves a brighter future.\\nAn incredible young woman is with us this evening who should serve as an inspiration to us all.\\nToday is Rare Disease day, and joining us in the gallery is a Rare Disease Survivor, Megan Crowley. Megan was diagnosed with Pompe Disease, a rare and serious illness, when she was 15 months old. She was not expected to live past 5.\\nOn receiving this news, Megan\\'s dad, John, fought with everything he had to save the life of his precious child. He founded a company to look for a cure, and helped develop the drug that saved Megan\\'s life. Today she is 20 years old -- and a sophomore at Notre Dame.\\nMegan\\'s story is about the unbounded power of a father\\'s love for a daughter.\\nBut our slow and burdensome approval process at the Food and Drug Administration keeps too many advances, like the one that saved Megan\\'s life, from reaching those in need.\\nIf we slash the restraints, not just at the FDA but across our Government, then we will be blessed with far more miracles like Megan.\\nIn fact, our children will grow up in a Nation of miracles.\\nBut to achieve this future, we must enrich the mind --- and the souls --- of every American child.\\nEducation is the civil rights issue of our time.\\nI am calling upon Members of both parties to pass an education bill that funds school choice for disadvantaged youth, including millions of African-American and Latino children. These families should be free to choose the public, private, charter, magnet, religious or home school that is right for them.\\nJoining us tonight in the gallery is a remarkable woman, Denisha Merriweather. As a young girl, Denisha struggled in school and failed third grade twice. But then she was able to enroll in a private center for learning, with the help of a tax credit scholarship program. Today, she is the first in her family to graduate, not just from high school, but from college. Later this year she will get her masters degree in social work.\\nWe want all children to be able to break the cycle of poverty just like Denisha.\\nBut to break the cycle of poverty, we must also break the cycle of violence.\\nThe murder rate in 2015 experienced its largest single-year increase in nearly half a century.\\nIn Chicago, more than 4,000 people were shot last year alone --- and the murder rate so far this year has been even higher.\\nThis is not acceptable in our society.\\nEvery American child should be able to grow up in a safe community, to attend a great school, and to have access to a high-paying job.\\nBut to create this future, we must work with --- not against --- the men and women of law enforcement.\\nWe must build bridges of cooperation and trust --- not drive the wedge of disunity and division.\\nPolice and sheriffs are members of our community. They are friends and neighbors, they are mothers and fathers, sons and daughters -- and they leave behind loved ones every day who worry whether or not they\\'ll come home safe and sound.\\nWe must support the incredible men and women of law enforcement.\\nAnd we must support the victims of crime.\\nI have ordered the Department of Homeland Security to create an office to serve American Victims. The office is called VOICE --- Victims Of Immigration Crime Engagement. We are providing a voice to those who have been ignored by our media, and silenced by special interests.\\nJoining us in the audience tonight are four very brave Americans whose government failed them.\\nTheir names are Jamiel Shaw, Susan Oliver, Jenna Oliver, and Jessica Davis.\\nJamiel\\'s 17-year-old son was viciously murdered by an illegal immigrant gang member, who had just been released from prison. Jamiel Shaw Jr. was an incredible young man, with unlimited potential who was getting ready to go to college where he would have excelled as a great quarterback. But he never got the chance. His father, who is in the audience tonight, has become a good friend of mine.\\nAlso with us are Susan Oliver and Jessica Davis. Their husbands --- Deputy Sheriff Danny Oliver and Detective Michael Davis --- were slain in the line of duty in California. They were pillars of their community. These brave men were viciously gunned down by an illegal immigrant with a criminal record and two prior deportations.\\nSitting with Susan is her daughter, Jenna. Jenna: I want you to know that your father was a hero, and that tonight you have the love of an entire country supporting you and praying for you.\\nTo Jamiel, Jenna, Susan and Jessica: I want you to know --- we will never stop fighting for justice. Your loved ones will never be forgotten, we will always honor their memory.\\nFinally, to keep America Safe we must provide the men and women of the United States military with the tools they need to prevent war and --- if they must --- to fight and to win.\\nI am sending the Congress a budget that rebuilds the military, eliminates the Defense sequester, and calls for one of the largest increases in national defense spending in American history.\\nMy budget will also increase funding for our veterans.\\nOur veterans have delivered for this Nation --- and now we must deliver for them.\\nThe challenges we face as a Nation are great. But our people are even greater.\\nAnd none are greater or braver than those who fight for America in uniform.\\nWe are blessed to be joined tonight by Carryn Owens, the widow of a U.S. Navy Special Operator, Senior Chief William \"Ryan\" Owens. Ryan died as he lived: a warrior, and a hero --- battling against terrorism and securing our Nation.\\nI just spoke to General Mattis, who reconfirmed that, and I quote, \"Ryan was a part of a highly successful raid that generated large amounts of vital intelligence that will lead to many more victories in the future against our enemies.\" Ryan\\'s legacy is etched into eternity. For as the Bible teaches us, there is no greater act of love than to lay down one\\'s life for one\\'s friends. Ryan laid down his life for his friends, for his country, and for our freedom --- we will never forget him.\\nTo those allies who wonder what kind of friend America will be, look no further than the heroes who wear our uniform.\\nOur foreign policy calls for a direct, robust and meaningful engagement with the world. It is American leadership based on vital security interests that we share with our allies across the globe.\\nWe strongly support NATO, an alliance forged through the bonds of two World Wars that dethroned fascism, and a Cold War that defeated communism.\\nBut our partners must meet their financial obligations.\\nAnd now, based on our very strong and frank discussions, they are beginning to do just that.\\nWe expect our partners, whether in NATO, in the Middle East, or the Pacific --- to take a direct and meaningful role in both strategic and military operations, and pay their fair share of the cost.\\nWe will respect historic institutions, but we will also respect the sovereign rights of nations.\\nFree nations are the best vehicle for expressing the will of the people --- and America respects the right of all nations to chart their own path. My job is not to represent the world. My job is to represent the United States of America. But we know that America is better off, when there is less conflict -- not more.\\nWe must learn from the mistakes of the past --- we have seen the war and destruction that have raged across our world.\\nThe only long-term solution for these humanitarian disasters is to create the conditions where displaced persons can safely return home and begin the long process of rebuilding.\\nAmerica is willing to find new friends, and to forge new partnerships, where shared interests align. We want harmony and stability, not war and conflict.\\nWe want peace, wherever peace can be found. America is friends today with former enemies. Some of our closest allies, decades ago, fought on the opposite side of these World Wars. This history should give us all faith in the possibilities for a better world.\\nHopefully, the 250th year for America will see a world that is more peaceful, more just and more free.\\nOn our 100th anniversary, in 1876, citizens from across our Nation came to Philadelphia to celebrate America\\'s centennial. At that celebration, the country\\'s builders and artists and inventors showed off their creations.\\nAlexander Graham Bell displayed his telephone for the first time.\\nRemington unveiled the first typewriter. An early attempt was made at electric light.\\nThomas Edison showed an automatic telegraph and an electric pen.\\nImagine the wonders our country could know in America\\'s 250th year.\\nThink of the marvels we can achieve if we simply set free the dreams of our people.\\nCures to illnesses that have always plagued us are not too much to hope.\\nAmerican footprints on distant worlds are not too big a dream.\\nMillions lifted from welfare to work is not too much to expect.\\nAnd streets where mothers are safe from fear -- schools where children learn in peace -- and jobs where Americans prosper and grow -- are not too much to ask.\\nWhen we have all of this, we will have made America greater than ever before. For all Americans.\\nThis is our vision. This is our mission.\\nBut we can only get there together.\\nWe are one people, with one destiny.\\nWe all bleed the same blood.\\nWe all salute the same flag.\\nAnd we are all made by the same God.\\nAnd when we fulfill this vision; when we celebrate our 250 years of glorious freedom, we will look back on tonight as when this new chapter of American Greatness began.\\nThe time for small thinking is over. The time for trivial fights is behind us.\\nWe just need the courage to share the dreams that fill our hearts.\\nThe bravery to express the hopes that stir our souls.\\nAnd the confidence to turn those hopes and dreams to action.\\nFrom now on, America will be empowered by our aspirations, not burdened by our fears ---\\ninspired by the future, not bound by the failures of the past ---\\nand guided by our vision, not blinded by our doubts.\\nI am asking all citizens to embrace this Renewal of the American Spirit. I am asking all members of Congress to join me in dreaming big, and bold and daring things for our country. And I am asking everyone watching tonight to seize this moment and --\\nBelieve in yourselves.\\nBelieve in your future.\\nAnd believe, once more, in America.\\nThank you, God bless you, and God Bless these United States.\\n'"
      ]
     },
     "execution_count": 33,
     "metadata": {},
     "output_type": "execute_result"
    }
   ],
   "source": [
    "url = \"https://raw.githubusercontent.com/sul-cidr/python_workshops/nlp/data/trump.txt\"\n",
    "page = requests.get(url)\n",
    "page.text"
   ]
  },
  {
   "cell_type": "code",
   "execution_count": 44,
   "metadata": {
    "collapsed": false
   },
   "outputs": [
    {
     "data": {
      "text/plain": [
       "'Mr. Speaker, Mr. Vice President, Members of Congress, the First Lady of the United States, and Citizens of America: Tonight, as we mark the conclusion of our celebration of Black History Month, we are reminded of our Nation\\'s path toward civil rights and the work that still remains. Recent threats targeting Jewish Community Centers and vandalism of Jewish cemeteries, as well as last week\\'s shooting in Kansas City, remind us that while we may be a Nation divided on policies, we are a country that stands united in condemning hate and evil in all its forms. Each American generation passes the torch of truth, liberty and justice --- in an unbroken chain all the way down to the present. That torch is now in our hands. And we will use it to light up the world. I am here tonight to deliver a message of unity and strength, and it is a message deeply delivered from my heart. A new chapter of American Greatness is now beginning. A new national pride is sweeping across our Nation. And a new surge of optimism is placing impossible dreams firmly within our grasp. What we are witnessing today is the Renewal of the American Spirit. Our allies will find that America is once again ready to lead. All the nations of the world -- friend or foe -- will find that America is strong, America is proud, and America is free. In 9 years, the United States will celebrate the 250th anniversary of our founding -- 250 years since the day we declared our Independence. It will be one of the great milestones in the history of the world. But what will America look like as we reach our 250th year? What kind of country will we leave for our children? I will not allow the mistakes of recent decades past to define the course of our future. For too long, we\\'ve watched our middle class shrink as we\\'ve exported our jobs and wealth to foreign countries. We\\'ve financed and built one global project after another, but ignored the fates of our children in the inner cities of Chicago, Baltimore, Detroit -- and so many other places throughout our land. We\\'ve defended the borders of other nations, while leaving our own borders wide open, for anyone to cross -- and for drugs to pour in at a now unprecedented rate. And we\\'ve spent trillions of dollars overseas, while our infrastructure at home has so badly crumbled. Then, in 2016, the earth shifted beneath our feet. The rebellion started as a quiet protest, spoken by families of all colors and creeds --- families who just wanted a fair shot for their children, and a fair hearing for their concerns. But then the quiet voices became a loud chorus -- as thousands of citizens now spoke out together, from cities small and large, all across our country. Finally, the chorus became an earthquake -- and the people turned out by the tens of millions, and they were all united by one very simple, but crucial demand, that America must put its own citizens first ... because only then, can we truly MAKE AMERICA GREAT AGAIN. Dying industries will come roaring back to life. Heroic veterans will get the care they so desperately need. Our military will be given the resources its brave warriors so richly deserve. Crumbling infrastructure will be replaced with new roads, bridges, tunnels, airports and railways gleaming across our beautiful land. Our terrible drug epidemic will slow down and ultimately, stop. And our neglected inner cities will see a rebirth of hope, safety, and opportunity. Above all else, we will keep our promises to the American people. It\\'s been a little over a month since my inauguration, and I want to take this moment to update the Nation on the progress I\\'ve made in keeping those promises. Since my election, Ford, Fiat-Chrysler, General Motors, Sprint, Softbank, Lockheed, Intel, Walmart, and many others, have announced that they will invest billions of dollars in the United States and will create tens of thousands of new American jobs. The stock market has gained almost three trillion dollars in value since the election on November 8th, a record. We\\'ve saved taxpayers hundreds of millions of dollars by bringing down the price of the fantastic new F-35 jet fighter, and will be saving billions more dollars on contracts all across our Government. We have placed a hiring freeze on non-military and non-essential Federal workers. We have begun to drain the swamp of government corruption by imposing a 5 year ban on lobbying by executive branch officials --- and a lifetime ban on becoming lobbyists for a foreign government. We have undertaken a historic effort to massively reduce job‑crushing regulations, creating a deregulation task force inside of every Government agency; imposing a new rule which mandates that for every 1 new regulation, 2 old regulations must be eliminated; and stopping a regulation that threatens the future and livelihoods of our great coal miners. We have cleared the way for the construction of the Keystone and Dakota Access Pipelines -- thereby creating tens of thousands of jobs -- and I\\'ve issued a new directive that new American pipelines be made with American steel. We have withdrawn the United States from the job-killing Trans-Pacific Partnership. With the help of Prime Minister Justin Trudeau, we have formed a Council with our neighbors in Canada to help ensure that women entrepreneurs have access to the networks, markets and capital they need to start a business and live out their financial dreams. To protect our citizens, I have directed the Department of Justice to form a Task Force on Reducing Violent Crime. I have further ordered the Departments of Homeland Security and Justice, along with the Department of State and the Director of National Intelligence, to coordinate an aggressive strategy to dismantle the criminal cartels that have spread across our Nation. We will stop the drugs from pouring into our country and poisoning our youth -- and we will expand treatment for those who have become so badly addicted. At the same time, my Administration has answered the pleas of the American people for immigration enforcement and border security. By finally enforcing our immigration laws, we will raise wages, help the unemployed, save billions of dollars, and make our communities safer for everyone. We want all Americans to succeed --- but that can\\'t happen in an environment of lawless chaos. We must restore integrity and the rule of law to our borders. For that reason, we will soon begin the construction of a great wall along our southern border. It will be started ahead of schedule and, when finished, it will be a very effective weapon against drugs and crime. As we speak, we are removing gang members, drug dealers and criminals that threaten our communities and prey on our citizens. Bad ones are going out as I speak tonight and as I have promised. To any in Congress who do not believe we should enforce our laws, I would ask you this question: what would you say to the American family that loses their jobs, their income, or a loved one, because America refused to uphold its laws and defend its borders? Our obligation is to serve, protect, and defend the citizens of the United States. We are also taking strong measures to protect our Nation from Radical Islamic Terrorism. According to data provided by the Department of Justice, the vast majority of individuals convicted for terrorism-related offenses since 9/11 came here from outside of our country. We have seen the attacks at home --- from Boston to San Bernardino to the Pentagon and yes, even the World Trade Center. We have seen the attacks in France, in Belgium, in Germany and all over the world. It is not compassionate, but reckless, to allow uncontrolled entry from places where proper vetting cannot occur. Those given the high honor of admission to the United States should support this country and love its people and its values. We cannot allow a beachhead of terrorism to form inside America -- we cannot allow our Nation to become a sanctuary for extremists. That is why my Administration has been working on improved vetting procedures, and we will shortly take new steps to keep our Nation safe -- and to keep out those who would do us harm. As promised, I directed the Department of Defense to develop a plan to demolish and destroy ISIS -- a network of lawless savages that have slaughtered Muslims and Christians, and men, women, and children of all faiths and beliefs. We will work with our allies, including our friends and allies in the Muslim world, to extinguish this vile enemy from our planet. I have also imposed new sanctions on entities and individuals who support Iran\\'s ballistic missile program, and reaffirmed our unbreakable alliance with the State of Israel. Finally, I have kept my promise to appoint a Justice to the United States Supreme Court -- from my list of 20 judges -- who will defend our Constitution. I am honored to have Maureen Scalia with us in the gallery tonight. Her late, great husband, Antonin Scalia, will forever be a symbol of American justice. To fill his seat, we have chosen Judge Neil Gorsuch, a man of incredible skill, and deep devotion to the law. He was confirmed unanimously to the Court of Appeals, and I am asking the Senate to swiftly approve his nomination. Tonight, as I outline the next steps we must take as a country, we must honestly acknowledge the circumstances we inherited. Ninety-four million Americans are out of the labor force. Over 43 million people are now living in poverty, and over 43 million Americans are on food stamps. More than 1 in 5 people in their prime working years are not working. We have the worst financial recovery in 65 years. In the last 8 years, the past Administration has put on more new debt than nearly all other Presidents combined. We\\'ve lost more than one-fourth of our manufacturing jobs since NAFTA was approved, and we\\'ve lost 60,000 factories since China joined the World Trade Organization in 2001. Our trade deficit in goods with the world last year was nearly $800 billion dollars. And overseas, we have inherited a series of tragic foreign policy disasters. Solving these, and so many other pressing problems, will require us to work past the differences of party. It will require us to tap into the American spirit that has overcome every challenge throughout our long and storied history. But to accomplish our goals at home and abroad, we must restart the engine of the American economy -- making it easier for companies to do business in the United States, and much harder for companies to leave. Right now, American companies are taxed at one of the highest rates anywhere in the world. My economic team is developing historic tax reform that will reduce the tax rate on our companies so they can compete and thrive anywhere and with anyone. At the same time, we will provide massive tax relief for the middle class. We must create a level playing field for American companies and workers. Currently, when we ship products out of America, many other countries make us pay very high tariffs and taxes -- but when foreign companies ship their products into America, we charge them almost nothing. I just met with officials and workers from a great American company, Harley-Davidson. In fact, they proudly displayed five of their magnificent motorcycles, made in the USA, on the front lawn of the White House. At our meeting, I asked them, how are you doing, how is business? They said that it\\'s good. I asked them further how they are doing with other countries, mainly international sales. They told me -- without even complaining because they have been mistreated for so long that they have become used to it -- that it is very hard to do business with other countries because they tax our goods at such a high rate. They said that in one case another country taxed their motorcycles at 100 percent. They weren\\'t even asking for change. But I am. I believe strongly in free trade but it also has to be FAIR TRADE. The first Republican President, Abraham Lincoln, warned that the \"abandonment of the protective policy by the American Government [will] produce want and ruin among our people.\" Lincoln was right -- and it is time we heeded his words. I am not going to let America and its great companies and workers, be taken advantage of anymore. I am going to bring back millions of jobs. Protecting our workers also means reforming our system of legal immigration. The current, outdated system depresses wages for our poorest workers, and puts great pressure on taxpayers. Nations around the world, like Canada, Australia and many others --- have a merit-based immigration system. It is a basic principle that those seeking to enter a country ought to be able to support themselves financially. Yet, in America, we do not enforce this rule, straining the very public resources that our poorest citizens rely upon. According to the National Academy of Sciences, our current immigration system costs America\\'s taxpayers many billions of dollars a year. Switching away from this current system of lower-skilled immigration, and instead adopting a merit-based system, will have many benefits: it will save countless dollars, raise workers\\' wages, and help struggling families --- including immigrant families --- enter the middle class. I believe that real and positive immigration reform is possible, as long as we focus on the following goals: to improve jobs and wages for Americans, to strengthen our nation\\'s security, and to restore respect for our laws. If we are guided by the well-being of American citizens then I believe Republicans and Democrats can work together to achieve an outcome that has eluded our country for decades. Another Republican President, Dwight D. Eisenhower, initiated the last truly great national infrastructure program --- the building of the interstate highway system. The time has come for a new program of national rebuilding. America has spent approximately six trillion dollars in the Middle East, all this while our infrastructure at home is crumbling. With this six trillion dollars we could have rebuilt our country --- twice. And maybe even three times if we had people who had the ability to negotiate. To launch our national rebuilding, I will be asking the Congress to approve legislation that produces a $1 trillion investment in the infrastructure of the United States -- financed through both public and private capital --- creating millions of new jobs. This effort will be guided by two core principles: Buy American, and Hire American. Tonight, I am also calling on this Congress to repeal and replace Obamacare with reforms that expand choice, increase access, lower costs, and at the same time, provide better Healthcare. Mandating every American to buy government-approved health insurance was never the right solution for America. The way to make health insurance available to everyone is to lower the cost of health insurance, and that is what we will do. Obamacare premiums nationwide have increased by double and triple digits. As an example, Arizona went up 116 percent last year alone. Governor Matt Bevin of Kentucky just said Obamacare is failing in his State -- it is unsustainable and collapsing. One third of counties have only one insurer on the exchanges --- leaving many Americans with no choice at all. Remember when you were told that you could keep your doctor, and keep your plan? We now know that all of those promises have been broken. Obamacare is collapsing --- and we must act decisively to protect all Americans. Action is not a choice --- it is a necessity. So I am calling on all Democrats and Republicans in the Congress to work with us to save Americans from this imploding Obamacare disaster. Here are the principles that should guide the Congress as we move to create a better healthcare system for all Americans: First, we should ensure that Americans with pre-existing conditions have access to coverage, and that we have a stable transition for Americans currently enrolled in the healthcare exchanges. Secondly, we should help Americans purchase their own coverage, through the use of tax credits and expanded Health Savings Accounts --- but it must be the plan they want, not the plan forced on them by the Government. Thirdly, we should give our great State Governors the resources and flexibility they need with Medicaid to make sure no one is left out. Fourthly, we should implement legal reforms that protect patients and doctors from unnecessary costs that drive up the price of insurance -- and work to bring down the artificially high price of drugs and bring them down immediately. Finally, the time has come to give Americans the freedom to purchase health insurance across State lines --- creating a truly competitive national marketplace that will bring cost way down and provide far better care. Everything that is broken in our country can be fixed. Every problem can be solved. And every hurting family can find healing, and hope. Our citizens deserve this, and so much more --- so why not join forces to finally get it done? On this and so many other things, Democrats and Republicans should get together and unite for the good of our country, and for the good of the American people. My administration wants to work with members in both parties to make childcare accessible and affordable, to help ensure new parents have paid family leave, to invest in women\\'s health, and to promote clean air and clear water, and to rebuild our military and our infrastructure. True love for our people requires us to find common ground, to advance the common good, and to cooperate on behalf of every American child who deserves a brighter future. An incredible young woman is with us this evening who should serve as an inspiration to us all. Today is Rare Disease day, and joining us in the gallery is a Rare Disease Survivor, Megan Crowley. Megan was diagnosed with Pompe Disease, a rare and serious illness, when she was 15 months old. She was not expected to live past 5. On receiving this news, Megan\\'s dad, John, fought with everything he had to save the life of his precious child. He founded a company to look for a cure, and helped develop the drug that saved Megan\\'s life. Today she is 20 years old -- and a sophomore at Notre Dame. Megan\\'s story is about the unbounded power of a father\\'s love for a daughter. But our slow and burdensome approval process at the Food and Drug Administration keeps too many advances, like the one that saved Megan\\'s life, from reaching those in need. If we slash the restraints, not just at the FDA but across our Government, then we will be blessed with far more miracles like Megan. In fact, our children will grow up in a Nation of miracles. But to achieve this future, we must enrich the mind --- and the souls --- of every American child. Education is the civil rights issue of our time. I am calling upon Members of both parties to pass an education bill that funds school choice for disadvantaged youth, including millions of African-American and Latino children. These families should be free to choose the public, private, charter, magnet, religious or home school that is right for them. Joining us tonight in the gallery is a remarkable woman, Denisha Merriweather. As a young girl, Denisha struggled in school and failed third grade twice. But then she was able to enroll in a private center for learning, with the help of a tax credit scholarship program. Today, she is the first in her family to graduate, not just from high school, but from college. Later this year she will get her masters degree in social work. We want all children to be able to break the cycle of poverty just like Denisha. But to break the cycle of poverty, we must also break the cycle of violence. The murder rate in 2015 experienced its largest single-year increase in nearly half a century. In Chicago, more than 4,000 people were shot last year alone --- and the murder rate so far this year has been even higher. This is not acceptable in our society. Every American child should be able to grow up in a safe community, to attend a great school, and to have access to a high-paying job. But to create this future, we must work with --- not against --- the men and women of law enforcement. We must build bridges of cooperation and trust --- not drive the wedge of disunity and division. Police and sheriffs are members of our community. They are friends and neighbors, they are mothers and fathers, sons and daughters -- and they leave behind loved ones every day who worry whether or not they\\'ll come home safe and sound. We must support the incredible men and women of law enforcement. And we must support the victims of crime. I have ordered the Department of Homeland Security to create an office to serve American Victims. The office is called VOICE --- Victims Of Immigration Crime Engagement. We are providing a voice to those who have been ignored by our media, and silenced by special interests. Joining us in the audience tonight are four very brave Americans whose government failed them. Their names are Jamiel Shaw, Susan Oliver, Jenna Oliver, and Jessica Davis. Jamiel\\'s 17-year-old son was viciously murdered by an illegal immigrant gang member, who had just been released from prison. Jamiel Shaw Jr. was an incredible young man, with unlimited potential who was getting ready to go to college where he would have excelled as a great quarterback. But he never got the chance. His father, who is in the audience tonight, has become a good friend of mine. Also with us are Susan Oliver and Jessica Davis. Their husbands --- Deputy Sheriff Danny Oliver and Detective Michael Davis --- were slain in the line of duty in California. They were pillars of their community. These brave men were viciously gunned down by an illegal immigrant with a criminal record and two prior deportations. Sitting with Susan is her daughter, Jenna. Jenna: I want you to know that your father was a hero, and that tonight you have the love of an entire country supporting you and praying for you. To Jamiel, Jenna, Susan and Jessica: I want you to know --- we will never stop fighting for justice. Your loved ones will never be forgotten, we will always honor their memory. Finally, to keep America Safe we must provide the men and women of the United States military with the tools they need to prevent war and --- if they must --- to fight and to win. I am sending the Congress a budget that rebuilds the military, eliminates the Defense sequester, and calls for one of the largest increases in national defense spending in American history. My budget will also increase funding for our veterans. Our veterans have delivered for this Nation --- and now we must deliver for them. The challenges we face as a Nation are great. But our people are even greater. And none are greater or braver than those who fight for America in uniform. We are blessed to be joined tonight by Carryn Owens, the widow of a U.S. Navy Special Operator, Senior Chief William \"Ryan\" Owens. Ryan died as he lived: a warrior, and a hero --- battling against terrorism and securing our Nation. I just spoke to General Mattis, who reconfirmed that, and I quote, \"Ryan was a part of a highly successful raid that generated large amounts of vital intelligence that will lead to many more victories in the future against our enemies.\" Ryan\\'s legacy is etched into eternity. For as the Bible teaches us, there is no greater act of love than to lay down one\\'s life for one\\'s friends. Ryan laid down his life for his friends, for his country, and for our freedom --- we will never forget him. To those allies who wonder what kind of friend America will be, look no further than the heroes who wear our uniform. Our foreign policy calls for a direct, robust and meaningful engagement with the world. It is American leadership based on vital security interests that we share with our allies across the globe. We strongly support NATO, an alliance forged through the bonds of two World Wars that dethroned fascism, and a Cold War that defeated communism. But our partners must meet their financial obligations. And now, based on our very strong and frank discussions, they are beginning to do just that. We expect our partners, whether in NATO, in the Middle East, or the Pacific --- to take a direct and meaningful role in both strategic and military operations, and pay their fair share of the cost. We will respect historic institutions, but we will also respect the sovereign rights of nations. Free nations are the best vehicle for expressing the will of the people --- and America respects the right of all nations to chart their own path. My job is not to represent the world. My job is to represent the United States of America. But we know that America is better off, when there is less conflict -- not more. We must learn from the mistakes of the past --- we have seen the war and destruction that have raged across our world. The only long-term solution for these humanitarian disasters is to create the conditions where displaced persons can safely return home and begin the long process of rebuilding. America is willing to find new friends, and to forge new partnerships, where shared interests align. We want harmony and stability, not war and conflict. We want peace, wherever peace can be found. America is friends today with former enemies. Some of our closest allies, decades ago, fought on the opposite side of these World Wars. This history should give us all faith in the possibilities for a better world. Hopefully, the 250th year for America will see a world that is more peaceful, more just and more free. On our 100th anniversary, in 1876, citizens from across our Nation came to Philadelphia to celebrate America\\'s centennial. At that celebration, the country\\'s builders and artists and inventors showed off their creations. Alexander Graham Bell displayed his telephone for the first time. Remington unveiled the first typewriter. An early attempt was made at electric light. Thomas Edison showed an automatic telegraph and an electric pen. Imagine the wonders our country could know in America\\'s 250th year. Think of the marvels we can achieve if we simply set free the dreams of our people. Cures to illnesses that have always plagued us are not too much to hope. American footprints on distant worlds are not too big a dream. Millions lifted from welfare to work is not too much to expect. And streets where mothers are safe from fear -- schools where children learn in peace -- and jobs where Americans prosper and grow -- are not too much to ask. When we have all of this, we will have made America greater than ever before. For all Americans. This is our vision. This is our mission. But we can only get there together. We are one people, with one destiny. We all bleed the same blood. We all salute the same flag. And we are all made by the same God. And when we fulfill this vision; when we celebrate our 250 years of glorious freedom, we will look back on tonight as when this new chapter of American Greatness began. The time for small thinking is over. The time for trivial fights is behind us. We just need the courage to share the dreams that fill our hearts. The bravery to express the hopes that stir our souls. And the confidence to turn those hopes and dreams to action. From now on, America will be empowered by our aspirations, not burdened by our fears --- inspired by the future, not bound by the failures of the past --- and guided by our vision, not blinded by our doubts. I am asking all citizens to embrace this Renewal of the American Spirit. I am asking all members of Congress to join me in dreaming big, and bold and daring things for our country. And I am asking everyone watching tonight to seize this moment and -- Believe in yourselves. Believe in your future. And believe, once more, in America. Thank you, God bless you, and God Bless these United States.'"
      ]
     },
     "execution_count": 44,
     "metadata": {},
     "output_type": "execute_result"
    }
   ],
   "source": [
    "with open ('data/trump.txt', 'r', encoding='utf-8') as f:\n",
    "    trump_text = f.read().splitlines()\n",
    "trump_text = ' '.join(trump_text[2:])\n",
    "trump_text                  "
   ]
  },
  {
   "cell_type": "code",
   "execution_count": 45,
   "metadata": {
    "collapsed": false
   },
   "outputs": [
    {
     "data": {
      "text/plain": [
       "(4796, 259)"
      ]
     },
     "execution_count": 45,
     "metadata": {},
     "output_type": "execute_result"
    }
   ],
   "source": [
    "trump_blob = TextBlob(trump_text)\n",
    "num_words = len(trump_blob.words)\n",
    "num_sentences = len(trump_blob.sentences)\n",
    "num_words, num_sentences"
   ]
  },
  {
   "cell_type": "code",
   "execution_count": 46,
   "metadata": {
    "collapsed": false
   },
   "outputs": [
    {
     "data": {
      "text/plain": [
       "22394"
      ]
     },
     "execution_count": 46,
     "metadata": {},
     "output_type": "execute_result"
    }
   ],
   "source": [
    "num_chars = 0\n",
    "for word in trump_blob.words:\n",
    "    num_chars = num_chars + len(word)\n",
    "num_chars"
   ]
  },
  {
   "cell_type": "code",
   "execution_count": 47,
   "metadata": {
    "collapsed": false
   },
   "outputs": [
    {
     "data": {
      "text/plain": [
       "9.821126791631379"
      ]
     },
     "execution_count": 47,
     "metadata": {},
     "output_type": "execute_result"
    }
   ],
   "source": [
    "automated_readability = (4.71 * (num_chars/num_words)) + (0.5 * (num_words/num_sentences)) - 21.43\n",
    "automated_readability"
   ]
  },
  {
   "cell_type": "code",
   "execution_count": 48,
   "metadata": {
    "collapsed": false
   },
   "outputs": [
    {
     "data": {
      "text/plain": [
       "9.821126791631379"
      ]
     },
     "execution_count": 48,
     "metadata": {},
     "output_type": "execute_result"
    }
   ],
   "source": [
    "def calc_auto_readability(chars, words, sentences):\n",
    "    return (4.71 * (chars/words)) + (0.5 * (words/sentences)) - 21.43\n",
    "trump_readability = calc_auto_readability(num_chars, num_words, num_sentences)\n",
    "trump_readability"
   ]
  },
  {
   "cell_type": "code",
   "execution_count": 49,
   "metadata": {
    "collapsed": true
   },
   "outputs": [],
   "source": [
    "def calc_coleman_liau(letters_per_100, sentences_per_100):\n",
    "    return (0.0588 * letters_per_100) - (0.296 * sentences_per_100) - 15.8\n"
   ]
  },
  {
   "cell_type": "code",
   "execution_count": 55,
   "metadata": {
    "collapsed": false
   },
   "outputs": [],
   "source": [
    "def letters_per_100(chars, words):\n",
    "    return (chars/words) * 100\n",
    "    \n",
    "def sentences_per_100(sentences, words):\n",
    "    return (sentences/words) * 100"
   ]
  },
  {
   "cell_type": "code",
   "execution_count": 56,
   "metadata": {
    "collapsed": false
   },
   "outputs": [
    {
     "data": {
      "text/plain": [
       "10.05703085904921"
      ]
     },
     "execution_count": 56,
     "metadata": {},
     "output_type": "execute_result"
    }
   ],
   "source": [
    "trump_letters = letters_per_100(num_chars, num_words)\n",
    "trump_sentences = sentences_per_100(num_sentences, num_words)\n",
    "trump_coleman_read = calc_coleman_liau(trump_letters, trump_sentences)\n",
    "trump_coleman_read"
   ]
  },
  {
   "cell_type": "code",
   "execution_count": null,
   "metadata": {
    "collapsed": true
   },
   "outputs": [],
   "source": []
  }
 ],
 "metadata": {
  "anaconda-cloud": {},
  "kernelspec": {
   "display_name": "Python [conda env:text]",
   "language": "python",
   "name": "conda-env-text-py"
  },
  "language_info": {
   "codemirror_mode": {
    "name": "ipython",
    "version": 3
   },
   "file_extension": ".py",
   "mimetype": "text/x-python",
   "name": "python",
   "nbconvert_exporter": "python",
   "pygments_lexer": "ipython3",
   "version": "3.5.2"
  }
 },
 "nbformat": 4,
 "nbformat_minor": 1
}
